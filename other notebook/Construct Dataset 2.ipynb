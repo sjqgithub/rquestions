{
 "cells": [
  {
   "cell_type": "code",
   "execution_count": 1,
   "metadata": {
    "collapsed": true
   },
   "outputs": [],
   "source": [
    "import numpy as np\n",
    "np.random.seed(2345)\n",
    "\n",
    "import pandas as pd"
   ]
  },
  {
   "cell_type": "code",
   "execution_count": 2,
   "metadata": {
    "collapsed": true
   },
   "outputs": [],
   "source": [
    "questions = pd.read_csv(\"./Questions.csv\", encoding='latin1')\n",
    "answers = pd.read_csv(\"./Answers.csv\", encoding='latin1')\n",
    "tags = pd.read_csv(\"./Tags.csv\", encoding='latin1')"
   ]
  },
  {
   "cell_type": "code",
   "execution_count": 3,
   "metadata": {
    "collapsed": false
   },
   "outputs": [
    {
     "data": {
      "text/html": [
       "<div>\n",
       "<table border=\"1\" class=\"dataframe\">\n",
       "  <thead>\n",
       "    <tr style=\"text-align: right;\">\n",
       "      <th></th>\n",
       "      <th>Id</th>\n",
       "      <th>Tag</th>\n",
       "    </tr>\n",
       "  </thead>\n",
       "  <tbody>\n",
       "    <tr>\n",
       "      <th>0</th>\n",
       "      <td>77434</td>\n",
       "      <td>vector</td>\n",
       "    </tr>\n",
       "    <tr>\n",
       "      <th>1</th>\n",
       "      <td>79709</td>\n",
       "      <td>memory</td>\n",
       "    </tr>\n",
       "    <tr>\n",
       "      <th>2</th>\n",
       "      <td>79709</td>\n",
       "      <td>function</td>\n",
       "    </tr>\n",
       "    <tr>\n",
       "      <th>3</th>\n",
       "      <td>79709</td>\n",
       "      <td>global-variables</td>\n",
       "    </tr>\n",
       "    <tr>\n",
       "      <th>4</th>\n",
       "      <td>79709</td>\n",
       "      <td>side-effects</td>\n",
       "    </tr>\n",
       "  </tbody>\n",
       "</table>\n",
       "</div>"
      ],
      "text/plain": [
       "      Id               Tag\n",
       "0  77434            vector\n",
       "1  79709            memory\n",
       "2  79709          function\n",
       "3  79709  global-variables\n",
       "4  79709      side-effects"
      ]
     },
     "execution_count": 3,
     "metadata": {},
     "output_type": "execute_result"
    }
   ],
   "source": [
    "tags.head()"
   ]
  },
  {
   "cell_type": "code",
   "execution_count": 4,
   "metadata": {
    "collapsed": false
   },
   "outputs": [
    {
     "data": {
      "text/html": [
       "<div>\n",
       "<table border=\"1\" class=\"dataframe\">\n",
       "  <thead>\n",
       "    <tr style=\"text-align: right;\">\n",
       "      <th></th>\n",
       "      <th>Id</th>\n",
       "      <th>OwnerUserId</th>\n",
       "      <th>CreationDate</th>\n",
       "      <th>ParentId</th>\n",
       "      <th>Score</th>\n",
       "      <th>IsAcceptedAnswer</th>\n",
       "      <th>Body</th>\n",
       "    </tr>\n",
       "  </thead>\n",
       "  <tbody>\n",
       "    <tr>\n",
       "      <th>0</th>\n",
       "      <td>79741</td>\n",
       "      <td>3259.0</td>\n",
       "      <td>2008-09-17T03:43:22Z</td>\n",
       "      <td>79709</td>\n",
       "      <td>-1</td>\n",
       "      <td>False</td>\n",
       "      <td>&lt;p&gt;It's tough to say definitively without know...</td>\n",
       "    </tr>\n",
       "    <tr>\n",
       "      <th>1</th>\n",
       "      <td>79768</td>\n",
       "      <td>6043.0</td>\n",
       "      <td>2008-09-17T03:48:29Z</td>\n",
       "      <td>79709</td>\n",
       "      <td>5</td>\n",
       "      <td>False</td>\n",
       "      <td>&lt;p&gt;use variables in the outer function instead...</td>\n",
       "    </tr>\n",
       "    <tr>\n",
       "      <th>2</th>\n",
       "      <td>79779</td>\n",
       "      <td>8002.0</td>\n",
       "      <td>2008-09-17T03:49:36Z</td>\n",
       "      <td>79709</td>\n",
       "      <td>0</td>\n",
       "      <td>False</td>\n",
       "      <td>&lt;p&gt;Third approach: inner function returns a re...</td>\n",
       "    </tr>\n",
       "    <tr>\n",
       "      <th>3</th>\n",
       "      <td>79788</td>\n",
       "      <td>NaN</td>\n",
       "      <td>2008-09-17T03:51:30Z</td>\n",
       "      <td>79709</td>\n",
       "      <td>3</td>\n",
       "      <td>False</td>\n",
       "      <td>&lt;p&gt;It's not going to make much difference to m...</td>\n",
       "    </tr>\n",
       "    <tr>\n",
       "      <th>4</th>\n",
       "      <td>79827</td>\n",
       "      <td>14257.0</td>\n",
       "      <td>2008-09-17T03:58:26Z</td>\n",
       "      <td>79709</td>\n",
       "      <td>1</td>\n",
       "      <td>False</td>\n",
       "      <td>&lt;p&gt;I'm not sure I understand the question, but...</td>\n",
       "    </tr>\n",
       "  </tbody>\n",
       "</table>\n",
       "</div>"
      ],
      "text/plain": [
       "      Id  OwnerUserId          CreationDate  ParentId  Score IsAcceptedAnswer  \\\n",
       "0  79741       3259.0  2008-09-17T03:43:22Z     79709     -1            False   \n",
       "1  79768       6043.0  2008-09-17T03:48:29Z     79709      5            False   \n",
       "2  79779       8002.0  2008-09-17T03:49:36Z     79709      0            False   \n",
       "3  79788          NaN  2008-09-17T03:51:30Z     79709      3            False   \n",
       "4  79827      14257.0  2008-09-17T03:58:26Z     79709      1            False   \n",
       "\n",
       "                                                Body  \n",
       "0  <p>It's tough to say definitively without know...  \n",
       "1  <p>use variables in the outer function instead...  \n",
       "2  <p>Third approach: inner function returns a re...  \n",
       "3  <p>It's not going to make much difference to m...  \n",
       "4  <p>I'm not sure I understand the question, but...  "
      ]
     },
     "execution_count": 4,
     "metadata": {},
     "output_type": "execute_result"
    }
   ],
   "source": [
    "answers.head()"
   ]
  },
  {
   "cell_type": "code",
   "execution_count": 5,
   "metadata": {
    "collapsed": false
   },
   "outputs": [
    {
     "data": {
      "text/html": [
       "<div>\n",
       "<table border=\"1\" class=\"dataframe\">\n",
       "  <thead>\n",
       "    <tr style=\"text-align: right;\">\n",
       "      <th></th>\n",
       "      <th>Id</th>\n",
       "      <th>OwnerUserId</th>\n",
       "      <th>CreationDate</th>\n",
       "      <th>Score</th>\n",
       "      <th>Title</th>\n",
       "      <th>Body</th>\n",
       "    </tr>\n",
       "  </thead>\n",
       "  <tbody>\n",
       "    <tr>\n",
       "      <th>0</th>\n",
       "      <td>77434</td>\n",
       "      <td>14008.0</td>\n",
       "      <td>2008-09-16T21:40:29Z</td>\n",
       "      <td>134</td>\n",
       "      <td>How to access the last value in a vector?</td>\n",
       "      <td>&lt;p&gt;Suppose I have a vector that is nested in a...</td>\n",
       "    </tr>\n",
       "    <tr>\n",
       "      <th>1</th>\n",
       "      <td>79709</td>\n",
       "      <td>NaN</td>\n",
       "      <td>2008-09-17T03:39:16Z</td>\n",
       "      <td>1</td>\n",
       "      <td>Worse sin: side effects or passing massive obj...</td>\n",
       "      <td>&lt;p&gt;I have a function inside a loop inside a fu...</td>\n",
       "    </tr>\n",
       "    <tr>\n",
       "      <th>2</th>\n",
       "      <td>95007</td>\n",
       "      <td>15842.0</td>\n",
       "      <td>2008-09-18T17:59:19Z</td>\n",
       "      <td>48</td>\n",
       "      <td>Explain the quantile() function in R</td>\n",
       "      <td>&lt;p&gt;I've been mystified by the R quantile funct...</td>\n",
       "    </tr>\n",
       "    <tr>\n",
       "      <th>3</th>\n",
       "      <td>103312</td>\n",
       "      <td>NaN</td>\n",
       "      <td>2008-09-19T16:09:26Z</td>\n",
       "      <td>4</td>\n",
       "      <td>How to test for the EOF flag in R?</td>\n",
       "      <td>&lt;p&gt;How can I test for the &lt;code&gt;EOF&lt;/code&gt; fla...</td>\n",
       "    </tr>\n",
       "    <tr>\n",
       "      <th>4</th>\n",
       "      <td>255697</td>\n",
       "      <td>1941213.0</td>\n",
       "      <td>2008-11-01T15:48:30Z</td>\n",
       "      <td>3</td>\n",
       "      <td>Is there an R package for learning a Dirichlet...</td>\n",
       "      <td>&lt;p&gt;I'm looking for a an &lt;code&gt;R&lt;/code&gt; package...</td>\n",
       "    </tr>\n",
       "  </tbody>\n",
       "</table>\n",
       "</div>"
      ],
      "text/plain": [
       "       Id  OwnerUserId          CreationDate  Score  \\\n",
       "0   77434      14008.0  2008-09-16T21:40:29Z    134   \n",
       "1   79709          NaN  2008-09-17T03:39:16Z      1   \n",
       "2   95007      15842.0  2008-09-18T17:59:19Z     48   \n",
       "3  103312          NaN  2008-09-19T16:09:26Z      4   \n",
       "4  255697    1941213.0  2008-11-01T15:48:30Z      3   \n",
       "\n",
       "                                               Title  \\\n",
       "0          How to access the last value in a vector?   \n",
       "1  Worse sin: side effects or passing massive obj...   \n",
       "2               Explain the quantile() function in R   \n",
       "3                 How to test for the EOF flag in R?   \n",
       "4  Is there an R package for learning a Dirichlet...   \n",
       "\n",
       "                                                Body  \n",
       "0  <p>Suppose I have a vector that is nested in a...  \n",
       "1  <p>I have a function inside a loop inside a fu...  \n",
       "2  <p>I've been mystified by the R quantile funct...  \n",
       "3  <p>How can I test for the <code>EOF</code> fla...  \n",
       "4  <p>I'm looking for a an <code>R</code> package...  "
      ]
     },
     "execution_count": 5,
     "metadata": {},
     "output_type": "execute_result"
    }
   ],
   "source": [
    "questions.head()"
   ]
  },
  {
   "cell_type": "code",
   "execution_count": 6,
   "metadata": {
    "collapsed": false
   },
   "outputs": [
    {
     "name": "stdout",
     "output_type": "stream",
     "text": [
      "<class 'pandas.core.frame.DataFrame'>\n",
      "RangeIndex: 147075 entries, 0 to 147074\n",
      "Data columns (total 6 columns):\n",
      "Id              147075 non-null int64\n",
      "OwnerUserId     146129 non-null float64\n",
      "CreationDate    147075 non-null object\n",
      "Score           147075 non-null int64\n",
      "Title           147075 non-null object\n",
      "Body            147075 non-null object\n",
      "dtypes: float64(1), int64(2), object(3)\n",
      "memory usage: 6.7+ MB\n"
     ]
    }
   ],
   "source": [
    "questions.info() # Id Title Body are used for constructing the dataset"
   ]
  },
  {
   "cell_type": "code",
   "execution_count": 7,
   "metadata": {
    "collapsed": false
   },
   "outputs": [
    {
     "name": "stdout",
     "output_type": "stream",
     "text": [
      "<class 'pandas.core.frame.DataFrame'>\n",
      "RangeIndex: 198592 entries, 0 to 198591\n",
      "Data columns (total 7 columns):\n",
      "Id                  198592 non-null int64\n",
      "OwnerUserId         197964 non-null float64\n",
      "CreationDate        198592 non-null object\n",
      "ParentId            198592 non-null int64\n",
      "Score               198592 non-null int64\n",
      "IsAcceptedAnswer    198592 non-null bool\n",
      "Body                198592 non-null object\n",
      "dtypes: bool(1), float64(1), int64(3), object(2)\n",
      "memory usage: 9.3+ MB\n"
     ]
    }
   ],
   "source": [
    "answers.info() # OwnerUserId ParentId IsAcceptedAnswer are used for constructing the dataset, maybe score can be used in the future"
   ]
  },
  {
   "cell_type": "code",
   "execution_count": 8,
   "metadata": {
    "collapsed": false
   },
   "outputs": [
    {
     "name": "stdout",
     "output_type": "stream",
     "text": [
      "<class 'pandas.core.frame.DataFrame'>\n",
      "RangeIndex: 241546 entries, 0 to 241545\n",
      "Data columns (total 2 columns):\n",
      "Id     241546 non-null int64\n",
      "Tag    241485 non-null object\n",
      "dtypes: int64(1), object(1)\n",
      "memory usage: 3.7+ MB\n"
     ]
    }
   ],
   "source": [
    "tags.info() # Id and Tag are useful"
   ]
  },
  {
   "cell_type": "markdown",
   "metadata": {},
   "source": [
    "**先处理questions，数据清洗**"
   ]
  },
  {
   "cell_type": "code",
   "execution_count": 9,
   "metadata": {
    "collapsed": false
   },
   "outputs": [],
   "source": [
    "# extract all the code part \n",
    "temp_code = questions['Body'].str.extractall(r'(<code>[^<]+</code>)')"
   ]
  },
  {
   "cell_type": "code",
   "execution_count": 10,
   "metadata": {
    "collapsed": false
   },
   "outputs": [
    {
     "data": {
      "text/html": [
       "<div>\n",
       "<table border=\"1\" class=\"dataframe\">\n",
       "  <thead>\n",
       "    <tr style=\"text-align: right;\">\n",
       "      <th></th>\n",
       "      <th></th>\n",
       "      <th>0</th>\n",
       "    </tr>\n",
       "    <tr>\n",
       "      <th></th>\n",
       "      <th>match</th>\n",
       "      <th></th>\n",
       "    </tr>\n",
       "  </thead>\n",
       "  <tbody>\n",
       "    <tr>\n",
       "      <th rowspan=\"4\" valign=\"top\">0</th>\n",
       "      <th>0</th>\n",
       "      <td>&lt;code&gt;length()&lt;/code&gt;</td>\n",
       "    </tr>\n",
       "    <tr>\n",
       "      <th>1</th>\n",
       "      <td>&lt;code&gt;$#&lt;/code&gt;</td>\n",
       "    </tr>\n",
       "    <tr>\n",
       "      <th>2</th>\n",
       "      <td>&lt;code&gt;dat$vec1$vec2[$#]\\n&lt;/code&gt;</td>\n",
       "    </tr>\n",
       "    <tr>\n",
       "      <th>3</th>\n",
       "      <td>&lt;code&gt;dat$vec1$vec2[length(dat$vec1$vec2)]\\n&lt;/...</td>\n",
       "    </tr>\n",
       "    <tr>\n",
       "      <th>1</th>\n",
       "      <th>0</th>\n",
       "      <td>&lt;code&gt;for (dataset in list_of_datasets) {\\n  f...</td>\n",
       "    </tr>\n",
       "  </tbody>\n",
       "</table>\n",
       "</div>"
      ],
      "text/plain": [
       "                                                         0\n",
       "  match                                                   \n",
       "0 0                                  <code>length()</code>\n",
       "  1                                        <code>$#</code>\n",
       "  2                       <code>dat$vec1$vec2[$#]\\n</code>\n",
       "  3      <code>dat$vec1$vec2[length(dat$vec1$vec2)]\\n</...\n",
       "1 0      <code>for (dataset in list_of_datasets) {\\n  f..."
      ]
     },
     "execution_count": 10,
     "metadata": {},
     "output_type": "execute_result"
    }
   ],
   "source": [
    "temp_code.head()"
   ]
  },
  {
   "cell_type": "code",
   "execution_count": 11,
   "metadata": {
    "collapsed": true
   },
   "outputs": [],
   "source": [
    "# unstack and convert into a single column for cleaning\n",
    "test = temp_code.unstack('match')\n",
    "\n",
    "test.columns = test.columns.droplevel()\n",
    "# put all columns together\n",
    "code = pd.DataFrame(test.apply(lambda x: x.str.cat(), axis=1,reduce=True))\n",
    "# rename \n",
    "code.columns = ['CodeBody']\n",
    "# remove the html tags finally\n",
    "code['CodeBody'] = code['CodeBody'].str.replace(r'<[^>]+>|\\n|\\r',' ')"
   ]
  },
  {
   "cell_type": "code",
   "execution_count": 12,
   "metadata": {
    "collapsed": true
   },
   "outputs": [],
   "source": [
    "# remove the code part from questions\n",
    "body = questions['Body'].str.replace(r'<code>[^<]+</code>',' ')\n",
    "# build up the question part from questions\n",
    "questions['QuestionBody'] = body.str.replace(r\"<[^>]+>|\\n|\\r\", \" \")"
   ]
  },
  {
   "cell_type": "code",
   "execution_count": 13,
   "metadata": {
    "collapsed": true
   },
   "outputs": [],
   "source": [
    "# Join the codebody by index\n",
    "questions = questions.join(code)\n",
    "# final cleaned dataset\n",
    "questions_final = questions.drop('Body',axis=1)"
   ]
  },
  {
   "cell_type": "code",
   "execution_count": 14,
   "metadata": {
    "collapsed": false
   },
   "outputs": [
    {
     "data": {
      "text/html": [
       "<div>\n",
       "<table border=\"1\" class=\"dataframe\">\n",
       "  <thead>\n",
       "    <tr style=\"text-align: right;\">\n",
       "      <th></th>\n",
       "      <th>Id</th>\n",
       "      <th>OwnerUserId</th>\n",
       "      <th>CreationDate</th>\n",
       "      <th>Score</th>\n",
       "      <th>Title</th>\n",
       "      <th>QuestionBody</th>\n",
       "      <th>CodeBody</th>\n",
       "    </tr>\n",
       "  </thead>\n",
       "  <tbody>\n",
       "    <tr>\n",
       "      <th>0</th>\n",
       "      <td>77434</td>\n",
       "      <td>14008.0</td>\n",
       "      <td>2008-09-16T21:40:29Z</td>\n",
       "      <td>134</td>\n",
       "      <td>How to access the last value in a vector?</td>\n",
       "      <td>Suppose I have a vector that is nested in a d...</td>\n",
       "      <td>length()  $#  dat$vec1$vec2[$#]   dat$vec1$ve...</td>\n",
       "    </tr>\n",
       "    <tr>\n",
       "      <th>1</th>\n",
       "      <td>79709</td>\n",
       "      <td>NaN</td>\n",
       "      <td>2008-09-17T03:39:16Z</td>\n",
       "      <td>1</td>\n",
       "      <td>Worse sin: side effects or passing massive obj...</td>\n",
       "      <td>I have a function inside a loop inside a func...</td>\n",
       "      <td>for (dataset in list_of_datasets) {   for (da...</td>\n",
       "    </tr>\n",
       "    <tr>\n",
       "      <th>2</th>\n",
       "      <td>95007</td>\n",
       "      <td>15842.0</td>\n",
       "      <td>2008-09-18T17:59:19Z</td>\n",
       "      <td>48</td>\n",
       "      <td>Explain the quantile() function in R</td>\n",
       "      <td>I've been mystified by the R quantile functio...</td>\n",
       "      <td>NaN</td>\n",
       "    </tr>\n",
       "    <tr>\n",
       "      <th>3</th>\n",
       "      <td>103312</td>\n",
       "      <td>NaN</td>\n",
       "      <td>2008-09-19T16:09:26Z</td>\n",
       "      <td>4</td>\n",
       "      <td>How to test for the EOF flag in R?</td>\n",
       "      <td>How can I test for the   flag in R?     For e...</td>\n",
       "      <td>EOF  f &amp;lt;- file(fname, \"rb\") while (???) { ...</td>\n",
       "    </tr>\n",
       "    <tr>\n",
       "      <th>4</th>\n",
       "      <td>255697</td>\n",
       "      <td>1941213.0</td>\n",
       "      <td>2008-11-01T15:48:30Z</td>\n",
       "      <td>3</td>\n",
       "      <td>Is there an R package for learning a Dirichlet...</td>\n",
       "      <td>I'm looking for a an   package which can be u...</td>\n",
       "      <td>R  R</td>\n",
       "    </tr>\n",
       "  </tbody>\n",
       "</table>\n",
       "</div>"
      ],
      "text/plain": [
       "       Id  OwnerUserId          CreationDate  Score  \\\n",
       "0   77434      14008.0  2008-09-16T21:40:29Z    134   \n",
       "1   79709          NaN  2008-09-17T03:39:16Z      1   \n",
       "2   95007      15842.0  2008-09-18T17:59:19Z     48   \n",
       "3  103312          NaN  2008-09-19T16:09:26Z      4   \n",
       "4  255697    1941213.0  2008-11-01T15:48:30Z      3   \n",
       "\n",
       "                                               Title  \\\n",
       "0          How to access the last value in a vector?   \n",
       "1  Worse sin: side effects or passing massive obj...   \n",
       "2               Explain the quantile() function in R   \n",
       "3                 How to test for the EOF flag in R?   \n",
       "4  Is there an R package for learning a Dirichlet...   \n",
       "\n",
       "                                        QuestionBody  \\\n",
       "0   Suppose I have a vector that is nested in a d...   \n",
       "1   I have a function inside a loop inside a func...   \n",
       "2   I've been mystified by the R quantile functio...   \n",
       "3   How can I test for the   flag in R?     For e...   \n",
       "4   I'm looking for a an   package which can be u...   \n",
       "\n",
       "                                            CodeBody  \n",
       "0   length()  $#  dat$vec1$vec2[$#]   dat$vec1$ve...  \n",
       "1   for (dataset in list_of_datasets) {   for (da...  \n",
       "2                                                NaN  \n",
       "3   EOF  f &lt;- file(fname, \"rb\") while (???) { ...  \n",
       "4                                              R  R   "
      ]
     },
     "execution_count": 14,
     "metadata": {},
     "output_type": "execute_result"
    }
   ],
   "source": [
    "questions_final.head()"
   ]
  },
  {
   "cell_type": "code",
   "execution_count": 15,
   "metadata": {
    "collapsed": false
   },
   "outputs": [
    {
     "name": "stdout",
     "output_type": "stream",
     "text": [
      "<class 'pandas.core.frame.DataFrame'>\n",
      "RangeIndex: 147075 entries, 0 to 147074\n",
      "Data columns (total 7 columns):\n",
      "Id              147075 non-null int64\n",
      "OwnerUserId     146129 non-null float64\n",
      "CreationDate    147075 non-null object\n",
      "Score           147075 non-null int64\n",
      "Title           147075 non-null object\n",
      "QuestionBody    147075 non-null object\n",
      "CodeBody        134507 non-null object\n",
      "dtypes: float64(1), int64(2), object(4)\n",
      "memory usage: 7.9+ MB\n"
     ]
    }
   ],
   "source": [
    "questions_final.info()"
   ]
  },
  {
   "cell_type": "markdown",
   "metadata": {},
   "source": [
    "**再处理tags,将其拼在questions后**"
   ]
  },
  {
   "cell_type": "code",
   "execution_count": 16,
   "metadata": {
    "collapsed": true
   },
   "outputs": [],
   "source": [
    "tags = tags[tags.Tag.notnull()]"
   ]
  },
  {
   "cell_type": "code",
   "execution_count": 17,
   "metadata": {
    "collapsed": true
   },
   "outputs": [],
   "source": [
    "tagsByquestion = tags.groupby('Id',as_index=False).agg(lambda x: ' '.join(x))"
   ]
  },
  {
   "cell_type": "code",
   "execution_count": 18,
   "metadata": {
    "collapsed": false
   },
   "outputs": [
    {
     "data": {
      "text/html": [
       "<div>\n",
       "<table border=\"1\" class=\"dataframe\">\n",
       "  <thead>\n",
       "    <tr style=\"text-align: right;\">\n",
       "      <th></th>\n",
       "      <th>Id</th>\n",
       "      <th>Tag</th>\n",
       "    </tr>\n",
       "  </thead>\n",
       "  <tbody>\n",
       "    <tr>\n",
       "      <th>0</th>\n",
       "      <td>77434</td>\n",
       "      <td>vector</td>\n",
       "    </tr>\n",
       "    <tr>\n",
       "      <th>1</th>\n",
       "      <td>79709</td>\n",
       "      <td>memory function global-variables side-effects</td>\n",
       "    </tr>\n",
       "    <tr>\n",
       "      <th>2</th>\n",
       "      <td>95007</td>\n",
       "      <td>math statistics</td>\n",
       "    </tr>\n",
       "    <tr>\n",
       "      <th>3</th>\n",
       "      <td>103312</td>\n",
       "      <td>file file-io eof</td>\n",
       "    </tr>\n",
       "    <tr>\n",
       "      <th>4</th>\n",
       "      <td>255697</td>\n",
       "      <td>math statistics bayesian dirichlet</td>\n",
       "    </tr>\n",
       "  </tbody>\n",
       "</table>\n",
       "</div>"
      ],
      "text/plain": [
       "       Id                                            Tag\n",
       "0   77434                                         vector\n",
       "1   79709  memory function global-variables side-effects\n",
       "2   95007                                math statistics\n",
       "3  103312                               file file-io eof\n",
       "4  255697             math statistics bayesian dirichlet"
      ]
     },
     "execution_count": 18,
     "metadata": {},
     "output_type": "execute_result"
    }
   ],
   "source": [
    "tagsByquestion.head()"
   ]
  },
  {
   "cell_type": "code",
   "execution_count": 19,
   "metadata": {
    "collapsed": false
   },
   "outputs": [
    {
     "name": "stdout",
     "output_type": "stream",
     "text": [
      "<class 'pandas.core.frame.DataFrame'>\n",
      "Int64Index: 121862 entries, 0 to 121861\n",
      "Data columns (total 2 columns):\n",
      "Id     121862 non-null int64\n",
      "Tag    121862 non-null object\n",
      "dtypes: int64(1), object(1)\n",
      "memory usage: 2.8+ MB\n"
     ]
    }
   ],
   "source": [
    "tagsByquestion.info()"
   ]
  },
  {
   "cell_type": "code",
   "execution_count": 20,
   "metadata": {
    "collapsed": false
   },
   "outputs": [],
   "source": [
    "questions_tags = questions_final.merge(tagsByquestion,on='Id',how='left')"
   ]
  },
  {
   "cell_type": "code",
   "execution_count": 21,
   "metadata": {
    "collapsed": false
   },
   "outputs": [
    {
     "data": {
      "text/html": [
       "<div>\n",
       "<table border=\"1\" class=\"dataframe\">\n",
       "  <thead>\n",
       "    <tr style=\"text-align: right;\">\n",
       "      <th></th>\n",
       "      <th>Id</th>\n",
       "      <th>OwnerUserId</th>\n",
       "      <th>CreationDate</th>\n",
       "      <th>Score</th>\n",
       "      <th>Title</th>\n",
       "      <th>QuestionBody</th>\n",
       "      <th>CodeBody</th>\n",
       "      <th>Tag</th>\n",
       "    </tr>\n",
       "  </thead>\n",
       "  <tbody>\n",
       "    <tr>\n",
       "      <th>0</th>\n",
       "      <td>77434</td>\n",
       "      <td>14008.0</td>\n",
       "      <td>2008-09-16T21:40:29Z</td>\n",
       "      <td>134</td>\n",
       "      <td>How to access the last value in a vector?</td>\n",
       "      <td>Suppose I have a vector that is nested in a d...</td>\n",
       "      <td>length()  $#  dat$vec1$vec2[$#]   dat$vec1$ve...</td>\n",
       "      <td>vector</td>\n",
       "    </tr>\n",
       "    <tr>\n",
       "      <th>1</th>\n",
       "      <td>79709</td>\n",
       "      <td>NaN</td>\n",
       "      <td>2008-09-17T03:39:16Z</td>\n",
       "      <td>1</td>\n",
       "      <td>Worse sin: side effects or passing massive obj...</td>\n",
       "      <td>I have a function inside a loop inside a func...</td>\n",
       "      <td>for (dataset in list_of_datasets) {   for (da...</td>\n",
       "      <td>memory function global-variables side-effects</td>\n",
       "    </tr>\n",
       "    <tr>\n",
       "      <th>2</th>\n",
       "      <td>95007</td>\n",
       "      <td>15842.0</td>\n",
       "      <td>2008-09-18T17:59:19Z</td>\n",
       "      <td>48</td>\n",
       "      <td>Explain the quantile() function in R</td>\n",
       "      <td>I've been mystified by the R quantile functio...</td>\n",
       "      <td>NaN</td>\n",
       "      <td>math statistics</td>\n",
       "    </tr>\n",
       "    <tr>\n",
       "      <th>3</th>\n",
       "      <td>103312</td>\n",
       "      <td>NaN</td>\n",
       "      <td>2008-09-19T16:09:26Z</td>\n",
       "      <td>4</td>\n",
       "      <td>How to test for the EOF flag in R?</td>\n",
       "      <td>How can I test for the   flag in R?     For e...</td>\n",
       "      <td>EOF  f &amp;lt;- file(fname, \"rb\") while (???) { ...</td>\n",
       "      <td>file file-io eof</td>\n",
       "    </tr>\n",
       "    <tr>\n",
       "      <th>4</th>\n",
       "      <td>255697</td>\n",
       "      <td>1941213.0</td>\n",
       "      <td>2008-11-01T15:48:30Z</td>\n",
       "      <td>3</td>\n",
       "      <td>Is there an R package for learning a Dirichlet...</td>\n",
       "      <td>I'm looking for a an   package which can be u...</td>\n",
       "      <td>R  R</td>\n",
       "      <td>math statistics bayesian dirichlet</td>\n",
       "    </tr>\n",
       "  </tbody>\n",
       "</table>\n",
       "</div>"
      ],
      "text/plain": [
       "       Id  OwnerUserId          CreationDate  Score  \\\n",
       "0   77434      14008.0  2008-09-16T21:40:29Z    134   \n",
       "1   79709          NaN  2008-09-17T03:39:16Z      1   \n",
       "2   95007      15842.0  2008-09-18T17:59:19Z     48   \n",
       "3  103312          NaN  2008-09-19T16:09:26Z      4   \n",
       "4  255697    1941213.0  2008-11-01T15:48:30Z      3   \n",
       "\n",
       "                                               Title  \\\n",
       "0          How to access the last value in a vector?   \n",
       "1  Worse sin: side effects or passing massive obj...   \n",
       "2               Explain the quantile() function in R   \n",
       "3                 How to test for the EOF flag in R?   \n",
       "4  Is there an R package for learning a Dirichlet...   \n",
       "\n",
       "                                        QuestionBody  \\\n",
       "0   Suppose I have a vector that is nested in a d...   \n",
       "1   I have a function inside a loop inside a func...   \n",
       "2   I've been mystified by the R quantile functio...   \n",
       "3   How can I test for the   flag in R?     For e...   \n",
       "4   I'm looking for a an   package which can be u...   \n",
       "\n",
       "                                            CodeBody  \\\n",
       "0   length()  $#  dat$vec1$vec2[$#]   dat$vec1$ve...   \n",
       "1   for (dataset in list_of_datasets) {   for (da...   \n",
       "2                                                NaN   \n",
       "3   EOF  f &lt;- file(fname, \"rb\") while (???) { ...   \n",
       "4                                              R  R    \n",
       "\n",
       "                                             Tag  \n",
       "0                                         vector  \n",
       "1  memory function global-variables side-effects  \n",
       "2                                math statistics  \n",
       "3                               file file-io eof  \n",
       "4             math statistics bayesian dirichlet  "
      ]
     },
     "execution_count": 21,
     "metadata": {},
     "output_type": "execute_result"
    }
   ],
   "source": [
    "questions_tags.head()"
   ]
  },
  {
   "cell_type": "code",
   "execution_count": 22,
   "metadata": {
    "collapsed": false
   },
   "outputs": [
    {
     "name": "stdout",
     "output_type": "stream",
     "text": [
      "<class 'pandas.core.frame.DataFrame'>\n",
      "Int64Index: 147075 entries, 0 to 147074\n",
      "Data columns (total 8 columns):\n",
      "Id              147075 non-null int64\n",
      "OwnerUserId     146129 non-null float64\n",
      "CreationDate    147075 non-null object\n",
      "Score           147075 non-null int64\n",
      "Title           147075 non-null object\n",
      "QuestionBody    147075 non-null object\n",
      "CodeBody        134507 non-null object\n",
      "Tag             121862 non-null object\n",
      "dtypes: float64(1), int64(2), object(5)\n",
      "memory usage: 10.1+ MB\n"
     ]
    }
   ],
   "source": [
    "questions_tags.info()"
   ]
  },
  {
   "cell_type": "code",
   "execution_count": 23,
   "metadata": {
    "collapsed": true
   },
   "outputs": [],
   "source": [
    "questions_tags = questions_tags.drop(['OwnerUserId','CreationDate','Score'], axis=1)"
   ]
  },
  {
   "cell_type": "code",
   "execution_count": 24,
   "metadata": {
    "collapsed": false
   },
   "outputs": [
    {
     "data": {
      "text/html": [
       "<div>\n",
       "<table border=\"1\" class=\"dataframe\">\n",
       "  <thead>\n",
       "    <tr style=\"text-align: right;\">\n",
       "      <th></th>\n",
       "      <th>Id</th>\n",
       "      <th>Title</th>\n",
       "      <th>QuestionBody</th>\n",
       "      <th>CodeBody</th>\n",
       "      <th>Tag</th>\n",
       "    </tr>\n",
       "  </thead>\n",
       "  <tbody>\n",
       "    <tr>\n",
       "      <th>0</th>\n",
       "      <td>77434</td>\n",
       "      <td>How to access the last value in a vector?</td>\n",
       "      <td>Suppose I have a vector that is nested in a d...</td>\n",
       "      <td>length()  $#  dat$vec1$vec2[$#]   dat$vec1$ve...</td>\n",
       "      <td>vector</td>\n",
       "    </tr>\n",
       "    <tr>\n",
       "      <th>1</th>\n",
       "      <td>79709</td>\n",
       "      <td>Worse sin: side effects or passing massive obj...</td>\n",
       "      <td>I have a function inside a loop inside a func...</td>\n",
       "      <td>for (dataset in list_of_datasets) {   for (da...</td>\n",
       "      <td>memory function global-variables side-effects</td>\n",
       "    </tr>\n",
       "    <tr>\n",
       "      <th>2</th>\n",
       "      <td>95007</td>\n",
       "      <td>Explain the quantile() function in R</td>\n",
       "      <td>I've been mystified by the R quantile functio...</td>\n",
       "      <td>NaN</td>\n",
       "      <td>math statistics</td>\n",
       "    </tr>\n",
       "    <tr>\n",
       "      <th>3</th>\n",
       "      <td>103312</td>\n",
       "      <td>How to test for the EOF flag in R?</td>\n",
       "      <td>How can I test for the   flag in R?     For e...</td>\n",
       "      <td>EOF  f &amp;lt;- file(fname, \"rb\") while (???) { ...</td>\n",
       "      <td>file file-io eof</td>\n",
       "    </tr>\n",
       "    <tr>\n",
       "      <th>4</th>\n",
       "      <td>255697</td>\n",
       "      <td>Is there an R package for learning a Dirichlet...</td>\n",
       "      <td>I'm looking for a an   package which can be u...</td>\n",
       "      <td>R  R</td>\n",
       "      <td>math statistics bayesian dirichlet</td>\n",
       "    </tr>\n",
       "  </tbody>\n",
       "</table>\n",
       "</div>"
      ],
      "text/plain": [
       "       Id                                              Title  \\\n",
       "0   77434          How to access the last value in a vector?   \n",
       "1   79709  Worse sin: side effects or passing massive obj...   \n",
       "2   95007               Explain the quantile() function in R   \n",
       "3  103312                 How to test for the EOF flag in R?   \n",
       "4  255697  Is there an R package for learning a Dirichlet...   \n",
       "\n",
       "                                        QuestionBody  \\\n",
       "0   Suppose I have a vector that is nested in a d...   \n",
       "1   I have a function inside a loop inside a func...   \n",
       "2   I've been mystified by the R quantile functio...   \n",
       "3   How can I test for the   flag in R?     For e...   \n",
       "4   I'm looking for a an   package which can be u...   \n",
       "\n",
       "                                            CodeBody  \\\n",
       "0   length()  $#  dat$vec1$vec2[$#]   dat$vec1$ve...   \n",
       "1   for (dataset in list_of_datasets) {   for (da...   \n",
       "2                                                NaN   \n",
       "3   EOF  f &lt;- file(fname, \"rb\") while (???) { ...   \n",
       "4                                              R  R    \n",
       "\n",
       "                                             Tag  \n",
       "0                                         vector  \n",
       "1  memory function global-variables side-effects  \n",
       "2                                math statistics  \n",
       "3                               file file-io eof  \n",
       "4             math statistics bayesian dirichlet  "
      ]
     },
     "execution_count": 24,
     "metadata": {},
     "output_type": "execute_result"
    }
   ],
   "source": [
    "questions_tags.head()"
   ]
  },
  {
   "cell_type": "code",
   "execution_count": 25,
   "metadata": {
    "collapsed": false
   },
   "outputs": [
    {
     "name": "stdout",
     "output_type": "stream",
     "text": [
      "<class 'pandas.core.frame.DataFrame'>\n",
      "Int64Index: 147075 entries, 0 to 147074\n",
      "Data columns (total 5 columns):\n",
      "Id              147075 non-null int64\n",
      "Title           147075 non-null object\n",
      "QuestionBody    147075 non-null object\n",
      "CodeBody        134507 non-null object\n",
      "Tag             121862 non-null object\n",
      "dtypes: int64(1), object(4)\n",
      "memory usage: 6.7+ MB\n"
     ]
    }
   ],
   "source": [
    "questions_tags.info()"
   ]
  },
  {
   "cell_type": "markdown",
   "metadata": {},
   "source": [
    "**再处理answers，找出有最佳回答的问题**"
   ]
  },
  {
   "cell_type": "code",
   "execution_count": 26,
   "metadata": {
    "collapsed": true
   },
   "outputs": [],
   "source": [
    "accepted_answers = answers[answers.IsAcceptedAnswer == True]"
   ]
  },
  {
   "cell_type": "code",
   "execution_count": 27,
   "metadata": {
    "collapsed": false
   },
   "outputs": [
    {
     "data": {
      "text/html": [
       "<div>\n",
       "<table border=\"1\" class=\"dataframe\">\n",
       "  <thead>\n",
       "    <tr style=\"text-align: right;\">\n",
       "      <th></th>\n",
       "      <th>Id</th>\n",
       "      <th>OwnerUserId</th>\n",
       "      <th>CreationDate</th>\n",
       "      <th>ParentId</th>\n",
       "      <th>Score</th>\n",
       "      <th>IsAcceptedAnswer</th>\n",
       "      <th>Body</th>\n",
       "    </tr>\n",
       "  </thead>\n",
       "  <tbody>\n",
       "    <tr>\n",
       "      <th>12</th>\n",
       "      <td>255992</td>\n",
       "      <td>23263.0</td>\n",
       "      <td>2008-11-01T19:29:54Z</td>\n",
       "      <td>255697</td>\n",
       "      <td>2</td>\n",
       "      <td>True</td>\n",
       "      <td>&lt;p&gt;I've only come across both R and the Dirich...</td>\n",
       "    </tr>\n",
       "    <tr>\n",
       "      <th>13</th>\n",
       "      <td>359458</td>\n",
       "      <td>3201.0</td>\n",
       "      <td>2008-12-11T14:06:56Z</td>\n",
       "      <td>359438</td>\n",
       "      <td>2</td>\n",
       "      <td>True</td>\n",
       "      <td>&lt;p&gt;I have used &lt;a href=\"http://cran.r-project....</td>\n",
       "    </tr>\n",
       "    <tr>\n",
       "      <th>15</th>\n",
       "      <td>440066</td>\n",
       "      <td>37751.0</td>\n",
       "      <td>2009-01-13T18:00:54Z</td>\n",
       "      <td>439526</td>\n",
       "      <td>8</td>\n",
       "      <td>True</td>\n",
       "      <td>&lt;p&gt;Clearly I should have worked on this for an...</td>\n",
       "    </tr>\n",
       "    <tr>\n",
       "      <th>18</th>\n",
       "      <td>455286</td>\n",
       "      <td>54904.0</td>\n",
       "      <td>2009-01-18T15:12:24Z</td>\n",
       "      <td>445059</td>\n",
       "      <td>7</td>\n",
       "      <td>True</td>\n",
       "      <td>&lt;p&gt;Here's what seems like another very R-type ...</td>\n",
       "    </tr>\n",
       "    <tr>\n",
       "      <th>19</th>\n",
       "      <td>467131</td>\n",
       "      <td>57626.0</td>\n",
       "      <td>2009-01-21T21:38:10Z</td>\n",
       "      <td>467110</td>\n",
       "      <td>11</td>\n",
       "      <td>True</td>\n",
       "      <td>&lt;p&gt;In most cases R is an interpreted language ...</td>\n",
       "    </tr>\n",
       "  </tbody>\n",
       "</table>\n",
       "</div>"
      ],
      "text/plain": [
       "        Id  OwnerUserId          CreationDate  ParentId  Score  \\\n",
       "12  255992      23263.0  2008-11-01T19:29:54Z    255697      2   \n",
       "13  359458       3201.0  2008-12-11T14:06:56Z    359438      2   \n",
       "15  440066      37751.0  2009-01-13T18:00:54Z    439526      8   \n",
       "18  455286      54904.0  2009-01-18T15:12:24Z    445059      7   \n",
       "19  467131      57626.0  2009-01-21T21:38:10Z    467110     11   \n",
       "\n",
       "   IsAcceptedAnswer                                               Body  \n",
       "12             True  <p>I've only come across both R and the Dirich...  \n",
       "13             True  <p>I have used <a href=\"http://cran.r-project....  \n",
       "15             True  <p>Clearly I should have worked on this for an...  \n",
       "18             True  <p>Here's what seems like another very R-type ...  \n",
       "19             True  <p>In most cases R is an interpreted language ...  "
      ]
     },
     "execution_count": 27,
     "metadata": {},
     "output_type": "execute_result"
    }
   ],
   "source": [
    "accepted_answers.head()"
   ]
  },
  {
   "cell_type": "code",
   "execution_count": 28,
   "metadata": {
    "collapsed": false
   },
   "outputs": [
    {
     "name": "stdout",
     "output_type": "stream",
     "text": [
      "<class 'pandas.core.frame.DataFrame'>\n",
      "Int64Index: 87661 entries, 12 to 198588\n",
      "Data columns (total 7 columns):\n",
      "Id                  87661 non-null int64\n",
      "OwnerUserId         87404 non-null float64\n",
      "CreationDate        87661 non-null object\n",
      "ParentId            87661 non-null int64\n",
      "Score               87661 non-null int64\n",
      "IsAcceptedAnswer    87661 non-null bool\n",
      "Body                87661 non-null object\n",
      "dtypes: bool(1), float64(1), int64(3), object(2)\n",
      "memory usage: 4.8+ MB\n"
     ]
    }
   ],
   "source": [
    "accepted_answers.info()"
   ]
  },
  {
   "cell_type": "code",
   "execution_count": 29,
   "metadata": {
    "collapsed": true
   },
   "outputs": [],
   "source": [
    "%matplotlib inline"
   ]
  },
  {
   "cell_type": "code",
   "execution_count": 30,
   "metadata": {
    "collapsed": false
   },
   "outputs": [
    {
     "data": {
      "text/plain": [
       "<matplotlib.axes._subplots.AxesSubplot at 0x84c1f860>"
      ]
     },
     "execution_count": 30,
     "metadata": {},
     "output_type": "execute_result"
    },
    {
     "data": {
      "image/png": "[encoded data removed]",
      "text/plain": [
       "<matplotlib.figure.Figure at 0x566a8160>"
      ]
     },
     "metadata": {},
     "output_type": "display_data"
    }
   ],
   "source": [
    "# Let's compute the number of best answers the experts have proposed:\n",
    "accepted_answers[\"OwnerUserId\"].value_counts().head(10).plot(kind=\"barh\")"
   ]
  },
  {
   "cell_type": "code",
   "execution_count": 31,
   "metadata": {
    "collapsed": false
   },
   "outputs": [
    {
     "data": {
      "text/plain": [
       "3732271.0    4380\n",
       "1855677.0    1954\n",
       "2372064.0    1495\n",
       "1270695.0    1360\n",
       "1412059.0    1102\n",
       "143305.0     1083\n",
       "190277.0     1075\n",
       "516548.0      995\n",
       "1838509.0     991\n",
       "271616.0      927\n",
       "Name: OwnerUserId, dtype: int64"
      ]
     },
     "execution_count": 31,
     "metadata": {},
     "output_type": "execute_result"
    }
   ],
   "source": [
    "accepted_answers[\"OwnerUserId\"].value_counts().head(10)"
   ]
  },
  {
   "cell_type": "code",
   "execution_count": 32,
   "metadata": {
    "collapsed": true
   },
   "outputs": [],
   "source": [
    "accepted_answers = accepted_answers.drop(['Id','CreationDate','Score','IsAcceptedAnswer' ,'Body'], axis=1)"
   ]
  },
  {
   "cell_type": "code",
   "execution_count": 33,
   "metadata": {
    "collapsed": false
   },
   "outputs": [],
   "source": [
    "col_mapping = {'OwnerUserId' : 'ExpertId',\n",
    "               'ParentId' : 'Id'}\n",
    "accepted_answers = accepted_answers.rename(columns=col_mapping, copy = False)"
   ]
  },
  {
   "cell_type": "code",
   "execution_count": 34,
   "metadata": {
    "collapsed": false
   },
   "outputs": [
    {
     "data": {
      "text/html": [
       "<div>\n",
       "<table border=\"1\" class=\"dataframe\">\n",
       "  <thead>\n",
       "    <tr style=\"text-align: right;\">\n",
       "      <th></th>\n",
       "      <th>ExpertId</th>\n",
       "      <th>Id</th>\n",
       "    </tr>\n",
       "  </thead>\n",
       "  <tbody>\n",
       "    <tr>\n",
       "      <th>12</th>\n",
       "      <td>23263.0</td>\n",
       "      <td>255697</td>\n",
       "    </tr>\n",
       "    <tr>\n",
       "      <th>13</th>\n",
       "      <td>3201.0</td>\n",
       "      <td>359438</td>\n",
       "    </tr>\n",
       "    <tr>\n",
       "      <th>15</th>\n",
       "      <td>37751.0</td>\n",
       "      <td>439526</td>\n",
       "    </tr>\n",
       "    <tr>\n",
       "      <th>18</th>\n",
       "      <td>54904.0</td>\n",
       "      <td>445059</td>\n",
       "    </tr>\n",
       "    <tr>\n",
       "      <th>19</th>\n",
       "      <td>57626.0</td>\n",
       "      <td>467110</td>\n",
       "    </tr>\n",
       "  </tbody>\n",
       "</table>\n",
       "</div>"
      ],
      "text/plain": [
       "    ExpertId      Id\n",
       "12   23263.0  255697\n",
       "13    3201.0  359438\n",
       "15   37751.0  439526\n",
       "18   54904.0  445059\n",
       "19   57626.0  467110"
      ]
     },
     "execution_count": 34,
     "metadata": {},
     "output_type": "execute_result"
    }
   ],
   "source": [
    "accepted_answers.head()"
   ]
  },
  {
   "cell_type": "code",
   "execution_count": 35,
   "metadata": {
    "collapsed": false
   },
   "outputs": [
    {
     "name": "stdout",
     "output_type": "stream",
     "text": [
      "<class 'pandas.core.frame.DataFrame'>\n",
      "Int64Index: 87661 entries, 12 to 198588\n",
      "Data columns (total 2 columns):\n",
      "ExpertId    87404 non-null float64\n",
      "Id          87661 non-null int64\n",
      "dtypes: float64(1), int64(1)\n",
      "memory usage: 2.0 MB\n"
     ]
    }
   ],
   "source": [
    "accepted_answers.info()"
   ]
  },
  {
   "cell_type": "code",
   "execution_count": 36,
   "metadata": {
    "collapsed": false
   },
   "outputs": [],
   "source": [
    "accepted_answers = accepted_answers.dropna()"
   ]
  },
  {
   "cell_type": "code",
   "execution_count": 37,
   "metadata": {
    "collapsed": false
   },
   "outputs": [
    {
     "name": "stdout",
     "output_type": "stream",
     "text": [
      "<class 'pandas.core.frame.DataFrame'>\n",
      "Int64Index: 87404 entries, 12 to 198588\n",
      "Data columns (total 2 columns):\n",
      "ExpertId    87404 non-null float64\n",
      "Id          87404 non-null int64\n",
      "dtypes: float64(1), int64(1)\n",
      "memory usage: 2.0 MB\n"
     ]
    }
   ],
   "source": [
    "accepted_answers.info()"
   ]
  },
  {
   "cell_type": "code",
   "execution_count": 38,
   "metadata": {
    "collapsed": true
   },
   "outputs": [],
   "source": [
    "unique_expert = accepted_answers.ExpertId.unique()"
   ]
  },
  {
   "cell_type": "code",
   "execution_count": 39,
   "metadata": {
    "collapsed": false
   },
   "outputs": [
    {
     "data": {
      "text/plain": [
       "(9004L,)"
      ]
     },
     "execution_count": 39,
     "metadata": {},
     "output_type": "execute_result"
    }
   ],
   "source": [
    "unique_expert.shape"
   ]
  },
  {
   "cell_type": "code",
   "execution_count": 54,
   "metadata": {
    "collapsed": true
   },
   "outputs": [],
   "source": [
    "count = accepted_answers['ExpertId'].value_counts()"
   ]
  },
  {
   "cell_type": "code",
   "execution_count": 55,
   "metadata": {
    "collapsed": true
   },
   "outputs": [],
   "source": [
    "count_df = pd.DataFrame(count)"
   ]
  },
  {
   "cell_type": "code",
   "execution_count": 56,
   "metadata": {
    "collapsed": false
   },
   "outputs": [],
   "source": [
    "count_df = count_df.reset_index()"
   ]
  },
  {
   "cell_type": "code",
   "execution_count": 57,
   "metadata": {
    "collapsed": false
   },
   "outputs": [
    {
     "data": {
      "text/html": [
       "<div>\n",
       "<table border=\"1\" class=\"dataframe\">\n",
       "  <thead>\n",
       "    <tr style=\"text-align: right;\">\n",
       "      <th></th>\n",
       "      <th>index</th>\n",
       "      <th>ExpertId</th>\n",
       "    </tr>\n",
       "  </thead>\n",
       "  <tbody>\n",
       "    <tr>\n",
       "      <th>0</th>\n",
       "      <td>3732271.0</td>\n",
       "      <td>4380</td>\n",
       "    </tr>\n",
       "    <tr>\n",
       "      <th>1</th>\n",
       "      <td>1855677.0</td>\n",
       "      <td>1954</td>\n",
       "    </tr>\n",
       "    <tr>\n",
       "      <th>2</th>\n",
       "      <td>2372064.0</td>\n",
       "      <td>1495</td>\n",
       "    </tr>\n",
       "    <tr>\n",
       "      <th>3</th>\n",
       "      <td>1270695.0</td>\n",
       "      <td>1360</td>\n",
       "    </tr>\n",
       "    <tr>\n",
       "      <th>4</th>\n",
       "      <td>1412059.0</td>\n",
       "      <td>1102</td>\n",
       "    </tr>\n",
       "    <tr>\n",
       "      <th>5</th>\n",
       "      <td>143305.0</td>\n",
       "      <td>1083</td>\n",
       "    </tr>\n",
       "    <tr>\n",
       "      <th>6</th>\n",
       "      <td>190277.0</td>\n",
       "      <td>1075</td>\n",
       "    </tr>\n",
       "    <tr>\n",
       "      <th>7</th>\n",
       "      <td>516548.0</td>\n",
       "      <td>995</td>\n",
       "    </tr>\n",
       "    <tr>\n",
       "      <th>8</th>\n",
       "      <td>1838509.0</td>\n",
       "      <td>991</td>\n",
       "    </tr>\n",
       "    <tr>\n",
       "      <th>9</th>\n",
       "      <td>271616.0</td>\n",
       "      <td>927</td>\n",
       "    </tr>\n",
       "    <tr>\n",
       "      <th>10</th>\n",
       "      <td>324364.0</td>\n",
       "      <td>899</td>\n",
       "    </tr>\n",
       "    <tr>\n",
       "      <th>11</th>\n",
       "      <td>980833.0</td>\n",
       "      <td>832</td>\n",
       "    </tr>\n",
       "    <tr>\n",
       "      <th>12</th>\n",
       "      <td>3063910.0</td>\n",
       "      <td>776</td>\n",
       "    </tr>\n",
       "    <tr>\n",
       "      <th>13</th>\n",
       "      <td>1627235.0</td>\n",
       "      <td>753</td>\n",
       "    </tr>\n",
       "    <tr>\n",
       "      <th>14</th>\n",
       "      <td>3001626.0</td>\n",
       "      <td>729</td>\n",
       "    </tr>\n",
       "    <tr>\n",
       "      <th>15</th>\n",
       "      <td>559784.0</td>\n",
       "      <td>726</td>\n",
       "    </tr>\n",
       "    <tr>\n",
       "      <th>16</th>\n",
       "      <td>429846.0</td>\n",
       "      <td>711</td>\n",
       "    </tr>\n",
       "    <tr>\n",
       "      <th>17</th>\n",
       "      <td>602276.0</td>\n",
       "      <td>656</td>\n",
       "    </tr>\n",
       "    <tr>\n",
       "      <th>18</th>\n",
       "      <td>1201032.0</td>\n",
       "      <td>652</td>\n",
       "    </tr>\n",
       "    <tr>\n",
       "      <th>19</th>\n",
       "      <td>2985007.0</td>\n",
       "      <td>637</td>\n",
       "    </tr>\n",
       "    <tr>\n",
       "      <th>20</th>\n",
       "      <td>1385941.0</td>\n",
       "      <td>579</td>\n",
       "    </tr>\n",
       "    <tr>\n",
       "      <th>21</th>\n",
       "      <td>1857266.0</td>\n",
       "      <td>548</td>\n",
       "    </tr>\n",
       "    <tr>\n",
       "      <th>22</th>\n",
       "      <td>1457051.0</td>\n",
       "      <td>540</td>\n",
       "    </tr>\n",
       "    <tr>\n",
       "      <th>23</th>\n",
       "      <td>1327739.0</td>\n",
       "      <td>539</td>\n",
       "    </tr>\n",
       "    <tr>\n",
       "      <th>24</th>\n",
       "      <td>496803.0</td>\n",
       "      <td>497</td>\n",
       "    </tr>\n",
       "    <tr>\n",
       "      <th>25</th>\n",
       "      <td>3093387.0</td>\n",
       "      <td>486</td>\n",
       "    </tr>\n",
       "    <tr>\n",
       "      <th>26</th>\n",
       "      <td>496488.0</td>\n",
       "      <td>484</td>\n",
       "    </tr>\n",
       "    <tr>\n",
       "      <th>27</th>\n",
       "      <td>211116.0</td>\n",
       "      <td>469</td>\n",
       "    </tr>\n",
       "    <tr>\n",
       "      <th>28</th>\n",
       "      <td>903061.0</td>\n",
       "      <td>443</td>\n",
       "    </tr>\n",
       "    <tr>\n",
       "      <th>29</th>\n",
       "      <td>2725969.0</td>\n",
       "      <td>414</td>\n",
       "    </tr>\n",
       "    <tr>\n",
       "      <th>...</th>\n",
       "      <td>...</td>\n",
       "      <td>...</td>\n",
       "    </tr>\n",
       "    <tr>\n",
       "      <th>8974</th>\n",
       "      <td>623518.0</td>\n",
       "      <td>1</td>\n",
       "    </tr>\n",
       "    <tr>\n",
       "      <th>8975</th>\n",
       "      <td>4615298.0</td>\n",
       "      <td>1</td>\n",
       "    </tr>\n",
       "    <tr>\n",
       "      <th>8976</th>\n",
       "      <td>1016716.0</td>\n",
       "      <td>1</td>\n",
       "    </tr>\n",
       "    <tr>\n",
       "      <th>8977</th>\n",
       "      <td>1153897.0</td>\n",
       "      <td>1</td>\n",
       "    </tr>\n",
       "    <tr>\n",
       "      <th>8978</th>\n",
       "      <td>970171.0</td>\n",
       "      <td>1</td>\n",
       "    </tr>\n",
       "    <tr>\n",
       "      <th>8979</th>\n",
       "      <td>5664255.0</td>\n",
       "      <td>1</td>\n",
       "    </tr>\n",
       "    <tr>\n",
       "      <th>8980</th>\n",
       "      <td>970195.0</td>\n",
       "      <td>1</td>\n",
       "    </tr>\n",
       "    <tr>\n",
       "      <th>8981</th>\n",
       "      <td>1016714.0</td>\n",
       "      <td>1</td>\n",
       "    </tr>\n",
       "    <tr>\n",
       "      <th>8982</th>\n",
       "      <td>576668.0</td>\n",
       "      <td>1</td>\n",
       "    </tr>\n",
       "    <tr>\n",
       "      <th>8983</th>\n",
       "      <td>1247080.0</td>\n",
       "      <td>1</td>\n",
       "    </tr>\n",
       "    <tr>\n",
       "      <th>8984</th>\n",
       "      <td>27678.0</td>\n",
       "      <td>1</td>\n",
       "    </tr>\n",
       "    <tr>\n",
       "      <th>8985</th>\n",
       "      <td>3018549.0</td>\n",
       "      <td>1</td>\n",
       "    </tr>\n",
       "    <tr>\n",
       "      <th>8986</th>\n",
       "      <td>3353500.0</td>\n",
       "      <td>1</td>\n",
       "    </tr>\n",
       "    <tr>\n",
       "      <th>8987</th>\n",
       "      <td>2304944.0</td>\n",
       "      <td>1</td>\n",
       "    </tr>\n",
       "    <tr>\n",
       "      <th>8988</th>\n",
       "      <td>2829414.0</td>\n",
       "      <td>1</td>\n",
       "    </tr>\n",
       "    <tr>\n",
       "      <th>8989</th>\n",
       "      <td>5658870.0</td>\n",
       "      <td>1</td>\n",
       "    </tr>\n",
       "    <tr>\n",
       "      <th>8990</th>\n",
       "      <td>4989385.0</td>\n",
       "      <td>1</td>\n",
       "    </tr>\n",
       "    <tr>\n",
       "      <th>8991</th>\n",
       "      <td>3353760.0</td>\n",
       "      <td>1</td>\n",
       "    </tr>\n",
       "    <tr>\n",
       "      <th>8992</th>\n",
       "      <td>2829605.0</td>\n",
       "      <td>1</td>\n",
       "    </tr>\n",
       "    <tr>\n",
       "      <th>8993</th>\n",
       "      <td>3878253.0</td>\n",
       "      <td>1</td>\n",
       "    </tr>\n",
       "    <tr>\n",
       "      <th>8994</th>\n",
       "      <td>3018873.0</td>\n",
       "      <td>1</td>\n",
       "    </tr>\n",
       "    <tr>\n",
       "      <th>8995</th>\n",
       "      <td>5659679.0</td>\n",
       "      <td>1</td>\n",
       "    </tr>\n",
       "    <tr>\n",
       "      <th>8996</th>\n",
       "      <td>2829961.0</td>\n",
       "      <td>1</td>\n",
       "    </tr>\n",
       "    <tr>\n",
       "      <th>8997</th>\n",
       "      <td>4611417.0</td>\n",
       "      <td>1</td>\n",
       "    </tr>\n",
       "    <tr>\n",
       "      <th>8998</th>\n",
       "      <td>4611622.0</td>\n",
       "      <td>1</td>\n",
       "    </tr>\n",
       "    <tr>\n",
       "      <th>8999</th>\n",
       "      <td>5660437.0</td>\n",
       "      <td>1</td>\n",
       "    </tr>\n",
       "    <tr>\n",
       "      <th>9000</th>\n",
       "      <td>419338.0</td>\n",
       "      <td>1</td>\n",
       "    </tr>\n",
       "    <tr>\n",
       "      <th>9001</th>\n",
       "      <td>5661391.0</td>\n",
       "      <td>1</td>\n",
       "    </tr>\n",
       "    <tr>\n",
       "      <th>9002</th>\n",
       "      <td>4988601.0</td>\n",
       "      <td>1</td>\n",
       "    </tr>\n",
       "    <tr>\n",
       "      <th>9003</th>\n",
       "      <td>5559163.0</td>\n",
       "      <td>1</td>\n",
       "    </tr>\n",
       "  </tbody>\n",
       "</table>\n",
       "<p>9004 rows × 2 columns</p>\n",
       "</div>"
      ],
      "text/plain": [
       "          index  ExpertId\n",
       "0     3732271.0      4380\n",
       "1     1855677.0      1954\n",
       "2     2372064.0      1495\n",
       "3     1270695.0      1360\n",
       "4     1412059.0      1102\n",
       "5      143305.0      1083\n",
       "6      190277.0      1075\n",
       "7      516548.0       995\n",
       "8     1838509.0       991\n",
       "9      271616.0       927\n",
       "10     324364.0       899\n",
       "11     980833.0       832\n",
       "12    3063910.0       776\n",
       "13    1627235.0       753\n",
       "14    3001626.0       729\n",
       "15     559784.0       726\n",
       "16     429846.0       711\n",
       "17     602276.0       656\n",
       "18    1201032.0       652\n",
       "19    2985007.0       637\n",
       "20    1385941.0       579\n",
       "21    1857266.0       548\n",
       "22    1457051.0       540\n",
       "23    1327739.0       539\n",
       "24     496803.0       497\n",
       "25    3093387.0       486\n",
       "26     496488.0       484\n",
       "27     211116.0       469\n",
       "28     903061.0       443\n",
       "29    2725969.0       414\n",
       "...         ...       ...\n",
       "8974   623518.0         1\n",
       "8975  4615298.0         1\n",
       "8976  1016716.0         1\n",
       "8977  1153897.0         1\n",
       "8978   970171.0         1\n",
       "8979  5664255.0         1\n",
       "8980   970195.0         1\n",
       "8981  1016714.0         1\n",
       "8982   576668.0         1\n",
       "8983  1247080.0         1\n",
       "8984    27678.0         1\n",
       "8985  3018549.0         1\n",
       "8986  3353500.0         1\n",
       "8987  2304944.0         1\n",
       "8988  2829414.0         1\n",
       "8989  5658870.0         1\n",
       "8990  4989385.0         1\n",
       "8991  3353760.0         1\n",
       "8992  2829605.0         1\n",
       "8993  3878253.0         1\n",
       "8994  3018873.0         1\n",
       "8995  5659679.0         1\n",
       "8996  2829961.0         1\n",
       "8997  4611417.0         1\n",
       "8998  4611622.0         1\n",
       "8999  5660437.0         1\n",
       "9000   419338.0         1\n",
       "9001  5661391.0         1\n",
       "9002  4988601.0         1\n",
       "9003  5559163.0         1\n",
       "\n",
       "[9004 rows x 2 columns]"
      ]
     },
     "execution_count": 57,
     "metadata": {},
     "output_type": "execute_result"
    }
   ],
   "source": [
    "count_df"
   ]
  },
  {
   "cell_type": "code",
   "execution_count": 58,
   "metadata": {
    "collapsed": true
   },
   "outputs": [],
   "source": [
    "col_mapping2 = {'ExpertId' : 'Count',\n",
    "                'index' : 'ExpertId'}\n",
    "count_df = count_df.rename(columns=col_mapping2, copy = False)"
   ]
  },
  {
   "cell_type": "code",
   "execution_count": 59,
   "metadata": {
    "collapsed": false
   },
   "outputs": [
    {
     "data": {
      "text/html": [
       "<div>\n",
       "<table border=\"1\" class=\"dataframe\">\n",
       "  <thead>\n",
       "    <tr style=\"text-align: right;\">\n",
       "      <th></th>\n",
       "      <th>ExpertId</th>\n",
       "      <th>Count</th>\n",
       "    </tr>\n",
       "  </thead>\n",
       "  <tbody>\n",
       "    <tr>\n",
       "      <th>0</th>\n",
       "      <td>3732271.0</td>\n",
       "      <td>4380</td>\n",
       "    </tr>\n",
       "    <tr>\n",
       "      <th>1</th>\n",
       "      <td>1855677.0</td>\n",
       "      <td>1954</td>\n",
       "    </tr>\n",
       "    <tr>\n",
       "      <th>2</th>\n",
       "      <td>2372064.0</td>\n",
       "      <td>1495</td>\n",
       "    </tr>\n",
       "    <tr>\n",
       "      <th>3</th>\n",
       "      <td>1270695.0</td>\n",
       "      <td>1360</td>\n",
       "    </tr>\n",
       "    <tr>\n",
       "      <th>4</th>\n",
       "      <td>1412059.0</td>\n",
       "      <td>1102</td>\n",
       "    </tr>\n",
       "    <tr>\n",
       "      <th>5</th>\n",
       "      <td>143305.0</td>\n",
       "      <td>1083</td>\n",
       "    </tr>\n",
       "    <tr>\n",
       "      <th>6</th>\n",
       "      <td>190277.0</td>\n",
       "      <td>1075</td>\n",
       "    </tr>\n",
       "    <tr>\n",
       "      <th>7</th>\n",
       "      <td>516548.0</td>\n",
       "      <td>995</td>\n",
       "    </tr>\n",
       "    <tr>\n",
       "      <th>8</th>\n",
       "      <td>1838509.0</td>\n",
       "      <td>991</td>\n",
       "    </tr>\n",
       "    <tr>\n",
       "      <th>9</th>\n",
       "      <td>271616.0</td>\n",
       "      <td>927</td>\n",
       "    </tr>\n",
       "    <tr>\n",
       "      <th>10</th>\n",
       "      <td>324364.0</td>\n",
       "      <td>899</td>\n",
       "    </tr>\n",
       "    <tr>\n",
       "      <th>11</th>\n",
       "      <td>980833.0</td>\n",
       "      <td>832</td>\n",
       "    </tr>\n",
       "    <tr>\n",
       "      <th>12</th>\n",
       "      <td>3063910.0</td>\n",
       "      <td>776</td>\n",
       "    </tr>\n",
       "    <tr>\n",
       "      <th>13</th>\n",
       "      <td>1627235.0</td>\n",
       "      <td>753</td>\n",
       "    </tr>\n",
       "    <tr>\n",
       "      <th>14</th>\n",
       "      <td>3001626.0</td>\n",
       "      <td>729</td>\n",
       "    </tr>\n",
       "    <tr>\n",
       "      <th>15</th>\n",
       "      <td>559784.0</td>\n",
       "      <td>726</td>\n",
       "    </tr>\n",
       "    <tr>\n",
       "      <th>16</th>\n",
       "      <td>429846.0</td>\n",
       "      <td>711</td>\n",
       "    </tr>\n",
       "    <tr>\n",
       "      <th>17</th>\n",
       "      <td>602276.0</td>\n",
       "      <td>656</td>\n",
       "    </tr>\n",
       "    <tr>\n",
       "      <th>18</th>\n",
       "      <td>1201032.0</td>\n",
       "      <td>652</td>\n",
       "    </tr>\n",
       "    <tr>\n",
       "      <th>19</th>\n",
       "      <td>2985007.0</td>\n",
       "      <td>637</td>\n",
       "    </tr>\n",
       "    <tr>\n",
       "      <th>20</th>\n",
       "      <td>1385941.0</td>\n",
       "      <td>579</td>\n",
       "    </tr>\n",
       "    <tr>\n",
       "      <th>21</th>\n",
       "      <td>1857266.0</td>\n",
       "      <td>548</td>\n",
       "    </tr>\n",
       "    <tr>\n",
       "      <th>22</th>\n",
       "      <td>1457051.0</td>\n",
       "      <td>540</td>\n",
       "    </tr>\n",
       "    <tr>\n",
       "      <th>23</th>\n",
       "      <td>1327739.0</td>\n",
       "      <td>539</td>\n",
       "    </tr>\n",
       "    <tr>\n",
       "      <th>24</th>\n",
       "      <td>496803.0</td>\n",
       "      <td>497</td>\n",
       "    </tr>\n",
       "    <tr>\n",
       "      <th>25</th>\n",
       "      <td>3093387.0</td>\n",
       "      <td>486</td>\n",
       "    </tr>\n",
       "    <tr>\n",
       "      <th>26</th>\n",
       "      <td>496488.0</td>\n",
       "      <td>484</td>\n",
       "    </tr>\n",
       "    <tr>\n",
       "      <th>27</th>\n",
       "      <td>211116.0</td>\n",
       "      <td>469</td>\n",
       "    </tr>\n",
       "    <tr>\n",
       "      <th>28</th>\n",
       "      <td>903061.0</td>\n",
       "      <td>443</td>\n",
       "    </tr>\n",
       "    <tr>\n",
       "      <th>29</th>\n",
       "      <td>2725969.0</td>\n",
       "      <td>414</td>\n",
       "    </tr>\n",
       "    <tr>\n",
       "      <th>...</th>\n",
       "      <td>...</td>\n",
       "      <td>...</td>\n",
       "    </tr>\n",
       "    <tr>\n",
       "      <th>8974</th>\n",
       "      <td>623518.0</td>\n",
       "      <td>1</td>\n",
       "    </tr>\n",
       "    <tr>\n",
       "      <th>8975</th>\n",
       "      <td>4615298.0</td>\n",
       "      <td>1</td>\n",
       "    </tr>\n",
       "    <tr>\n",
       "      <th>8976</th>\n",
       "      <td>1016716.0</td>\n",
       "      <td>1</td>\n",
       "    </tr>\n",
       "    <tr>\n",
       "      <th>8977</th>\n",
       "      <td>1153897.0</td>\n",
       "      <td>1</td>\n",
       "    </tr>\n",
       "    <tr>\n",
       "      <th>8978</th>\n",
       "      <td>970171.0</td>\n",
       "      <td>1</td>\n",
       "    </tr>\n",
       "    <tr>\n",
       "      <th>8979</th>\n",
       "      <td>5664255.0</td>\n",
       "      <td>1</td>\n",
       "    </tr>\n",
       "    <tr>\n",
       "      <th>8980</th>\n",
       "      <td>970195.0</td>\n",
       "      <td>1</td>\n",
       "    </tr>\n",
       "    <tr>\n",
       "      <th>8981</th>\n",
       "      <td>1016714.0</td>\n",
       "      <td>1</td>\n",
       "    </tr>\n",
       "    <tr>\n",
       "      <th>8982</th>\n",
       "      <td>576668.0</td>\n",
       "      <td>1</td>\n",
       "    </tr>\n",
       "    <tr>\n",
       "      <th>8983</th>\n",
       "      <td>1247080.0</td>\n",
       "      <td>1</td>\n",
       "    </tr>\n",
       "    <tr>\n",
       "      <th>8984</th>\n",
       "      <td>27678.0</td>\n",
       "      <td>1</td>\n",
       "    </tr>\n",
       "    <tr>\n",
       "      <th>8985</th>\n",
       "      <td>3018549.0</td>\n",
       "      <td>1</td>\n",
       "    </tr>\n",
       "    <tr>\n",
       "      <th>8986</th>\n",
       "      <td>3353500.0</td>\n",
       "      <td>1</td>\n",
       "    </tr>\n",
       "    <tr>\n",
       "      <th>8987</th>\n",
       "      <td>2304944.0</td>\n",
       "      <td>1</td>\n",
       "    </tr>\n",
       "    <tr>\n",
       "      <th>8988</th>\n",
       "      <td>2829414.0</td>\n",
       "      <td>1</td>\n",
       "    </tr>\n",
       "    <tr>\n",
       "      <th>8989</th>\n",
       "      <td>5658870.0</td>\n",
       "      <td>1</td>\n",
       "    </tr>\n",
       "    <tr>\n",
       "      <th>8990</th>\n",
       "      <td>4989385.0</td>\n",
       "      <td>1</td>\n",
       "    </tr>\n",
       "    <tr>\n",
       "      <th>8991</th>\n",
       "      <td>3353760.0</td>\n",
       "      <td>1</td>\n",
       "    </tr>\n",
       "    <tr>\n",
       "      <th>8992</th>\n",
       "      <td>2829605.0</td>\n",
       "      <td>1</td>\n",
       "    </tr>\n",
       "    <tr>\n",
       "      <th>8993</th>\n",
       "      <td>3878253.0</td>\n",
       "      <td>1</td>\n",
       "    </tr>\n",
       "    <tr>\n",
       "      <th>8994</th>\n",
       "      <td>3018873.0</td>\n",
       "      <td>1</td>\n",
       "    </tr>\n",
       "    <tr>\n",
       "      <th>8995</th>\n",
       "      <td>5659679.0</td>\n",
       "      <td>1</td>\n",
       "    </tr>\n",
       "    <tr>\n",
       "      <th>8996</th>\n",
       "      <td>2829961.0</td>\n",
       "      <td>1</td>\n",
       "    </tr>\n",
       "    <tr>\n",
       "      <th>8997</th>\n",
       "      <td>4611417.0</td>\n",
       "      <td>1</td>\n",
       "    </tr>\n",
       "    <tr>\n",
       "      <th>8998</th>\n",
       "      <td>4611622.0</td>\n",
       "      <td>1</td>\n",
       "    </tr>\n",
       "    <tr>\n",
       "      <th>8999</th>\n",
       "      <td>5660437.0</td>\n",
       "      <td>1</td>\n",
       "    </tr>\n",
       "    <tr>\n",
       "      <th>9000</th>\n",
       "      <td>419338.0</td>\n",
       "      <td>1</td>\n",
       "    </tr>\n",
       "    <tr>\n",
       "      <th>9001</th>\n",
       "      <td>5661391.0</td>\n",
       "      <td>1</td>\n",
       "    </tr>\n",
       "    <tr>\n",
       "      <th>9002</th>\n",
       "      <td>4988601.0</td>\n",
       "      <td>1</td>\n",
       "    </tr>\n",
       "    <tr>\n",
       "      <th>9003</th>\n",
       "      <td>5559163.0</td>\n",
       "      <td>1</td>\n",
       "    </tr>\n",
       "  </tbody>\n",
       "</table>\n",
       "<p>9004 rows × 2 columns</p>\n",
       "</div>"
      ],
      "text/plain": [
       "       ExpertId  Count\n",
       "0     3732271.0   4380\n",
       "1     1855677.0   1954\n",
       "2     2372064.0   1495\n",
       "3     1270695.0   1360\n",
       "4     1412059.0   1102\n",
       "5      143305.0   1083\n",
       "6      190277.0   1075\n",
       "7      516548.0    995\n",
       "8     1838509.0    991\n",
       "9      271616.0    927\n",
       "10     324364.0    899\n",
       "11     980833.0    832\n",
       "12    3063910.0    776\n",
       "13    1627235.0    753\n",
       "14    3001626.0    729\n",
       "15     559784.0    726\n",
       "16     429846.0    711\n",
       "17     602276.0    656\n",
       "18    1201032.0    652\n",
       "19    2985007.0    637\n",
       "20    1385941.0    579\n",
       "21    1857266.0    548\n",
       "22    1457051.0    540\n",
       "23    1327739.0    539\n",
       "24     496803.0    497\n",
       "25    3093387.0    486\n",
       "26     496488.0    484\n",
       "27     211116.0    469\n",
       "28     903061.0    443\n",
       "29    2725969.0    414\n",
       "...         ...    ...\n",
       "8974   623518.0      1\n",
       "8975  4615298.0      1\n",
       "8976  1016716.0      1\n",
       "8977  1153897.0      1\n",
       "8978   970171.0      1\n",
       "8979  5664255.0      1\n",
       "8980   970195.0      1\n",
       "8981  1016714.0      1\n",
       "8982   576668.0      1\n",
       "8983  1247080.0      1\n",
       "8984    27678.0      1\n",
       "8985  3018549.0      1\n",
       "8986  3353500.0      1\n",
       "8987  2304944.0      1\n",
       "8988  2829414.0      1\n",
       "8989  5658870.0      1\n",
       "8990  4989385.0      1\n",
       "8991  3353760.0      1\n",
       "8992  2829605.0      1\n",
       "8993  3878253.0      1\n",
       "8994  3018873.0      1\n",
       "8995  5659679.0      1\n",
       "8996  2829961.0      1\n",
       "8997  4611417.0      1\n",
       "8998  4611622.0      1\n",
       "8999  5660437.0      1\n",
       "9000   419338.0      1\n",
       "9001  5661391.0      1\n",
       "9002  4988601.0      1\n",
       "9003  5559163.0      1\n",
       "\n",
       "[9004 rows x 2 columns]"
      ]
     },
     "execution_count": 59,
     "metadata": {},
     "output_type": "execute_result"
    }
   ],
   "source": [
    "count_df"
   ]
  },
  {
   "cell_type": "markdown",
   "metadata": {},
   "source": [
    "**整合数据**"
   ]
  },
  {
   "cell_type": "code",
   "execution_count": 60,
   "metadata": {
    "collapsed": true
   },
   "outputs": [],
   "source": [
    "questions_answers = questions_tags.merge(accepted_answers,on='Id',how='right')"
   ]
  },
  {
   "cell_type": "code",
   "execution_count": 61,
   "metadata": {
    "collapsed": false
   },
   "outputs": [
    {
     "data": {
      "text/plain": [
       "pandas.core.frame.DataFrame"
      ]
     },
     "execution_count": 61,
     "metadata": {},
     "output_type": "execute_result"
    }
   ],
   "source": [
    "type(questions_answers)"
   ]
  },
  {
   "cell_type": "code",
   "execution_count": 62,
   "metadata": {
    "collapsed": false
   },
   "outputs": [
    {
     "data": {
      "text/html": [
       "<div>\n",
       "<table border=\"1\" class=\"dataframe\">\n",
       "  <thead>\n",
       "    <tr style=\"text-align: right;\">\n",
       "      <th></th>\n",
       "      <th>Id</th>\n",
       "      <th>Title</th>\n",
       "      <th>QuestionBody</th>\n",
       "      <th>CodeBody</th>\n",
       "      <th>Tag</th>\n",
       "      <th>ExpertId</th>\n",
       "    </tr>\n",
       "  </thead>\n",
       "  <tbody>\n",
       "    <tr>\n",
       "      <th>0</th>\n",
       "      <td>95007</td>\n",
       "      <td>Explain the quantile() function in R</td>\n",
       "      <td>I've been mystified by the R quantile functio...</td>\n",
       "      <td>NaN</td>\n",
       "      <td>math statistics</td>\n",
       "      <td>79513.0</td>\n",
       "    </tr>\n",
       "    <tr>\n",
       "      <th>1</th>\n",
       "      <td>255697</td>\n",
       "      <td>Is there an R package for learning a Dirichlet...</td>\n",
       "      <td>I'm looking for a an   package which can be u...</td>\n",
       "      <td>R  R</td>\n",
       "      <td>math statistics bayesian dirichlet</td>\n",
       "      <td>23263.0</td>\n",
       "    </tr>\n",
       "    <tr>\n",
       "      <th>2</th>\n",
       "      <td>359438</td>\n",
       "      <td>Optimization packages for R</td>\n",
       "      <td>Does anyone know of any optimization packages...</td>\n",
       "      <td>NaN</td>\n",
       "      <td>mathematical-optimization</td>\n",
       "      <td>3201.0</td>\n",
       "    </tr>\n",
       "    <tr>\n",
       "      <th>3</th>\n",
       "      <td>439526</td>\n",
       "      <td>Thinking in Vectors with R</td>\n",
       "      <td>I know that R works most efficiently with vec...</td>\n",
       "      <td>st  p1  p2  st&amp;lt;-NULL p1&amp;lt;-NULL p2&amp;lt;-NU...</td>\n",
       "      <td>vector</td>\n",
       "      <td>37751.0</td>\n",
       "    </tr>\n",
       "    <tr>\n",
       "      <th>4</th>\n",
       "      <td>445059</td>\n",
       "      <td>Vectorize my thinking: Vector Operations in R</td>\n",
       "      <td>So earlier I answered my own question on thin...</td>\n",
       "      <td>for (j in my.data$item[my.data$fixed==0]) { #...</td>\n",
       "      <td>vector</td>\n",
       "      <td>54904.0</td>\n",
       "    </tr>\n",
       "  </tbody>\n",
       "</table>\n",
       "</div>"
      ],
      "text/plain": [
       "       Id                                              Title  \\\n",
       "0   95007               Explain the quantile() function in R   \n",
       "1  255697  Is there an R package for learning a Dirichlet...   \n",
       "2  359438                        Optimization packages for R   \n",
       "3  439526                         Thinking in Vectors with R   \n",
       "4  445059      Vectorize my thinking: Vector Operations in R   \n",
       "\n",
       "                                        QuestionBody  \\\n",
       "0   I've been mystified by the R quantile functio...   \n",
       "1   I'm looking for a an   package which can be u...   \n",
       "2   Does anyone know of any optimization packages...   \n",
       "3   I know that R works most efficiently with vec...   \n",
       "4   So earlier I answered my own question on thin...   \n",
       "\n",
       "                                            CodeBody  \\\n",
       "0                                                NaN   \n",
       "1                                              R  R    \n",
       "2                                                NaN   \n",
       "3   st  p1  p2  st&lt;-NULL p1&lt;-NULL p2&lt;-NU...   \n",
       "4   for (j in my.data$item[my.data$fixed==0]) { #...   \n",
       "\n",
       "                                  Tag  ExpertId  \n",
       "0                     math statistics   79513.0  \n",
       "1  math statistics bayesian dirichlet   23263.0  \n",
       "2           mathematical-optimization    3201.0  \n",
       "3                              vector   37751.0  \n",
       "4                              vector   54904.0  "
      ]
     },
     "execution_count": 62,
     "metadata": {},
     "output_type": "execute_result"
    }
   ],
   "source": [
    "questions_answers.head()"
   ]
  },
  {
   "cell_type": "code",
   "execution_count": 63,
   "metadata": {
    "collapsed": false
   },
   "outputs": [
    {
     "name": "stdout",
     "output_type": "stream",
     "text": [
      "<class 'pandas.core.frame.DataFrame'>\n",
      "Int64Index: 87404 entries, 0 to 87403\n",
      "Data columns (total 6 columns):\n",
      "Id              87404 non-null int64\n",
      "Title           87404 non-null object\n",
      "QuestionBody    87404 non-null object\n",
      "CodeBody        81701 non-null object\n",
      "Tag             71861 non-null object\n",
      "ExpertId        87404 non-null float64\n",
      "dtypes: float64(1), int64(1), object(4)\n",
      "memory usage: 4.7+ MB\n"
     ]
    }
   ],
   "source": [
    "questions_answers.info()"
   ]
  },
  {
   "cell_type": "code",
   "execution_count": 64,
   "metadata": {
    "collapsed": true
   },
   "outputs": [],
   "source": [
    "experts_count = questions_answers.merge(count_df, on='ExpertId', how='left')"
   ]
  },
  {
   "cell_type": "code",
   "execution_count": 65,
   "metadata": {
    "collapsed": false
   },
   "outputs": [
    {
     "data": {
      "text/html": [
       "<div>\n",
       "<table border=\"1\" class=\"dataframe\">\n",
       "  <thead>\n",
       "    <tr style=\"text-align: right;\">\n",
       "      <th></th>\n",
       "      <th>Id</th>\n",
       "      <th>Title</th>\n",
       "      <th>QuestionBody</th>\n",
       "      <th>CodeBody</th>\n",
       "      <th>Tag</th>\n",
       "      <th>ExpertId</th>\n",
       "      <th>Count</th>\n",
       "    </tr>\n",
       "  </thead>\n",
       "  <tbody>\n",
       "    <tr>\n",
       "      <th>0</th>\n",
       "      <td>95007</td>\n",
       "      <td>Explain the quantile() function in R</td>\n",
       "      <td>I've been mystified by the R quantile functio...</td>\n",
       "      <td>NaN</td>\n",
       "      <td>math statistics</td>\n",
       "      <td>79513.0</td>\n",
       "      <td>1</td>\n",
       "    </tr>\n",
       "    <tr>\n",
       "      <th>1</th>\n",
       "      <td>255697</td>\n",
       "      <td>Is there an R package for learning a Dirichlet...</td>\n",
       "      <td>I'm looking for a an   package which can be u...</td>\n",
       "      <td>R  R</td>\n",
       "      <td>math statistics bayesian dirichlet</td>\n",
       "      <td>23263.0</td>\n",
       "      <td>1</td>\n",
       "    </tr>\n",
       "    <tr>\n",
       "      <th>2</th>\n",
       "      <td>359438</td>\n",
       "      <td>Optimization packages for R</td>\n",
       "      <td>Does anyone know of any optimization packages...</td>\n",
       "      <td>NaN</td>\n",
       "      <td>mathematical-optimization</td>\n",
       "      <td>3201.0</td>\n",
       "      <td>1</td>\n",
       "    </tr>\n",
       "    <tr>\n",
       "      <th>3</th>\n",
       "      <td>439526</td>\n",
       "      <td>Thinking in Vectors with R</td>\n",
       "      <td>I know that R works most efficiently with vec...</td>\n",
       "      <td>st  p1  p2  st&amp;lt;-NULL p1&amp;lt;-NULL p2&amp;lt;-NU...</td>\n",
       "      <td>vector</td>\n",
       "      <td>37751.0</td>\n",
       "      <td>53</td>\n",
       "    </tr>\n",
       "    <tr>\n",
       "      <th>4</th>\n",
       "      <td>445059</td>\n",
       "      <td>Vectorize my thinking: Vector Operations in R</td>\n",
       "      <td>So earlier I answered my own question on thin...</td>\n",
       "      <td>for (j in my.data$item[my.data$fixed==0]) { #...</td>\n",
       "      <td>vector</td>\n",
       "      <td>54904.0</td>\n",
       "      <td>1</td>\n",
       "    </tr>\n",
       "  </tbody>\n",
       "</table>\n",
       "</div>"
      ],
      "text/plain": [
       "       Id                                              Title  \\\n",
       "0   95007               Explain the quantile() function in R   \n",
       "1  255697  Is there an R package for learning a Dirichlet...   \n",
       "2  359438                        Optimization packages for R   \n",
       "3  439526                         Thinking in Vectors with R   \n",
       "4  445059      Vectorize my thinking: Vector Operations in R   \n",
       "\n",
       "                                        QuestionBody  \\\n",
       "0   I've been mystified by the R quantile functio...   \n",
       "1   I'm looking for a an   package which can be u...   \n",
       "2   Does anyone know of any optimization packages...   \n",
       "3   I know that R works most efficiently with vec...   \n",
       "4   So earlier I answered my own question on thin...   \n",
       "\n",
       "                                            CodeBody  \\\n",
       "0                                                NaN   \n",
       "1                                              R  R    \n",
       "2                                                NaN   \n",
       "3   st  p1  p2  st&lt;-NULL p1&lt;-NULL p2&lt;-NU...   \n",
       "4   for (j in my.data$item[my.data$fixed==0]) { #...   \n",
       "\n",
       "                                  Tag  ExpertId  Count  \n",
       "0                     math statistics   79513.0      1  \n",
       "1  math statistics bayesian dirichlet   23263.0      1  \n",
       "2           mathematical-optimization    3201.0      1  \n",
       "3                              vector   37751.0     53  \n",
       "4                              vector   54904.0      1  "
      ]
     },
     "execution_count": 65,
     "metadata": {},
     "output_type": "execute_result"
    }
   ],
   "source": [
    "experts_count.head()"
   ]
  },
  {
   "cell_type": "code",
   "execution_count": 139,
   "metadata": {
    "collapsed": false
   },
   "outputs": [],
   "source": [
    "experts_count=experts_count.iloc[:70000]"
   ]
  },
  {
   "cell_type": "code",
   "execution_count": 70,
   "metadata": {
    "collapsed": false
   },
   "outputs": [
    {
     "name": "stdout",
     "output_type": "stream",
     "text": [
      "<class 'pandas.core.frame.DataFrame'>\n",
      "Int64Index: 67176 entries, 3 to 87403\n",
      "Data columns (total 7 columns):\n",
      "Id              67176 non-null int64\n",
      "Title           67176 non-null object\n",
      "QuestionBody    67176 non-null object\n",
      "CodeBody        63348 non-null object\n",
      "Tag             54534 non-null object\n",
      "ExpertId        67176 non-null float64\n",
      "Count           67176 non-null int64\n",
      "dtypes: float64(1), int64(2), object(4)\n",
      "memory usage: 4.1+ MB\n"
     ]
    }
   ],
   "source": [
    "final.info()"
   ]
  },
  {
   "cell_type": "code",
   "execution_count": 71,
   "metadata": {
    "collapsed": false
   },
   "outputs": [
    {
     "data": {
      "text/plain": [
       "(508L,)"
      ]
     },
     "execution_count": 71,
     "metadata": {},
     "output_type": "execute_result"
    }
   ],
   "source": [
    "final_unique_expert = final.ExpertId.unique()\n",
    "final_unique_expert.shape"
   ]
  },
  {
   "cell_type": "code",
   "execution_count": 162,
   "metadata": {
    "collapsed": false
   },
   "outputs": [],
   "source": [
    "import pickle\n",
    "pickle.dump(df,open('qa.pkl','wb'))"
   ]
  },
  {
   "cell_type": "code",
   "execution_count": 74,
   "metadata": {
    "collapsed": true
   },
   "outputs": [
    {
     "ename": "NameError",
     "evalue": "name 'df' is not defined",
     "output_type": "error",
     "traceback": [
      "\u001b[0;31m---------------------------------------------------------------------------\u001b[0m",
      "\u001b[0;31mNameError\u001b[0m                                 Traceback (most recent call last)",
      "\u001b[0;32m<ipython-input-74-462fee490335>\u001b[0m in \u001b[0;36m<module>\u001b[0;34m()\u001b[0m\n\u001b[0;32m----> 1\u001b[0;31m \u001b[0mdf\u001b[0m\u001b[1;33m[\u001b[0m\u001b[1;34m'ExpertId'\u001b[0m\u001b[1;33m]\u001b[0m\u001b[1;33m=\u001b[0m\u001b[0mnp\u001b[0m\u001b[1;33m.\u001b[0m\u001b[0marray\u001b[0m\u001b[1;33m(\u001b[0m\u001b[0mdf\u001b[0m\u001b[1;33m[\u001b[0m\u001b[1;34m'ExpertId'\u001b[0m\u001b[1;33m]\u001b[0m\u001b[1;33m)\u001b[0m\u001b[1;33m.\u001b[0m\u001b[0mastype\u001b[0m\u001b[1;33m(\u001b[0m\u001b[0mnp\u001b[0m\u001b[1;33m.\u001b[0m\u001b[0mint32\u001b[0m\u001b[1;33m)\u001b[0m\u001b[1;33m\u001b[0m\u001b[0m\n\u001b[0m",
      "\u001b[0;31mNameError\u001b[0m: name 'df' is not defined"
     ]
    }
   ],
   "source": [
    "df['ExpertId']=np.array(df['ExpertId']).astype(np.int32)"
   ]
  },
  {
   "cell_type": "code",
   "execution_count": 47,
   "metadata": {
    "collapsed": false
   },
   "outputs": [],
   "source": [
    "db=df['ExpertId'].value_counts()"
   ]
  },
  {
   "cell_type": "markdown",
   "metadata": {},
   "source": [
    "# 搭建模型"
   ]
  },
  {
   "cell_type": "code",
   "execution_count": 75,
   "metadata": {
    "collapsed": false
   },
   "outputs": [
    {
     "name": "stderr",
     "output_type": "stream",
     "text": [
      "D:\\miniconda\\envs\\python27\\lib\\site-packages\\sklearn\\cross_validation.py:44: DeprecationWarning: This module was deprecated in version 0.18 in favor of the model_selection module into which all the refactored classes and functions are moved. Also note that the interface of the new CV iterators are different from that of this module. This module will be removed in 0.20.\n",
      "  \"This module will be removed in 0.20.\", DeprecationWarning)\n"
     ]
    }
   ],
   "source": [
    "import sys\n",
    "sys.path.append('d:/miniconda/lib/site-packages')\n",
    "import jieba\n",
    "from sklearn.linear_model import LogisticRegression\n",
    "from sklearn.svm import SVC\n",
    "from sklearn.cross_validation import StratifiedShuffleSplit,StratifiedKFold,cross_val_score\n",
    "from sklearn.feature_extraction.text import TfidfVectorizer\n",
    "from sklearn.ensemble import GradientBoostingClassifier\n",
    "from sklearn.ensemble import RandomForestClassifier\n",
    "from sklearn.naive_bayes import MultinomialNB,BernoulliNB,GaussianNB\n",
    "import pickle"
   ]
  },
  {
   "cell_type": "code",
   "execution_count": 76,
   "metadata": {
    "collapsed": true
   },
   "outputs": [],
   "source": [
    "df=pd.read_pickle('qa.pkl')"
   ]
  },
  {
   "cell_type": "code",
   "execution_count": 175,
   "metadata": {
    "collapsed": false
   },
   "outputs": [],
   "source": [
    "df=df.fillna('none')"
   ]
  },
  {
   "cell_type": "code",
   "execution_count": 133,
   "metadata": {
    "collapsed": false,
    "scrolled": true
   },
   "outputs": [],
   "source": [
    "tfv = TfidfVectorizer(min_df=3,max_df=0.95,sublinear_tf=True)\n",
    "x_title = tfv.fit_transform(df['Title'])\n",
    "x_q=tfv.fit_transform(df['QuestionBody'])\n",
    "x_tag=tfv.fit_transform(df['Tag'])"
   ]
  },
  {
   "cell_type": "code",
   "execution_count": 204,
   "metadata": {
    "collapsed": true
   },
   "outputs": [
    {
     "data": {
      "text/html": [
       "<div>\n",
       "<table border=\"1\" class=\"dataframe\">\n",
       "  <thead>\n",
       "    <tr style=\"text-align: right;\">\n",
       "      <th></th>\n",
       "      <th>Id</th>\n",
       "      <th>Title</th>\n",
       "      <th>QuestionBody</th>\n",
       "      <th>CodeBody</th>\n",
       "      <th>Tag</th>\n",
       "      <th>ExpertId</th>\n",
       "      <th>Count</th>\n",
       "      <th>cate</th>\n",
       "    </tr>\n",
       "  </thead>\n",
       "  <tbody>\n",
       "    <tr>\n",
       "      <th>0</th>\n",
       "      <td>95007</td>\n",
       "      <td>Explain the quantile() function in R</td>\n",
       "      <td>I've been mystified by the R quantile functio...</td>\n",
       "      <td>none</td>\n",
       "      <td>math statistics</td>\n",
       "      <td>79513.0</td>\n",
       "      <td>1</td>\n",
       "      <td>218</td>\n",
       "    </tr>\n",
       "    <tr>\n",
       "      <th>1</th>\n",
       "      <td>255697</td>\n",
       "      <td>Is there an R package for learning a Dirichlet...</td>\n",
       "      <td>I'm looking for a an   package which can be u...</td>\n",
       "      <td>R  R</td>\n",
       "      <td>math statistics bayesian dirichlet</td>\n",
       "      <td>23263.0</td>\n",
       "      <td>1</td>\n",
       "      <td>91</td>\n",
       "    </tr>\n",
       "    <tr>\n",
       "      <th>2</th>\n",
       "      <td>359438</td>\n",
       "      <td>Optimization packages for R</td>\n",
       "      <td>Does anyone know of any optimization packages...</td>\n",
       "      <td>none</td>\n",
       "      <td>mathematical-optimization</td>\n",
       "      <td>3201.0</td>\n",
       "      <td>1</td>\n",
       "      <td>15</td>\n",
       "    </tr>\n",
       "    <tr>\n",
       "      <th>3</th>\n",
       "      <td>439526</td>\n",
       "      <td>Thinking in Vectors with R</td>\n",
       "      <td>I know that R works most efficiently with vec...</td>\n",
       "      <td>st  p1  p2  st&amp;lt;-NULL p1&amp;lt;-NULL p2&amp;lt;-NU...</td>\n",
       "      <td>vector</td>\n",
       "      <td>37751.0</td>\n",
       "      <td>53</td>\n",
       "      <td>121</td>\n",
       "    </tr>\n",
       "    <tr>\n",
       "      <th>4</th>\n",
       "      <td>445059</td>\n",
       "      <td>Vectorize my thinking: Vector Operations in R</td>\n",
       "      <td>So earlier I answered my own question on thin...</td>\n",
       "      <td>for (j in my.data$item[my.data$fixed==0]) { #...</td>\n",
       "      <td>vector</td>\n",
       "      <td>54904.0</td>\n",
       "      <td>1</td>\n",
       "      <td>163</td>\n",
       "    </tr>\n",
       "    <tr>\n",
       "      <th>5</th>\n",
       "      <td>467110</td>\n",
       "      <td>Is R a compiled language?</td>\n",
       "      <td>I can't find it anywhere on the web (and I do...</td>\n",
       "      <td>none</td>\n",
       "      <td>language-features</td>\n",
       "      <td>57626.0</td>\n",
       "      <td>1</td>\n",
       "      <td>171</td>\n",
       "    </tr>\n",
       "    <tr>\n",
       "      <th>6</th>\n",
       "      <td>476342</td>\n",
       "      <td>Converting a localized date of the form 12-okt...</td>\n",
       "      <td>I have imported a time series with dates of t...</td>\n",
       "      <td>test = c(\"11-Feb-01\",\"12-Feb-01\",\"01-Mai-08\"...</td>\n",
       "      <td>date</td>\n",
       "      <td>12677.0</td>\n",
       "      <td>2</td>\n",
       "      <td>54</td>\n",
       "    </tr>\n",
       "    <tr>\n",
       "      <th>7</th>\n",
       "      <td>476726</td>\n",
       "      <td>Filtering data in R</td>\n",
       "      <td>I have a CSV of file of data that I can load ...</td>\n",
       "      <td>read.csv()  NULL  DocID       Anno1    Anno7 ...</td>\n",
       "      <td>filtering</td>\n",
       "      <td>58681.0</td>\n",
       "      <td>2</td>\n",
       "      <td>173</td>\n",
       "    </tr>\n",
       "    <tr>\n",
       "      <th>8</th>\n",
       "      <td>495744</td>\n",
       "      <td>Operating with time intervals like 08:00-08:15</td>\n",
       "      <td>I would like to import a time-series where th...</td>\n",
       "      <td>08:00-08:15 08:15-08:30 08:30-08:45</td>\n",
       "      <td>time-series</td>\n",
       "      <td>148801.0</td>\n",
       "      <td>2</td>\n",
       "      <td>370</td>\n",
       "    </tr>\n",
       "    <tr>\n",
       "      <th>9</th>\n",
       "      <td>498932</td>\n",
       "      <td>What's the easiest way to install 100s of file...</td>\n",
       "      <td>I have a standard c# application that acts as...</td>\n",
       "      <td>none</td>\n",
       "      <td>visual-studio setup-project</td>\n",
       "      <td>445.0</td>\n",
       "      <td>1</td>\n",
       "      <td>3</td>\n",
       "    </tr>\n",
       "    <tr>\n",
       "      <th>10</th>\n",
       "      <td>509595</td>\n",
       "      <td>csv file with multiple time-series</td>\n",
       "      <td>I've imported a csv file with lots of columns...</td>\n",
       "      <td>v &amp;lt;- read.csv2(\"200109.csv\", header=TRUE, ...</td>\n",
       "      <td>time-series</td>\n",
       "      <td>26575.0</td>\n",
       "      <td>6</td>\n",
       "      <td>102</td>\n",
       "    </tr>\n",
       "    <tr>\n",
       "      <th>11</th>\n",
       "      <td>520810</td>\n",
       "      <td>Does R have quote-like operators like Perl's q...</td>\n",
       "      <td>Anyone know if R has quote-like operators lik...</td>\n",
       "      <td>qw()</td>\n",
       "      <td>perl</td>\n",
       "      <td>16632.0</td>\n",
       "      <td>223</td>\n",
       "      <td>68</td>\n",
       "    </tr>\n",
       "    <tr>\n",
       "      <th>12</th>\n",
       "      <td>560329</td>\n",
       "      <td>Sort the X axis in a barplot</td>\n",
       "      <td>I have binned data that looks like this:     ...</td>\n",
       "      <td>(8.048,18.05] (-21.95,-11.95] (-31.95,-21.9...</td>\n",
       "      <td>statistics</td>\n",
       "      <td>37751.0</td>\n",
       "      <td>53</td>\n",
       "      <td>121</td>\n",
       "    </tr>\n",
       "    <tr>\n",
       "      <th>13</th>\n",
       "      <td>582653</td>\n",
       "      <td>what is the best practice of handling time in R?</td>\n",
       "      <td>I am working with a survey dataset. It has tw...</td>\n",
       "      <td>as.date()  as.Date()  chron()  as.POSIXct()  ...</td>\n",
       "      <td>datetime</td>\n",
       "      <td>4892.0</td>\n",
       "      <td>4</td>\n",
       "      <td>26</td>\n",
       "    </tr>\n",
       "    <tr>\n",
       "      <th>14</th>\n",
       "      <td>596819</td>\n",
       "      <td>What is the best way to avoid passing a data f...</td>\n",
       "      <td>I have 12 data frames to work with. They are ...</td>\n",
       "      <td>doSomething &amp;lt;- function(df) {   // do some...</td>\n",
       "      <td>none</td>\n",
       "      <td>37751.0</td>\n",
       "      <td>53</td>\n",
       "      <td>121</td>\n",
       "    </tr>\n",
       "    <tr>\n",
       "      <th>15</th>\n",
       "      <td>596976</td>\n",
       "      <td>What is the Y function?</td>\n",
       "      <td>A friend of mine asked me if I understood the...</td>\n",
       "      <td>? Y</td>\n",
       "      <td>none</td>\n",
       "      <td>63225.0</td>\n",
       "      <td>1</td>\n",
       "      <td>187</td>\n",
       "    </tr>\n",
       "    <tr>\n",
       "      <th>16</th>\n",
       "      <td>652136</td>\n",
       "      <td>How can I remove an element from a list?</td>\n",
       "      <td>I have a list and I want to remove a single e...</td>\n",
       "      <td>none</td>\n",
       "      <td>list indexing</td>\n",
       "      <td>41665.0</td>\n",
       "      <td>1</td>\n",
       "      <td>132</td>\n",
       "    </tr>\n",
       "    <tr>\n",
       "      <th>17</th>\n",
       "      <td>657440</td>\n",
       "      <td>Cumulative Plot with Given X-Axis</td>\n",
       "      <td>I have data that looks like this. In which I ...</td>\n",
       "      <td>#x-axis dat1              dat2 -10     0.0140...</td>\n",
       "      <td>statistics</td>\n",
       "      <td>37751.0</td>\n",
       "      <td>53</td>\n",
       "      <td>121</td>\n",
       "    </tr>\n",
       "    <tr>\n",
       "      <th>18</th>\n",
       "      <td>717747</td>\n",
       "      <td>How do I color edges or draw rects correctly i...</td>\n",
       "      <td>I generated  this dendrogram  using R's  ,   ...</td>\n",
       "      <td>hclust()  as.dendrogram()  plot.dendrogram() ...</td>\n",
       "      <td>edge dendrogram hclust</td>\n",
       "      <td>62970.0</td>\n",
       "      <td>1</td>\n",
       "      <td>186</td>\n",
       "    </tr>\n",
       "    <tr>\n",
       "      <th>19</th>\n",
       "      <td>736514</td>\n",
       "      <td>R Random Forests Variable Importance</td>\n",
       "      <td>I am trying to use the random forests package...</td>\n",
       "      <td>MeanDecreaseAccuracy  MeanDecreaseGini  MeanD...</td>\n",
       "      <td>statistics data-mining random-forest</td>\n",
       "      <td>90567.0</td>\n",
       "      <td>2</td>\n",
       "      <td>241</td>\n",
       "    </tr>\n",
       "    <tr>\n",
       "      <th>20</th>\n",
       "      <td>736541</td>\n",
       "      <td>Plots without titles/labels in R</td>\n",
       "      <td>In  R  is there any way to produce plots whic...</td>\n",
       "      <td>plot()  main  sub  xlab  ylab  NULL  pdf()  p...</td>\n",
       "      <td>statistics charts</td>\n",
       "      <td>66519.0</td>\n",
       "      <td>1</td>\n",
       "      <td>194</td>\n",
       "    </tr>\n",
       "    <tr>\n",
       "      <th>21</th>\n",
       "      <td>743812</td>\n",
       "      <td>Calculating moving average in R</td>\n",
       "      <td>I'm trying to use R to calculate the moving a...</td>\n",
       "      <td>none</td>\n",
       "      <td>statistics</td>\n",
       "      <td>60617.0</td>\n",
       "      <td>9</td>\n",
       "      <td>178</td>\n",
       "    </tr>\n",
       "    <tr>\n",
       "      <th>22</th>\n",
       "      <td>750703</td>\n",
       "      <td>Suppressing \"null device\" output with R in bat...</td>\n",
       "      <td>I have a number of bash scripts which invoke ...</td>\n",
       "      <td>#!/bin/bash R --vanilla --slave &amp;lt;&amp;lt;RSCRI...</td>\n",
       "      <td>bash statistics charts</td>\n",
       "      <td>26575.0</td>\n",
       "      <td>6</td>\n",
       "      <td>102</td>\n",
       "    </tr>\n",
       "    <tr>\n",
       "      <th>23</th>\n",
       "      <td>775116</td>\n",
       "      <td>How can a function parameter be used without m...</td>\n",
       "      <td>I've been trying to learn more about R (and w...</td>\n",
       "      <td>rpart &amp;lt;- function(formula, data, weights, ...</td>\n",
       "      <td>none</td>\n",
       "      <td>26575.0</td>\n",
       "      <td>6</td>\n",
       "      <td>102</td>\n",
       "    </tr>\n",
       "    <tr>\n",
       "      <th>24</th>\n",
       "      <td>780796</td>\n",
       "      <td>Emacs ESS Mode - Tabbing for Comment Region</td>\n",
       "      <td>I am using the Emacs-Speaks-Statistics (ESS) ...</td>\n",
       "      <td># Comment                                   #...</td>\n",
       "      <td>emacs ess</td>\n",
       "      <td>16240.0</td>\n",
       "      <td>2</td>\n",
       "      <td>66</td>\n",
       "    </tr>\n",
       "    <tr>\n",
       "      <th>25</th>\n",
       "      <td>789602</td>\n",
       "      <td>What does %% mean?</td>\n",
       "      <td>From the question you can probably tell that ...</td>\n",
       "      <td>mnlong &amp;lt;- 280.460 + .9856474 * time mnlong...</td>\n",
       "      <td>syntax</td>\n",
       "      <td>57428.0</td>\n",
       "      <td>1</td>\n",
       "      <td>168</td>\n",
       "    </tr>\n",
       "    <tr>\n",
       "      <th>26</th>\n",
       "      <td>805027</td>\n",
       "      <td>Suppressing or setting CreationDate/ModDate in...</td>\n",
       "      <td>When R creates PDFs using pdf() it includes a...</td>\n",
       "      <td>none</td>\n",
       "      <td>svn</td>\n",
       "      <td>14257.0</td>\n",
       "      <td>4</td>\n",
       "      <td>59</td>\n",
       "    </tr>\n",
       "    <tr>\n",
       "      <th>27</th>\n",
       "      <td>855798</td>\n",
       "      <td>In R, what is a good way to aggregate String data</td>\n",
       "      <td>In R (or S-PLUS), what is a good way to aggre...</td>\n",
       "      <td>myList &amp;lt;- as.data.frame(c(\"Bob\", \"Mary\", \"...</td>\n",
       "      <td>statistics s-plus</td>\n",
       "      <td>90567.0</td>\n",
       "      <td>2</td>\n",
       "      <td>241</td>\n",
       "    </tr>\n",
       "    <tr>\n",
       "      <th>28</th>\n",
       "      <td>876711</td>\n",
       "      <td>Plotting Simple Data in R</td>\n",
       "      <td>I have a comma separated file named   contain...</td>\n",
       "      <td>foo.csv  scale, serial, spawn, for, worker 5,...</td>\n",
       "      <td>plot</td>\n",
       "      <td>39578.0</td>\n",
       "      <td>1</td>\n",
       "      <td>127</td>\n",
       "    </tr>\n",
       "    <tr>\n",
       "      <th>29</th>\n",
       "      <td>936748</td>\n",
       "      <td>Declaring a Const Variable in R</td>\n",
       "      <td>I'm working in R, and I'd like to define some...</td>\n",
       "      <td>const std::string path( \"/projects/current\" )...</td>\n",
       "      <td>statistics const constants</td>\n",
       "      <td>16632.0</td>\n",
       "      <td>223</td>\n",
       "      <td>68</td>\n",
       "    </tr>\n",
       "    <tr>\n",
       "      <th>...</th>\n",
       "      <td>...</td>\n",
       "      <td>...</td>\n",
       "      <td>...</td>\n",
       "      <td>...</td>\n",
       "      <td>...</td>\n",
       "      <td>...</td>\n",
       "      <td>...</td>\n",
       "      <td>...</td>\n",
       "    </tr>\n",
       "    <tr>\n",
       "      <th>87374</th>\n",
       "      <td>40133202</td>\n",
       "      <td>Calculating the transition probabilities in R</td>\n",
       "      <td>Let's assume that we have the following 4 sta...</td>\n",
       "      <td>old   new  A      B A      A B      C D      ...</td>\n",
       "      <td>none</td>\n",
       "      <td>4895725.0</td>\n",
       "      <td>223</td>\n",
       "      <td>7647</td>\n",
       "    </tr>\n",
       "    <tr>\n",
       "      <th>87375</th>\n",
       "      <td>40133444</td>\n",
       "      <td>Change not mapped color of a geom in a given plot</td>\n",
       "      <td>Suppose I have a function which is not under ...</td>\n",
       "      <td>ggplot  geom  library(ggplot2) notMyOwnFuncti...</td>\n",
       "      <td>ggplot2</td>\n",
       "      <td>3120598.0</td>\n",
       "      <td>69</td>\n",
       "      <td>5516</td>\n",
       "    </tr>\n",
       "    <tr>\n",
       "      <th>87376</th>\n",
       "      <td>40133779</td>\n",
       "      <td>Error in reading multple text files from direc...</td>\n",
       "      <td>I would like to read multiple text files from...</td>\n",
       "      <td>regional_vol_GM_atlas1.txt  regional_vol_GM_...</td>\n",
       "      <td>text-processing data-extraction</td>\n",
       "      <td>5132823.0</td>\n",
       "      <td>12</td>\n",
       "      <td>7928</td>\n",
       "    </tr>\n",
       "    <tr>\n",
       "      <th>87377</th>\n",
       "      <td>40133907</td>\n",
       "      <td>Match multiple columns in two data frames and ...</td>\n",
       "      <td>So I have two large (in some part different) ...</td>\n",
       "      <td>IDP   PREDMET   ID    NAME 1 120_1  ustano...</td>\n",
       "      <td>none</td>\n",
       "      <td>3703936.0</td>\n",
       "      <td>3</td>\n",
       "      <td>6278</td>\n",
       "    </tr>\n",
       "    <tr>\n",
       "      <th>87378</th>\n",
       "      <td>40133971</td>\n",
       "      <td>Delete unconnected short paths from a graph in...</td>\n",
       "      <td>I am working with networks in igraph, I have ...</td>\n",
       "      <td>net &amp;lt;- simplify(InnatedGraph, remove.mult...</td>\n",
       "      <td>graph igraph</td>\n",
       "      <td>4488105.0</td>\n",
       "      <td>1</td>\n",
       "      <td>7216</td>\n",
       "    </tr>\n",
       "    <tr>\n",
       "      <th>87379</th>\n",
       "      <td>40134511</td>\n",
       "      <td>lapply - assign specific value to other column...</td>\n",
       "      <td>I have got a list with more than 100 data.fra...</td>\n",
       "      <td>[[6]]              V1        V2        V3 2  ...</td>\n",
       "      <td>dataframe lapply</td>\n",
       "      <td>5038157.0</td>\n",
       "      <td>3</td>\n",
       "      <td>7824</td>\n",
       "    </tr>\n",
       "    <tr>\n",
       "      <th>87380</th>\n",
       "      <td>40134648</td>\n",
       "      <td>Duplicating Discrete Axis in ggplot2</td>\n",
       "      <td>The development version of ggplot2 (2.1.0.900...</td>\n",
       "      <td>devtools::install_github(\"hadley/ggplot2\") li...</td>\n",
       "      <td>ggplot2</td>\n",
       "      <td>1855677.0</td>\n",
       "      <td>1954</td>\n",
       "      <td>3632</td>\n",
       "    </tr>\n",
       "    <tr>\n",
       "      <th>87381</th>\n",
       "      <td>40134792</td>\n",
       "      <td>Fill missing data using a linear model</td>\n",
       "      <td>I have some data that looks a little like thi...</td>\n",
       "      <td>ID year       var1      var2 1   1    1   ...</td>\n",
       "      <td>none</td>\n",
       "      <td>3115675.0</td>\n",
       "      <td>2</td>\n",
       "      <td>5510</td>\n",
       "    </tr>\n",
       "    <tr>\n",
       "      <th>87382</th>\n",
       "      <td>40134841</td>\n",
       "      <td>ggplot line plot labels at begining of the lin...</td>\n",
       "      <td>I have a data.table of values as follows:    ...</td>\n",
       "      <td>&amp;gt; head(dt)              id x   y 1:       ...</td>\n",
       "      <td>ggplot2</td>\n",
       "      <td>6805241.0</td>\n",
       "      <td>16</td>\n",
       "      <td>8966</td>\n",
       "    </tr>\n",
       "    <tr>\n",
       "      <th>87383</th>\n",
       "      <td>40135240</td>\n",
       "      <td>R ggplot2: Add means as horizontal line in a b...</td>\n",
       "      <td>I have created a boxplot using ggplot2:      ...</td>\n",
       "      <td>library(ggplot2)  dat &amp;lt;- data.frame(study ...</td>\n",
       "      <td>ggplot2 boxplot</td>\n",
       "      <td>2461552.0</td>\n",
       "      <td>200</td>\n",
       "      <td>4554</td>\n",
       "    </tr>\n",
       "    <tr>\n",
       "      <th>87384</th>\n",
       "      <td>40135281</td>\n",
       "      <td>Create a table with mean duration times per ye...</td>\n",
       "      <td>I have the following dataframe:         Now I...</td>\n",
       "      <td>library(\"lubridate\")  df = data.frame(c(\"AAA\"...</td>\n",
       "      <td>none</td>\n",
       "      <td>5202253.0</td>\n",
       "      <td>44</td>\n",
       "      <td>7987</td>\n",
       "    </tr>\n",
       "    <tr>\n",
       "      <th>87385</th>\n",
       "      <td>40135594</td>\n",
       "      <td>sparkR: how to create a dummy column from char...</td>\n",
       "      <td>Consider the following simple example:       ...</td>\n",
       "      <td>df &amp;lt;- data.frame(id=c(1:4), climate=c(\"col...</td>\n",
       "      <td>apache-spark sparkr grepl</td>\n",
       "      <td>4964651.0</td>\n",
       "      <td>125</td>\n",
       "      <td>7728</td>\n",
       "    </tr>\n",
       "    <tr>\n",
       "      <th>87386</th>\n",
       "      <td>40135653</td>\n",
       "      <td>Consolidate replicated columns in R</td>\n",
       "      <td>I have a data frame that is like:          In...</td>\n",
       "      <td>c1 c2 c3 c4  r1 1  0  1  1  r2 0  0  1  1 ...</td>\n",
       "      <td>none</td>\n",
       "      <td>809198.0</td>\n",
       "      <td>2</td>\n",
       "      <td>1714</td>\n",
       "    </tr>\n",
       "    <tr>\n",
       "      <th>87387</th>\n",
       "      <td>40136496</td>\n",
       "      <td>Method like argument in function</td>\n",
       "      <td>I want use method in python / pandas like arg...</td>\n",
       "      <td>def rolling (df, prefix = 'r', window = 3, me...</td>\n",
       "      <td>python function pandas methods</td>\n",
       "      <td>2336654.0</td>\n",
       "      <td>2</td>\n",
       "      <td>4375</td>\n",
       "    </tr>\n",
       "    <tr>\n",
       "      <th>87388</th>\n",
       "      <td>40136801</td>\n",
       "      <td>tidyr::pop_quiz: is there a faster/ more trans...</td>\n",
       "      <td>I'm trying to get good with  .  Is there a be...</td>\n",
       "      <td>tidyr  anscombe  ggplot2  obs_num  library(ti...</td>\n",
       "      <td>reshape2 tidyr tidyverse</td>\n",
       "      <td>496488.0</td>\n",
       "      <td>484</td>\n",
       "      <td>1161</td>\n",
       "    </tr>\n",
       "    <tr>\n",
       "      <th>87389</th>\n",
       "      <td>40136865</td>\n",
       "      <td>Obtaining 0th column data frame information in R</td>\n",
       "      <td>How would you access the date column on the l...</td>\n",
       "      <td>&amp;gt; data GMT                 Rate 2005-02-28...</td>\n",
       "      <td>vector dataframe</td>\n",
       "      <td>1968.0</td>\n",
       "      <td>181</td>\n",
       "      <td>11</td>\n",
       "    </tr>\n",
       "    <tr>\n",
       "      <th>87390</th>\n",
       "      <td>40137720</td>\n",
       "      <td>rvest cannot find node with xpath</td>\n",
       "      <td>This is the website I scapre  ppp projects   ...</td>\n",
       "      <td>a &amp;lt;- html(\"http://www.cpppc.org:8082/efmis...</td>\n",
       "      <td>html xml web-scraping rvest</td>\n",
       "      <td>1457051.0</td>\n",
       "      <td>540</td>\n",
       "      <td>2922</td>\n",
       "    </tr>\n",
       "    <tr>\n",
       "      <th>87391</th>\n",
       "      <td>40138536</td>\n",
       "      <td>geom_bar produces x-axis tick text aliased/dis...</td>\n",
       "      <td>The following minimal example reproduces the ...</td>\n",
       "      <td>library(ggplot2)   x &amp;lt;- c(1111, 2222, 3333...</td>\n",
       "      <td>ggplot2</td>\n",
       "      <td>903061.0</td>\n",
       "      <td>443</td>\n",
       "      <td>1871</td>\n",
       "    </tr>\n",
       "    <tr>\n",
       "      <th>87392</th>\n",
       "      <td>40138635</td>\n",
       "      <td>Concatenate rows in a column by ID in R</td>\n",
       "      <td>I have a geochemical data set that is has 50 ...</td>\n",
       "      <td>Field_Notes  Sample_ID     Sampe_ID Year Alt_...</td>\n",
       "      <td>none</td>\n",
       "      <td>1627235.0</td>\n",
       "      <td>753</td>\n",
       "      <td>3264</td>\n",
       "    </tr>\n",
       "    <tr>\n",
       "      <th>87393</th>\n",
       "      <td>40138822</td>\n",
       "      <td>Import RDS file from github into R Windows</td>\n",
       "      <td>I am trying to import a RDS file into RStudio...</td>\n",
       "      <td>githubURL &amp;lt;- (\"https://github.com/derek-co...</td>\n",
       "      <td>import</td>\n",
       "      <td>1235433.0</td>\n",
       "      <td>1</td>\n",
       "      <td>2509</td>\n",
       "    </tr>\n",
       "    <tr>\n",
       "      <th>87394</th>\n",
       "      <td>40138880</td>\n",
       "      <td>From which row a data.frame variable have a co...</td>\n",
       "      <td>I would like to calculate the mean of a varia...</td>\n",
       "      <td>s&amp;lt;-\"no Spc PSize 2                0       ...</td>\n",
       "      <td>time-series dplyr</td>\n",
       "      <td>2966222.0</td>\n",
       "      <td>48</td>\n",
       "      <td>5313</td>\n",
       "    </tr>\n",
       "    <tr>\n",
       "      <th>87395</th>\n",
       "      <td>40139534</td>\n",
       "      <td>Fast way to get all pairs of matrix column ele...</td>\n",
       "      <td>Let's say I have a numerical  :         I wan...</td>\n",
       "      <td>matrix  set.seed(1) mat &amp;lt;- matrix(rnorm(10...</td>\n",
       "      <td>matrix product</td>\n",
       "      <td>4891738.0</td>\n",
       "      <td>407</td>\n",
       "      <td>7640</td>\n",
       "    </tr>\n",
       "    <tr>\n",
       "      <th>87396</th>\n",
       "      <td>40140133</td>\n",
       "      <td>Scraping tables on multiple web pages with rve...</td>\n",
       "      <td>I am new to web scraping and am trying to scr...</td>\n",
       "      <td>rvest  library(rvest) url4 &amp;lt;- \"http://www....</td>\n",
       "      <td>web-scraping rvest</td>\n",
       "      <td>2572423.0</td>\n",
       "      <td>113</td>\n",
       "      <td>4721</td>\n",
       "    </tr>\n",
       "    <tr>\n",
       "      <th>87397</th>\n",
       "      <td>40140630</td>\n",
       "      <td>How to replace symbols by their value in a R f...</td>\n",
       "      <td>This code reveals that   doesn't yet look up ...</td>\n",
       "      <td>f  q  q &amp;lt;- 2 f &amp;lt;- function(x) q + x f  ...</td>\n",
       "      <td>function</td>\n",
       "      <td>822162.0</td>\n",
       "      <td>8</td>\n",
       "      <td>1726</td>\n",
       "    </tr>\n",
       "    <tr>\n",
       "      <th>87398</th>\n",
       "      <td>40140656</td>\n",
       "      <td>Same Rcpp function returns different output if...</td>\n",
       "      <td>A C++ function I wrote using Rcpp gives diffe...</td>\n",
       "      <td>Rcout  Rprintf  1  H_sigma_1()  H_sigma_2()  ...</td>\n",
       "      <td>c++ rcpp</td>\n",
       "      <td>1345455.0</td>\n",
       "      <td>50</td>\n",
       "      <td>2746</td>\n",
       "    </tr>\n",
       "    <tr>\n",
       "      <th>87399</th>\n",
       "      <td>40140835</td>\n",
       "      <td>Elementwise vector multiplication between all ...</td>\n",
       "      <td>I have a set of models and need to generate e...</td>\n",
       "      <td>modset &amp;lt;- structure(list(A = c(1, 1), B = ...</td>\n",
       "      <td>matrix dataframe matrix-multiplication</td>\n",
       "      <td>4891738.0</td>\n",
       "      <td>407</td>\n",
       "      <td>7640</td>\n",
       "    </tr>\n",
       "    <tr>\n",
       "      <th>87400</th>\n",
       "      <td>40141353</td>\n",
       "      <td>Convert multiple columns to one column</td>\n",
       "      <td>I'm looking to merge multiple columns to one ...</td>\n",
       "      <td>Column A  Column B   Column C      a1       b...</td>\n",
       "      <td>python list</td>\n",
       "      <td>6105720.0</td>\n",
       "      <td>39</td>\n",
       "      <td>8634</td>\n",
       "    </tr>\n",
       "    <tr>\n",
       "      <th>87401</th>\n",
       "      <td>40142682</td>\n",
       "      <td>Remove everything after last space with stringr</td>\n",
       "      <td>I have data that looks like this:         I w...</td>\n",
       "      <td>df &amp;lt;- tribble(     ~name, ~value,     \"Jak...</td>\n",
       "      <td>regex stringr tidyverse</td>\n",
       "      <td>3732271.0</td>\n",
       "      <td>4380</td>\n",
       "      <td>6313</td>\n",
       "    </tr>\n",
       "    <tr>\n",
       "      <th>87402</th>\n",
       "      <td>40142818</td>\n",
       "      <td>In R, how do I order within a single column so...</td>\n",
       "      <td>I am generating multiple experimental designs...</td>\n",
       "      <td>df1 &amp;lt;- structure(list(Block = c(1L, 1L, 1L...</td>\n",
       "      <td>sorting order</td>\n",
       "      <td>496803.0</td>\n",
       "      <td>497</td>\n",
       "      <td>1162</td>\n",
       "    </tr>\n",
       "    <tr>\n",
       "      <th>87403</th>\n",
       "      <td>40143046</td>\n",
       "      <td>r dplyr group_by values collapse and paste</td>\n",
       "      <td>I have a data set that looks like this       ...</td>\n",
       "      <td>Id   Subject    Date        Vitals       Valu...</td>\n",
       "      <td>group-by dplyr collapse</td>\n",
       "      <td>903061.0</td>\n",
       "      <td>443</td>\n",
       "      <td>1871</td>\n",
       "    </tr>\n",
       "  </tbody>\n",
       "</table>\n",
       "<p>87404 rows × 8 columns</p>\n",
       "</div>"
      ],
      "text/plain": [
       "             Id                                              Title  \\\n",
       "0         95007               Explain the quantile() function in R   \n",
       "1        255697  Is there an R package for learning a Dirichlet...   \n",
       "2        359438                        Optimization packages for R   \n",
       "3        439526                         Thinking in Vectors with R   \n",
       "4        445059      Vectorize my thinking: Vector Operations in R   \n",
       "5        467110                          Is R a compiled language?   \n",
       "6        476342  Converting a localized date of the form 12-okt...   \n",
       "7        476726                                Filtering data in R   \n",
       "8        495744     Operating with time intervals like 08:00-08:15   \n",
       "9        498932  What's the easiest way to install 100s of file...   \n",
       "10       509595                 csv file with multiple time-series   \n",
       "11       520810  Does R have quote-like operators like Perl's q...   \n",
       "12       560329                       Sort the X axis in a barplot   \n",
       "13       582653   what is the best practice of handling time in R?   \n",
       "14       596819  What is the best way to avoid passing a data f...   \n",
       "15       596976                            What is the Y function?   \n",
       "16       652136           How can I remove an element from a list?   \n",
       "17       657440                  Cumulative Plot with Given X-Axis   \n",
       "18       717747  How do I color edges or draw rects correctly i...   \n",
       "19       736514               R Random Forests Variable Importance   \n",
       "20       736541                   Plots without titles/labels in R   \n",
       "21       743812                    Calculating moving average in R   \n",
       "22       750703  Suppressing \"null device\" output with R in bat...   \n",
       "23       775116  How can a function parameter be used without m...   \n",
       "24       780796        Emacs ESS Mode - Tabbing for Comment Region   \n",
       "25       789602                                 What does %% mean?   \n",
       "26       805027  Suppressing or setting CreationDate/ModDate in...   \n",
       "27       855798  In R, what is a good way to aggregate String data   \n",
       "28       876711                          Plotting Simple Data in R   \n",
       "29       936748                    Declaring a Const Variable in R   \n",
       "...         ...                                                ...   \n",
       "87374  40133202      Calculating the transition probabilities in R   \n",
       "87375  40133444  Change not mapped color of a geom in a given plot   \n",
       "87376  40133779  Error in reading multple text files from direc...   \n",
       "87377  40133907  Match multiple columns in two data frames and ...   \n",
       "87378  40133971  Delete unconnected short paths from a graph in...   \n",
       "87379  40134511  lapply - assign specific value to other column...   \n",
       "87380  40134648               Duplicating Discrete Axis in ggplot2   \n",
       "87381  40134792             Fill missing data using a linear model   \n",
       "87382  40134841  ggplot line plot labels at begining of the lin...   \n",
       "87383  40135240  R ggplot2: Add means as horizontal line in a b...   \n",
       "87384  40135281  Create a table with mean duration times per ye...   \n",
       "87385  40135594  sparkR: how to create a dummy column from char...   \n",
       "87386  40135653                Consolidate replicated columns in R   \n",
       "87387  40136496                   Method like argument in function   \n",
       "87388  40136801  tidyr::pop_quiz: is there a faster/ more trans...   \n",
       "87389  40136865   Obtaining 0th column data frame information in R   \n",
       "87390  40137720                  rvest cannot find node with xpath   \n",
       "87391  40138536  geom_bar produces x-axis tick text aliased/dis...   \n",
       "87392  40138635            Concatenate rows in a column by ID in R   \n",
       "87393  40138822         Import RDS file from github into R Windows   \n",
       "87394  40138880  From which row a data.frame variable have a co...   \n",
       "87395  40139534  Fast way to get all pairs of matrix column ele...   \n",
       "87396  40140133  Scraping tables on multiple web pages with rve...   \n",
       "87397  40140630  How to replace symbols by their value in a R f...   \n",
       "87398  40140656  Same Rcpp function returns different output if...   \n",
       "87399  40140835  Elementwise vector multiplication between all ...   \n",
       "87400  40141353             Convert multiple columns to one column   \n",
       "87401  40142682    Remove everything after last space with stringr   \n",
       "87402  40142818  In R, how do I order within a single column so...   \n",
       "87403  40143046         r dplyr group_by values collapse and paste   \n",
       "\n",
       "                                            QuestionBody  \\\n",
       "0       I've been mystified by the R quantile functio...   \n",
       "1       I'm looking for a an   package which can be u...   \n",
       "2       Does anyone know of any optimization packages...   \n",
       "3       I know that R works most efficiently with vec...   \n",
       "4       So earlier I answered my own question on thin...   \n",
       "5       I can't find it anywhere on the web (and I do...   \n",
       "6       I have imported a time series with dates of t...   \n",
       "7       I have a CSV of file of data that I can load ...   \n",
       "8       I would like to import a time-series where th...   \n",
       "9       I have a standard c# application that acts as...   \n",
       "10      I've imported a csv file with lots of columns...   \n",
       "11      Anyone know if R has quote-like operators lik...   \n",
       "12      I have binned data that looks like this:     ...   \n",
       "13      I am working with a survey dataset. It has tw...   \n",
       "14      I have 12 data frames to work with. They are ...   \n",
       "15      A friend of mine asked me if I understood the...   \n",
       "16      I have a list and I want to remove a single e...   \n",
       "17      I have data that looks like this. In which I ...   \n",
       "18      I generated  this dendrogram  using R's  ,   ...   \n",
       "19      I am trying to use the random forests package...   \n",
       "20      In  R  is there any way to produce plots whic...   \n",
       "21      I'm trying to use R to calculate the moving a...   \n",
       "22      I have a number of bash scripts which invoke ...   \n",
       "23      I've been trying to learn more about R (and w...   \n",
       "24      I am using the Emacs-Speaks-Statistics (ESS) ...   \n",
       "25      From the question you can probably tell that ...   \n",
       "26      When R creates PDFs using pdf() it includes a...   \n",
       "27      In R (or S-PLUS), what is a good way to aggre...   \n",
       "28      I have a comma separated file named   contain...   \n",
       "29      I'm working in R, and I'd like to define some...   \n",
       "...                                                  ...   \n",
       "87374   Let's assume that we have the following 4 sta...   \n",
       "87375   Suppose I have a function which is not under ...   \n",
       "87376   I would like to read multiple text files from...   \n",
       "87377   So I have two large (in some part different) ...   \n",
       "87378   I am working with networks in igraph, I have ...   \n",
       "87379   I have got a list with more than 100 data.fra...   \n",
       "87380   The development version of ggplot2 (2.1.0.900...   \n",
       "87381   I have some data that looks a little like thi...   \n",
       "87382   I have a data.table of values as follows:    ...   \n",
       "87383   I have created a boxplot using ggplot2:      ...   \n",
       "87384   I have the following dataframe:         Now I...   \n",
       "87385   Consider the following simple example:       ...   \n",
       "87386   I have a data frame that is like:          In...   \n",
       "87387   I want use method in python / pandas like arg...   \n",
       "87388   I'm trying to get good with  .  Is there a be...   \n",
       "87389   How would you access the date column on the l...   \n",
       "87390   This is the website I scapre  ppp projects   ...   \n",
       "87391   The following minimal example reproduces the ...   \n",
       "87392   I have a geochemical data set that is has 50 ...   \n",
       "87393   I am trying to import a RDS file into RStudio...   \n",
       "87394   I would like to calculate the mean of a varia...   \n",
       "87395   Let's say I have a numerical  :         I wan...   \n",
       "87396   I am new to web scraping and am trying to scr...   \n",
       "87397   This code reveals that   doesn't yet look up ...   \n",
       "87398   A C++ function I wrote using Rcpp gives diffe...   \n",
       "87399   I have a set of models and need to generate e...   \n",
       "87400   I'm looking to merge multiple columns to one ...   \n",
       "87401   I have data that looks like this:         I w...   \n",
       "87402   I am generating multiple experimental designs...   \n",
       "87403   I have a data set that looks like this       ...   \n",
       "\n",
       "                                                CodeBody  \\\n",
       "0                                                   none   \n",
       "1                                                  R  R    \n",
       "2                                                   none   \n",
       "3       st  p1  p2  st&lt;-NULL p1&lt;-NULL p2&lt;-NU...   \n",
       "4       for (j in my.data$item[my.data$fixed==0]) { #...   \n",
       "5                                                   none   \n",
       "6        test = c(\"11-Feb-01\",\"12-Feb-01\",\"01-Mai-08\"...   \n",
       "7       read.csv()  NULL  DocID       Anno1    Anno7 ...   \n",
       "8                  08:00-08:15 08:15-08:30 08:30-08:45     \n",
       "9                                                   none   \n",
       "10      v &lt;- read.csv2(\"200109.csv\", header=TRUE, ...   \n",
       "11                                                 qw()    \n",
       "12        (8.048,18.05] (-21.95,-11.95] (-31.95,-21.9...   \n",
       "13      as.date()  as.Date()  chron()  as.POSIXct()  ...   \n",
       "14      doSomething &lt;- function(df) {   // do some...   \n",
       "15                                                  ? Y    \n",
       "16                                                  none   \n",
       "17      #x-axis dat1              dat2 -10     0.0140...   \n",
       "18      hclust()  as.dendrogram()  plot.dendrogram() ...   \n",
       "19      MeanDecreaseAccuracy  MeanDecreaseGini  MeanD...   \n",
       "20      plot()  main  sub  xlab  ylab  NULL  pdf()  p...   \n",
       "21                                                  none   \n",
       "22      #!/bin/bash R --vanilla --slave &lt;&lt;RSCRI...   \n",
       "23      rpart &lt;- function(formula, data, weights, ...   \n",
       "24      # Comment                                   #...   \n",
       "25      mnlong &lt;- 280.460 + .9856474 * time mnlong...   \n",
       "26                                                  none   \n",
       "27      myList &lt;- as.data.frame(c(\"Bob\", \"Mary\", \"...   \n",
       "28      foo.csv  scale, serial, spawn, for, worker 5,...   \n",
       "29      const std::string path( \"/projects/current\" )...   \n",
       "...                                                  ...   \n",
       "87374   old   new  A      B A      A B      C D      ...   \n",
       "87375   ggplot  geom  library(ggplot2) notMyOwnFuncti...   \n",
       "87376    regional_vol_GM_atlas1.txt  regional_vol_GM_...   \n",
       "87377      IDP   PREDMET   ID    NAME 1 120_1  ustano...   \n",
       "87378    net &lt;- simplify(InnatedGraph, remove.mult...   \n",
       "87379   [[6]]              V1        V2        V3 2  ...   \n",
       "87380   devtools::install_github(\"hadley/ggplot2\") li...   \n",
       "87381      ID year       var1      var2 1   1    1   ...   \n",
       "87382   &gt; head(dt)              id x   y 1:       ...   \n",
       "87383   library(ggplot2)  dat &lt;- data.frame(study ...   \n",
       "87384   library(\"lubridate\")  df = data.frame(c(\"AAA\"...   \n",
       "87385   df &lt;- data.frame(id=c(1:4), climate=c(\"col...   \n",
       "87386      c1 c2 c3 c4  r1 1  0  1  1  r2 0  0  1  1 ...   \n",
       "87387   def rolling (df, prefix = 'r', window = 3, me...   \n",
       "87388   tidyr  anscombe  ggplot2  obs_num  library(ti...   \n",
       "87389   &gt; data GMT                 Rate 2005-02-28...   \n",
       "87390   a &lt;- html(\"http://www.cpppc.org:8082/efmis...   \n",
       "87391   library(ggplot2)   x &lt;- c(1111, 2222, 3333...   \n",
       "87392   Field_Notes  Sample_ID     Sampe_ID Year Alt_...   \n",
       "87393   githubURL &lt;- (\"https://github.com/derek-co...   \n",
       "87394   s&lt;-\"no Spc PSize 2                0       ...   \n",
       "87395   matrix  set.seed(1) mat &lt;- matrix(rnorm(10...   \n",
       "87396   rvest  library(rvest) url4 &lt;- \"http://www....   \n",
       "87397   f  q  q &lt;- 2 f &lt;- function(x) q + x f  ...   \n",
       "87398   Rcout  Rprintf  1  H_sigma_1()  H_sigma_2()  ...   \n",
       "87399   modset &lt;- structure(list(A = c(1, 1), B = ...   \n",
       "87400   Column A  Column B   Column C      a1       b...   \n",
       "87401   df &lt;- tribble(     ~name, ~value,     \"Jak...   \n",
       "87402   df1 &lt;- structure(list(Block = c(1L, 1L, 1L...   \n",
       "87403   Id   Subject    Date        Vitals       Valu...   \n",
       "\n",
       "                                          Tag   ExpertId  Count  cate  \n",
       "0                             math statistics    79513.0      1   218  \n",
       "1          math statistics bayesian dirichlet    23263.0      1    91  \n",
       "2                   mathematical-optimization     3201.0      1    15  \n",
       "3                                      vector    37751.0     53   121  \n",
       "4                                      vector    54904.0      1   163  \n",
       "5                           language-features    57626.0      1   171  \n",
       "6                                        date    12677.0      2    54  \n",
       "7                                   filtering    58681.0      2   173  \n",
       "8                                 time-series   148801.0      2   370  \n",
       "9                 visual-studio setup-project      445.0      1     3  \n",
       "10                                time-series    26575.0      6   102  \n",
       "11                                       perl    16632.0    223    68  \n",
       "12                                 statistics    37751.0     53   121  \n",
       "13                                   datetime     4892.0      4    26  \n",
       "14                                       none    37751.0     53   121  \n",
       "15                                       none    63225.0      1   187  \n",
       "16                              list indexing    41665.0      1   132  \n",
       "17                                 statistics    37751.0     53   121  \n",
       "18                     edge dendrogram hclust    62970.0      1   186  \n",
       "19       statistics data-mining random-forest    90567.0      2   241  \n",
       "20                          statistics charts    66519.0      1   194  \n",
       "21                                 statistics    60617.0      9   178  \n",
       "22                     bash statistics charts    26575.0      6   102  \n",
       "23                                       none    26575.0      6   102  \n",
       "24                                  emacs ess    16240.0      2    66  \n",
       "25                                     syntax    57428.0      1   168  \n",
       "26                                        svn    14257.0      4    59  \n",
       "27                          statistics s-plus    90567.0      2   241  \n",
       "28                                       plot    39578.0      1   127  \n",
       "29                 statistics const constants    16632.0    223    68  \n",
       "...                                       ...        ...    ...   ...  \n",
       "87374                                    none  4895725.0    223  7647  \n",
       "87375                                 ggplot2  3120598.0     69  5516  \n",
       "87376         text-processing data-extraction  5132823.0     12  7928  \n",
       "87377                                    none  3703936.0      3  6278  \n",
       "87378                            graph igraph  4488105.0      1  7216  \n",
       "87379                        dataframe lapply  5038157.0      3  7824  \n",
       "87380                                 ggplot2  1855677.0   1954  3632  \n",
       "87381                                    none  3115675.0      2  5510  \n",
       "87382                                 ggplot2  6805241.0     16  8966  \n",
       "87383                         ggplot2 boxplot  2461552.0    200  4554  \n",
       "87384                                    none  5202253.0     44  7987  \n",
       "87385               apache-spark sparkr grepl  4964651.0    125  7728  \n",
       "87386                                    none   809198.0      2  1714  \n",
       "87387          python function pandas methods  2336654.0      2  4375  \n",
       "87388                reshape2 tidyr tidyverse   496488.0    484  1161  \n",
       "87389                        vector dataframe     1968.0    181    11  \n",
       "87390             html xml web-scraping rvest  1457051.0    540  2922  \n",
       "87391                                 ggplot2   903061.0    443  1871  \n",
       "87392                                    none  1627235.0    753  3264  \n",
       "87393                                  import  1235433.0      1  2509  \n",
       "87394                       time-series dplyr  2966222.0     48  5313  \n",
       "87395                          matrix product  4891738.0    407  7640  \n",
       "87396                      web-scraping rvest  2572423.0    113  4721  \n",
       "87397                                function   822162.0      8  1726  \n",
       "87398                                c++ rcpp  1345455.0     50  2746  \n",
       "87399  matrix dataframe matrix-multiplication  4891738.0    407  7640  \n",
       "87400                             python list  6105720.0     39  8634  \n",
       "87401                 regex stringr tidyverse  3732271.0   4380  6313  \n",
       "87402                           sorting order   496803.0    497  1162  \n",
       "87403                 group-by dplyr collapse   903061.0    443  1871  \n",
       "\n",
       "[87404 rows x 8 columns]"
      ]
     },
     "execution_count": 204,
     "metadata": {},
     "output_type": "execute_result"
    }
   ],
   "source": [
    "df"
   ]
  },
  {
   "cell_type": "code",
   "execution_count": 205,
   "metadata": {
    "collapsed": false
   },
   "outputs": [],
   "source": [
    "#final1=experts_count[experts_count.Count > 10]\n",
    "#final2 = experts_count[experts_count.Count > 20]\n",
    "#final3=experts_count[experts_count.Count > 30]\n",
    "#final4 = experts_count[experts_count.Count > 40]\n",
    "k1=df.Count > 10\n",
    "k2=df.Count > 20\n",
    "k3=df.Count > 30\n",
    "k4=df.Count > 40"
   ]
  },
  {
   "cell_type": "code",
   "execution_count": 206,
   "metadata": {
    "collapsed": false
   },
   "outputs": [
    {
     "name": "stderr",
     "output_type": "stream",
     "text": [
      "D:\\miniconda\\envs\\python27\\lib\\site-packages\\ipykernel\\__main__.py:1: UserWarning: Boolean Series key will be reindexed to match DataFrame index.\n",
      "  if __name__ == '__main__':\n",
      "D:\\miniconda\\envs\\python27\\lib\\site-packages\\ipykernel\\__main__.py:2: UserWarning: Boolean Series key will be reindexed to match DataFrame index.\n",
      "  from ipykernel import kernelapp as app\n",
      "D:\\miniconda\\envs\\python27\\lib\\site-packages\\ipykernel\\__main__.py:3: UserWarning: Boolean Series key will be reindexed to match DataFrame index.\n",
      "  app.launch_new_instance()\n",
      "D:\\miniconda\\envs\\python27\\lib\\site-packages\\ipykernel\\__main__.py:4: UserWarning: Boolean Series key will be reindexed to match DataFrame index.\n"
     ]
    }
   ],
   "source": [
    "x_tag1=tfv.fit_transform(list(df[:80000][k1]['Tag'])+list(df[80000:]['Tag']))\n",
    "x_tag2=tfv.fit_transform(list(df[:80000][k2]['Tag'])+list(df[80000:]['Tag']))\n",
    "x_tag3=tfv.fit_transform(list(df[:80000][k3]['Tag'])+list(df[80000:]['Tag']))\n",
    "x_tag4=tfv.fit_transform(list(df[:80000][k4]['Tag'])+list(df[80000:]['Tag']))\n",
    "#x_tag2=tfv.fit_transform(df[:70000][k2]['Tag'])\n",
    "#x_tag3=tfv.fit_transform(df[:70000][k3]['Tag'])\n",
    "#x_title1=tfv.fit_transform(df[:70000][k1]['Title'])\n",
    "#x_title2=tfv.fit_transform(df[:70000][k2]['Title'])\n",
    "#x_title3=tfv.fit_transform(df[:70000][k3]['Title'])"
   ]
  },
  {
   "cell_type": "code",
   "execution_count": 211,
   "metadata": {
    "collapsed": false
   },
   "outputs": [
    {
     "name": "stderr",
     "output_type": "stream",
     "text": [
      "D:\\miniconda\\envs\\python27\\lib\\site-packages\\ipykernel\\__main__.py:1: UserWarning: Boolean Series key will be reindexed to match DataFrame index.\n",
      "  if __name__ == '__main__':\n",
      "D:\\miniconda\\envs\\python27\\lib\\site-packages\\ipykernel\\__main__.py:2: UserWarning: Boolean Series key will be reindexed to match DataFrame index.\n",
      "  from ipykernel import kernelapp as app\n",
      "D:\\miniconda\\envs\\python27\\lib\\site-packages\\ipykernel\\__main__.py:3: UserWarning: Boolean Series key will be reindexed to match DataFrame index.\n",
      "  app.launch_new_instance()\n",
      "D:\\miniconda\\envs\\python27\\lib\\site-packages\\ipykernel\\__main__.py:4: UserWarning: Boolean Series key will be reindexed to match DataFrame index.\n"
     ]
    }
   ],
   "source": [
    "final1=df[:80000][k1]\n",
    "final2=df[:80000][k2]\n",
    "final3=df[:80000][k3]\n",
    "final4=df[:80000][k4]"
   ]
  },
  {
   "cell_type": "code",
   "execution_count": 144,
   "metadata": {
    "collapsed": false
   },
   "outputs": [],
   "source": [
    "from sklearn import preprocessing\n",
    "le=preprocessing.LabelEncoder()\n",
    "le.fit(df['ExpertId'])\n",
    "le.classes_\n",
    "a=le.transform(df['ExpertId'])"
   ]
  },
  {
   "cell_type": "code",
   "execution_count": 191,
   "metadata": {
    "collapsed": false
   },
   "outputs": [
    {
     "name": "stdout",
     "output_type": "stream",
     "text": [
      "1tag\n"
     ]
    },
    {
     "data": {
      "text/plain": [
       "0.10491840956102046"
      ]
     },
     "execution_count": 191,
     "metadata": {},
     "output_type": "execute_result"
    }
   ],
   "source": [
    "lr=LogisticRegression(C=2)\n",
    "print ('1'+ 'tag')\n",
    "lr.fit(x_tag1[:final1.shape[0]],df['cate'][:80000][k1])\n",
    "y=lr.predict(x_tag1[final1.shape[0]:])\n",
    "sklearn.metrics.accuracy_score(y,df['cate'][80000:])"
   ]
  },
  {
   "cell_type": "code",
   "execution_count": 212,
   "metadata": {
    "collapsed": false
   },
   "outputs": [
    {
     "name": "stdout",
     "output_type": "stream",
     "text": [
      "1tag\n"
     ]
    },
    {
     "data": {
      "text/plain": [
       "0.11655861696380335"
      ]
     },
     "execution_count": 212,
     "metadata": {},
     "output_type": "execute_result"
    }
   ],
   "source": [
    "lr=LogisticRegression(C=2)\n",
    "print ('1'+ 'tag')\n",
    "lr.fit(x_tag1[:final1.shape[0]],df['cate'][:80000][k1])\n",
    "y=lr.predict(x_tag1[final1.shape[0]:])\n",
    "sklearn.metrics.accuracy_score(y,df['cate'][80000:])"
   ]
  },
  {
   "cell_type": "code",
   "execution_count": 195,
   "metadata": {
    "collapsed": false
   },
   "outputs": [
    {
     "data": {
      "text/plain": [
       "54853"
      ]
     },
     "execution_count": 195,
     "metadata": {},
     "output_type": "execute_result"
    }
   ],
   "source": [
    "final2.shape[0]"
   ]
  },
  {
   "cell_type": "code",
   "execution_count": 199,
   "metadata": {
    "collapsed": false
   },
   "outputs": [
    {
     "name": "stdout",
     "output_type": "stream",
     "text": [
      "2tag\n"
     ]
    },
    {
     "data": {
      "text/plain": [
       "0.10422891289358768"
      ]
     },
     "execution_count": 199,
     "metadata": {},
     "output_type": "execute_result"
    }
   ],
   "source": [
    "print ('2'+ 'tag')\n",
    "lr.fit(x_tag2[:final2.shape[0]],df['cate'][:70000][k2])\n",
    "y=lr.predict(x_tag2[final2.shape[0]:])\n",
    "sklearn.metrics.accuracy_score(y,df['cate'][70000:])"
   ]
  },
  {
   "cell_type": "code",
   "execution_count": 200,
   "metadata": {
    "collapsed": false
   },
   "outputs": [
    {
     "name": "stdout",
     "output_type": "stream",
     "text": [
      "3tag\n"
     ]
    },
    {
     "data": {
      "text/plain": [
       "0.1036543323373937"
      ]
     },
     "execution_count": 200,
     "metadata": {},
     "output_type": "execute_result"
    }
   ],
   "source": [
    "print ('3'+ 'tag')\n",
    "lr.fit(x_tag3[:final3.shape[0]],df['cate'][:70000][k3])\n",
    "y=lr.predict(x_tag3[final3.shape[0]:])\n",
    "sklearn.metrics.accuracy_score(y,df['cate'][70000:])"
   ]
  },
  {
   "cell_type": "code",
   "execution_count": 202,
   "metadata": {
    "collapsed": false
   },
   "outputs": [
    {
     "name": "stdout",
     "output_type": "stream",
     "text": [
      "4tag\n"
     ]
    },
    {
     "data": {
      "text/plain": [
       "0.10279246150310274"
      ]
     },
     "execution_count": 202,
     "metadata": {},
     "output_type": "execute_result"
    }
   ],
   "source": [
    "print ('4'+ 'tag')\n",
    "lr.fit(x_tag4[:final4.shape[0]],df['cate'][:70000][k4])\n",
    "y=lr.predict(x_tag4[final4.shape[0]:])\n",
    "sklearn.metrics.accuracy_score(y,df['cate'][70000:])"
   ]
  },
  {
   "cell_type": "code",
   "execution_count": 107,
   "metadata": {
    "collapsed": false
   },
   "outputs": [],
   "source": [
    "y=lr.predict(x_q[60000:])"
   ]
  },
  {
   "cell_type": "code",
   "execution_count": 108,
   "metadata": {
    "collapsed": false
   },
   "outputs": [
    {
     "data": {
      "text/plain": [
       "0.12722965440356745"
      ]
     },
     "execution_count": 108,
     "metadata": {},
     "output_type": "execute_result"
    }
   ],
   "source": [
    "import sklearn#f_svd+n,adj\n",
    "sklearn.metrics.accuracy_score(y,a[60000:])"
   ]
  },
  {
   "cell_type": "code",
   "execution_count": 111,
   "metadata": {
    "collapsed": false
   },
   "outputs": [
    {
     "data": {
      "text/plain": [
       "BernoulliNB(alpha=0.2, binarize=0, class_prior=None, fit_prior=True)"
      ]
     },
     "execution_count": 111,
     "metadata": {},
     "output_type": "execute_result"
    }
   ],
   "source": [
    "from sklearn.naive_bayes import BernoulliNB  as BNL\n",
    "bnl=BNL(alpha=0.2, binarize=0, class_prior=None, fit_prior=True)\n",
    "bnl.fit(x_tag[:60000],a[:60000])"
   ]
  },
  {
   "cell_type": "code",
   "execution_count": 112,
   "metadata": {
    "collapsed": false
   },
   "outputs": [
    {
     "data": {
      "text/plain": [
       "0.12722965440356745"
      ]
     },
     "execution_count": 112,
     "metadata": {},
     "output_type": "execute_result"
    }
   ],
   "source": [
    "y=lr.predict(x_q[60000:])\n",
    "sklearn.metrics.accuracy_score(y,a[60000:])"
   ]
  },
  {
   "cell_type": "markdown",
   "metadata": {},
   "source": [
    "**数据整合完毕，开始构造实验数据集**"
   ]
  },
  {
   "cell_type": "code",
   "execution_count": 36,
   "metadata": {
    "collapsed": true
   },
   "outputs": [],
   "source": [
    "expert_profile = questions_answers.groupby('ExpertId',as_index=True).agg(lambda x: ' '.join(x))"
   ]
  },
  {
   "cell_type": "code",
   "execution_count": 37,
   "metadata": {
    "collapsed": false
   },
   "outputs": [
    {
     "data": {
      "text/html": [
       "<div>\n",
       "<table border=\"1\" class=\"dataframe\">\n",
       "  <thead>\n",
       "    <tr style=\"text-align: right;\">\n",
       "      <th></th>\n",
       "      <th>Title</th>\n",
       "      <th>QuestionBody</th>\n",
       "    </tr>\n",
       "    <tr>\n",
       "      <th>ExpertId</th>\n",
       "      <th></th>\n",
       "      <th></th>\n",
       "    </tr>\n",
       "  </thead>\n",
       "  <tbody>\n",
       "    <tr>\n",
       "      <th>13.0</th>\n",
       "      <td>R \"str\" equivalent in perl</td>\n",
       "      <td>How do you get the data structure of an objec...</td>\n",
       "    </tr>\n",
       "    <tr>\n",
       "      <th>337.0</th>\n",
       "      <td>Is there any command to exit R programming?</td>\n",
       "      <td>Is there any command that can be used to exit...</td>\n",
       "    </tr>\n",
       "    <tr>\n",
       "      <th>419.0</th>\n",
       "      <td>How to run PowerShell command in R?</td>\n",
       "      <td>For example, this PowerShell command returns ...</td>\n",
       "    </tr>\n",
       "    <tr>\n",
       "      <th>445.0</th>\n",
       "      <td>What's the easiest way to install 100s of file...</td>\n",
       "      <td>I have a standard c# application that acts as...</td>\n",
       "    </tr>\n",
       "    <tr>\n",
       "      <th>459.0</th>\n",
       "      <td>Regular expression\"\\\\|\" in strsplit</td>\n",
       "      <td>I wonder   is equal to   ?  maybe  is eq...</td>\n",
       "    </tr>\n",
       "  </tbody>\n",
       "</table>\n",
       "</div>"
      ],
      "text/plain": [
       "                                                      Title  \\\n",
       "ExpertId                                                      \n",
       "13.0                             R \"str\" equivalent in perl   \n",
       "337.0           Is there any command to exit R programming?   \n",
       "419.0                   How to run PowerShell command in R?   \n",
       "445.0     What's the easiest way to install 100s of file...   \n",
       "459.0                   Regular expression\"\\\\|\" in strsplit   \n",
       "\n",
       "                                               QuestionBody  \n",
       "ExpertId                                                     \n",
       "13.0       How do you get the data structure of an objec...  \n",
       "337.0      Is there any command that can be used to exit...  \n",
       "419.0      For example, this PowerShell command returns ...  \n",
       "445.0      I have a standard c# application that acts as...  \n",
       "459.0           I wonder   is equal to   ?  maybe  is eq...  "
      ]
     },
     "execution_count": 37,
     "metadata": {},
     "output_type": "execute_result"
    }
   ],
   "source": [
    "expert_profile.head()"
   ]
  },
  {
   "cell_type": "code",
   "execution_count": 38,
   "metadata": {
    "collapsed": false
   },
   "outputs": [
    {
     "name": "stdout",
     "output_type": "stream",
     "text": [
      "<class 'pandas.core.frame.DataFrame'>\n",
      "Float64Index: 9004 entries, 13.0 to 7034800.0\n",
      "Data columns (total 2 columns):\n",
      "Title           9004 non-null object\n",
      "QuestionBody    9004 non-null object\n",
      "dtypes: object(2)\n",
      "memory usage: 211.0+ KB\n"
     ]
    }
   ],
   "source": [
    "expert_profile.info()"
   ]
  },
  {
   "cell_type": "code",
   "execution_count": 39,
   "metadata": {
    "collapsed": true
   },
   "outputs": [],
   "source": [
    "expert_profile2 = questions_answers.set_index(['ExpertId'], drop=True)"
   ]
  },
  {
   "cell_type": "code",
   "execution_count": 56,
   "metadata": {
    "collapsed": true
   },
   "outputs": [
    {
     "name": "stdout",
     "output_type": "stream",
     "text": [
      "<class 'pandas.core.frame.DataFrame'>\n",
      "Float64Index: 87404 entries, 79513.0 to 903061.0\n",
      "Data columns (total 5 columns):\n",
      "Id              87404 non-null int64\n",
      "Title           87404 non-null object\n",
      "QuestionBody    87404 non-null object\n",
      "CodeBody        81701 non-null object\n",
      "Tag             71861 non-null object\n",
      "dtypes: int64(1), object(4)\n",
      "memory usage: 4.0+ MB\n"
     ]
    }
   ],
   "source": [
    "expert_profile2.info()"
   ]
  },
  {
   "cell_type": "code",
   "execution_count": null,
   "metadata": {
    "collapsed": true
   },
   "outputs": [],
   "source": []
  }
 ],
 "metadata": {
  "anaconda-cloud": {},
  "kernelspec": {
   "display_name": "Python 2",
   "language": "python",
   "name": "python2"
  },
  "language_info": {
   "codemirror_mode": {
    "name": "ipython",
    "version": 2
   },
   "file_extension": ".py",
   "mimetype": "text/x-python",
   "name": "python",
   "nbconvert_exporter": "python",
   "pygments_lexer": "ipython2",
   "version": "2.7.13"
  }
 },
 "nbformat": 4,
 "nbformat_minor": 2
}
