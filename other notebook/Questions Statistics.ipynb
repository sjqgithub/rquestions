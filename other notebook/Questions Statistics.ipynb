{
 "cells": [
  {
   "cell_type": "code",
   "execution_count": 1,
   "metadata": {
    "collapsed": false
   },
   "outputs": [
    {
     "name": "stderr",
     "output_type": "stream",
     "text": [
      "C:\\Users\\Administrator\\Anaconda2\\lib\\site-packages\\sklearn\\cross_validation.py:44: DeprecationWarning: This module was deprecated in version 0.18 in favor of the model_selection module into which all the refactored classes and functions are moved. Also note that the interface of the new CV iterators are different from that of this module. This module will be removed in 0.20.\n",
      "  \"This module will be removed in 0.20.\", DeprecationWarning)\n"
     ]
    }
   ],
   "source": [
    "# all of the imports\n",
    "import pandas as pd\n",
    "import numpy as np\n",
    "import pickle \n",
    "import patsy\n",
    "import matplotlib.pyplot as plt\n",
    "import seaborn as sns\n",
    "\n",
    "\n",
    "from sklearn.pipeline import make_pipeline\n",
    "from sklearn.cross_validation import train_test_split\n",
    "% matplotlib inline\n",
    "from sklearn import preprocessing as pp\n",
    "import warnings\n",
    "warnings.filterwarnings('ignore')"
   ]
  },
  {
   "cell_type": "code",
   "execution_count": 2,
   "metadata": {
    "collapsed": true
   },
   "outputs": [],
   "source": [
    "from sklearn.linear_model import LogisticRegression\n",
    "from sklearn.neighbors import KNeighborsClassifier\n",
    "from sklearn.feature_selection import SelectKBest\n",
    "from sklearn.naive_bayes import MultinomialNB\n",
    "\n",
    "from sklearn.model_selection import cross_val_score\n",
    "from sklearn.feature_extraction.text import CountVectorizer\n",
    "from sklearn.feature_extraction.text import TfidfVectorizer\n",
    "\n",
    "from sklearn.preprocessing import Normalizer\n",
    "from sklearn.pipeline import Pipeline\n",
    "from sklearn.pipeline import FeatureUnion\n",
    "from sklearn.base import BaseEstimator, TransformerMixin\n",
    "from sklearn.linear_model import SGDClassifier\n",
    "from sklearn.metrics import accuracy_score, classification_report\n",
    "\n",
    "from sklearn.metrics import make_scorer\n",
    "from sklearn.metrics import recall_score\n",
    "\n",
    "from sklearn.model_selection import GridSearchCV\n",
    "from sklearn.model_selection import RandomizedSearchCV\n",
    "from sklearn.metrics import roc_curve, auc"
   ]
  },
  {
   "cell_type": "code",
   "execution_count": 3,
   "metadata": {
    "collapsed": true
   },
   "outputs": [],
   "source": [
    "import nltk\n",
    "import itertools\n",
    "from nltk.probability import FreqDist\n",
    "\n",
    "stopset = set(nltk.corpus.stopwords.words('english'))"
   ]
  },
  {
   "cell_type": "code",
   "execution_count": 4,
   "metadata": {
    "collapsed": true
   },
   "outputs": [],
   "source": [
    "def rotate(ax, degree):\n",
    "    for tick in ax.get_xticklabels():\n",
    "        tick.set_rotation(degree)"
   ]
  },
  {
   "cell_type": "code",
   "execution_count": 5,
   "metadata": {
    "collapsed": true
   },
   "outputs": [],
   "source": [
    "questions = pd.read_csv('./Questions.csv',encoding='latin1')"
   ]
  },
  {
   "cell_type": "code",
   "execution_count": 6,
   "metadata": {
    "collapsed": false
   },
   "outputs": [
    {
     "name": "stdout",
     "output_type": "stream",
     "text": [
      "<class 'pandas.core.frame.DataFrame'>\n",
      "RangeIndex: 147075 entries, 0 to 147074\n",
      "Data columns (total 6 columns):\n",
      "Id              147075 non-null int64\n",
      "OwnerUserId     146129 non-null float64\n",
      "CreationDate    147075 non-null object\n",
      "Score           147075 non-null int64\n",
      "Title           147075 non-null object\n",
      "Body            147075 non-null object\n",
      "dtypes: float64(1), int64(2), object(3)\n",
      "memory usage: 6.7+ MB\n"
     ]
    }
   ],
   "source": [
    "questions.info()"
   ]
  },
  {
   "cell_type": "markdown",
   "metadata": {},
   "source": [
    "** Conclusion：OwnerUserId存在缺失值**"
   ]
  },
  {
   "cell_type": "code",
   "execution_count": 8,
   "metadata": {
    "collapsed": false
   },
   "outputs": [
    {
     "data": {
      "text/html": [
       "<div>\n",
       "<table border=\"1\" class=\"dataframe\">\n",
       "  <thead>\n",
       "    <tr style=\"text-align: right;\">\n",
       "      <th></th>\n",
       "      <th>Id</th>\n",
       "      <th>OwnerUserId</th>\n",
       "      <th>CreationDate</th>\n",
       "      <th>Score</th>\n",
       "      <th>Title</th>\n",
       "      <th>Body</th>\n",
       "    </tr>\n",
       "  </thead>\n",
       "  <tbody>\n",
       "    <tr>\n",
       "      <th>0</th>\n",
       "      <td>77434</td>\n",
       "      <td>14008.0</td>\n",
       "      <td>2008-09-16T21:40:29Z</td>\n",
       "      <td>134</td>\n",
       "      <td>How to access the last value in a vector?</td>\n",
       "      <td>&lt;p&gt;Suppose I have a vector that is nested in a...</td>\n",
       "    </tr>\n",
       "    <tr>\n",
       "      <th>1</th>\n",
       "      <td>79709</td>\n",
       "      <td>NaN</td>\n",
       "      <td>2008-09-17T03:39:16Z</td>\n",
       "      <td>1</td>\n",
       "      <td>Worse sin: side effects or passing massive obj...</td>\n",
       "      <td>&lt;p&gt;I have a function inside a loop inside a fu...</td>\n",
       "    </tr>\n",
       "    <tr>\n",
       "      <th>2</th>\n",
       "      <td>95007</td>\n",
       "      <td>15842.0</td>\n",
       "      <td>2008-09-18T17:59:19Z</td>\n",
       "      <td>48</td>\n",
       "      <td>Explain the quantile() function in R</td>\n",
       "      <td>&lt;p&gt;I've been mystified by the R quantile funct...</td>\n",
       "    </tr>\n",
       "    <tr>\n",
       "      <th>3</th>\n",
       "      <td>103312</td>\n",
       "      <td>NaN</td>\n",
       "      <td>2008-09-19T16:09:26Z</td>\n",
       "      <td>4</td>\n",
       "      <td>How to test for the EOF flag in R?</td>\n",
       "      <td>&lt;p&gt;How can I test for the &lt;code&gt;EOF&lt;/code&gt; fla...</td>\n",
       "    </tr>\n",
       "    <tr>\n",
       "      <th>4</th>\n",
       "      <td>255697</td>\n",
       "      <td>1941213.0</td>\n",
       "      <td>2008-11-01T15:48:30Z</td>\n",
       "      <td>3</td>\n",
       "      <td>Is there an R package for learning a Dirichlet...</td>\n",
       "      <td>&lt;p&gt;I'm looking for a an &lt;code&gt;R&lt;/code&gt; package...</td>\n",
       "    </tr>\n",
       "  </tbody>\n",
       "</table>\n",
       "</div>"
      ],
      "text/plain": [
       "       Id  OwnerUserId          CreationDate  Score  \\\n",
       "0   77434      14008.0  2008-09-16T21:40:29Z    134   \n",
       "1   79709          NaN  2008-09-17T03:39:16Z      1   \n",
       "2   95007      15842.0  2008-09-18T17:59:19Z     48   \n",
       "3  103312          NaN  2008-09-19T16:09:26Z      4   \n",
       "4  255697    1941213.0  2008-11-01T15:48:30Z      3   \n",
       "\n",
       "                                               Title  \\\n",
       "0          How to access the last value in a vector?   \n",
       "1  Worse sin: side effects or passing massive obj...   \n",
       "2               Explain the quantile() function in R   \n",
       "3                 How to test for the EOF flag in R?   \n",
       "4  Is there an R package for learning a Dirichlet...   \n",
       "\n",
       "                                                Body  \n",
       "0  <p>Suppose I have a vector that is nested in a...  \n",
       "1  <p>I have a function inside a loop inside a fu...  \n",
       "2  <p>I've been mystified by the R quantile funct...  \n",
       "3  <p>How can I test for the <code>EOF</code> fla...  \n",
       "4  <p>I'm looking for a an <code>R</code> package...  "
      ]
     },
     "execution_count": 8,
     "metadata": {},
     "output_type": "execute_result"
    }
   ],
   "source": [
    "questions.head()"
   ]
  },
  {
   "cell_type": "code",
   "execution_count": 9,
   "metadata": {
    "collapsed": true
   },
   "outputs": [],
   "source": [
    "# extract all the code part \n",
    "a = questions['Body'].str.extractall(r'(<code>[^<]+</code>)')"
   ]
  },
  {
   "cell_type": "code",
   "execution_count": 13,
   "metadata": {
    "collapsed": false
   },
   "outputs": [
    {
     "data": {
      "text/html": [
       "<div>\n",
       "<table border=\"1\" class=\"dataframe\">\n",
       "  <thead>\n",
       "    <tr style=\"text-align: right;\">\n",
       "      <th></th>\n",
       "      <th></th>\n",
       "      <th>0</th>\n",
       "    </tr>\n",
       "    <tr>\n",
       "      <th></th>\n",
       "      <th>match</th>\n",
       "      <th></th>\n",
       "    </tr>\n",
       "  </thead>\n",
       "  <tbody>\n",
       "    <tr>\n",
       "      <th rowspan=\"4\" valign=\"top\">0</th>\n",
       "      <th>0</th>\n",
       "      <td>&lt;code&gt;length()&lt;/code&gt;</td>\n",
       "    </tr>\n",
       "    <tr>\n",
       "      <th>1</th>\n",
       "      <td>&lt;code&gt;$#&lt;/code&gt;</td>\n",
       "    </tr>\n",
       "    <tr>\n",
       "      <th>2</th>\n",
       "      <td>&lt;code&gt;dat$vec1$vec2[$#]\\n&lt;/code&gt;</td>\n",
       "    </tr>\n",
       "    <tr>\n",
       "      <th>3</th>\n",
       "      <td>&lt;code&gt;dat$vec1$vec2[length(dat$vec1$vec2)]\\n&lt;/...</td>\n",
       "    </tr>\n",
       "    <tr>\n",
       "      <th>1</th>\n",
       "      <th>0</th>\n",
       "      <td>&lt;code&gt;for (dataset in list_of_datasets) {\\n  f...</td>\n",
       "    </tr>\n",
       "    <tr>\n",
       "      <th rowspan=\"2\" valign=\"top\">3</th>\n",
       "      <th>0</th>\n",
       "      <td>&lt;code&gt;EOF&lt;/code&gt;</td>\n",
       "    </tr>\n",
       "    <tr>\n",
       "      <th>1</th>\n",
       "      <td>&lt;code&gt;f &amp;lt;- file(fname, \"rb\")\\nwhile (???) {...</td>\n",
       "    </tr>\n",
       "    <tr>\n",
       "      <th rowspan=\"2\" valign=\"top\">4</th>\n",
       "      <th>0</th>\n",
       "      <td>&lt;code&gt;R&lt;/code&gt;</td>\n",
       "    </tr>\n",
       "    <tr>\n",
       "      <th>1</th>\n",
       "      <td>&lt;code&gt;R&lt;/code&gt;</td>\n",
       "    </tr>\n",
       "    <tr>\n",
       "      <th>6</th>\n",
       "      <th>0</th>\n",
       "      <td>&lt;code&gt;st&lt;/code&gt;</td>\n",
       "    </tr>\n",
       "  </tbody>\n",
       "</table>\n",
       "</div>"
      ],
      "text/plain": [
       "                                                         0\n",
       "  match                                                   \n",
       "0 0                                  <code>length()</code>\n",
       "  1                                        <code>$#</code>\n",
       "  2                       <code>dat$vec1$vec2[$#]\\n</code>\n",
       "  3      <code>dat$vec1$vec2[length(dat$vec1$vec2)]\\n</...\n",
       "1 0      <code>for (dataset in list_of_datasets) {\\n  f...\n",
       "3 0                                       <code>EOF</code>\n",
       "  1      <code>f &lt;- file(fname, \"rb\")\\nwhile (???) {...\n",
       "4 0                                         <code>R</code>\n",
       "  1                                         <code>R</code>\n",
       "6 0                                        <code>st</code>"
      ]
     },
     "execution_count": 13,
     "metadata": {},
     "output_type": "execute_result"
    }
   ],
   "source": [
    "type(a)\n",
    "a.head(10)"
   ]
  },
  {
   "cell_type": "code",
   "execution_count": 10,
   "metadata": {
    "collapsed": true
   },
   "outputs": [],
   "source": [
    "# unstack and convert into a single column for cleaning\n",
    "test = a.unstack('match')\n",
    "\n",
    "test.columns = test.columns.droplevel()\n",
    "# put all columns together\n",
    "code = pd.DataFrame(test.apply(lambda x: x.str.cat(), axis=1,reduce=True))\n",
    "# rename \n",
    "code.columns = ['CodeBody']\n",
    "# remove the html tags finally\n",
    "code['CodeBody'] = code['CodeBody'].str.replace(r'<[^>]+>|\\n|\\r',' ')"
   ]
  },
  {
   "cell_type": "code",
   "execution_count": 14,
   "metadata": {
    "collapsed": true
   },
   "outputs": [],
   "source": [
    "# remove the code part from questions\n",
    "body = questions['Body'].str.replace(r'<code>[^<]+</code>',' ')\n",
    "# build up the question part from questions\n",
    "questions['QuestionBody'] = body.str.replace(r\"<[^>]+>|\\n|\\r\", \" \")"
   ]
  },
  {
   "cell_type": "code",
   "execution_count": 15,
   "metadata": {
    "collapsed": true
   },
   "outputs": [],
   "source": [
    "# Join the codebody by index\n",
    "questions = questions.join(code)\n",
    "# final cleaned dataset\n",
    "questions_final = questions.drop('Body',axis=1)"
   ]
  },
  {
   "cell_type": "code",
   "execution_count": 16,
   "metadata": {
    "collapsed": true
   },
   "outputs": [],
   "source": [
    "# assume all answers without userID are from the same guy ID 0\n",
    "questions_final['OwnerUserId'].fillna(0,inplace=True)\n",
    "questions_final.OwnerUserId = questions_final.OwnerUserId.astype(int)"
   ]
  },
  {
   "cell_type": "code",
   "execution_count": 27,
   "metadata": {
    "collapsed": false
   },
   "outputs": [
    {
     "data": {
      "text/html": [
       "<div>\n",
       "<table border=\"1\" class=\"dataframe\">\n",
       "  <thead>\n",
       "    <tr style=\"text-align: right;\">\n",
       "      <th></th>\n",
       "      <th>Id</th>\n",
       "      <th>OwnerUserId</th>\n",
       "      <th>CreationDate</th>\n",
       "      <th>Score</th>\n",
       "      <th>Title</th>\n",
       "      <th>QuestionBody</th>\n",
       "      <th>CodeBody</th>\n",
       "    </tr>\n",
       "  </thead>\n",
       "  <tbody>\n",
       "    <tr>\n",
       "      <th>0</th>\n",
       "      <td>77434</td>\n",
       "      <td>14008</td>\n",
       "      <td>2008-09-16T21:40:29Z</td>\n",
       "      <td>134</td>\n",
       "      <td>How to access the last value in a vector?</td>\n",
       "      <td>Suppose I have a vector that is nested in a d...</td>\n",
       "      <td>length()  $#  dat$vec1$vec2[$#]   dat$vec1$ve...</td>\n",
       "    </tr>\n",
       "    <tr>\n",
       "      <th>1</th>\n",
       "      <td>79709</td>\n",
       "      <td>0</td>\n",
       "      <td>2008-09-17T03:39:16Z</td>\n",
       "      <td>1</td>\n",
       "      <td>Worse sin: side effects or passing massive obj...</td>\n",
       "      <td>I have a function inside a loop inside a func...</td>\n",
       "      <td>for (dataset in list_of_datasets) {   for (da...</td>\n",
       "    </tr>\n",
       "    <tr>\n",
       "      <th>2</th>\n",
       "      <td>95007</td>\n",
       "      <td>15842</td>\n",
       "      <td>2008-09-18T17:59:19Z</td>\n",
       "      <td>48</td>\n",
       "      <td>Explain the quantile() function in R</td>\n",
       "      <td>I've been mystified by the R quantile functio...</td>\n",
       "      <td>NaN</td>\n",
       "    </tr>\n",
       "    <tr>\n",
       "      <th>3</th>\n",
       "      <td>103312</td>\n",
       "      <td>0</td>\n",
       "      <td>2008-09-19T16:09:26Z</td>\n",
       "      <td>4</td>\n",
       "      <td>How to test for the EOF flag in R?</td>\n",
       "      <td>How can I test for the   flag in R?     For e...</td>\n",
       "      <td>EOF  f &amp;lt;- file(fname, \"rb\") while (???) { ...</td>\n",
       "    </tr>\n",
       "    <tr>\n",
       "      <th>4</th>\n",
       "      <td>255697</td>\n",
       "      <td>1941213</td>\n",
       "      <td>2008-11-01T15:48:30Z</td>\n",
       "      <td>3</td>\n",
       "      <td>Is there an R package for learning a Dirichlet...</td>\n",
       "      <td>I'm looking for a an   package which can be u...</td>\n",
       "      <td>R  R</td>\n",
       "    </tr>\n",
       "  </tbody>\n",
       "</table>\n",
       "</div>"
      ],
      "text/plain": [
       "       Id  OwnerUserId          CreationDate  Score  \\\n",
       "0   77434        14008  2008-09-16T21:40:29Z    134   \n",
       "1   79709            0  2008-09-17T03:39:16Z      1   \n",
       "2   95007        15842  2008-09-18T17:59:19Z     48   \n",
       "3  103312            0  2008-09-19T16:09:26Z      4   \n",
       "4  255697      1941213  2008-11-01T15:48:30Z      3   \n",
       "\n",
       "                                               Title  \\\n",
       "0          How to access the last value in a vector?   \n",
       "1  Worse sin: side effects or passing massive obj...   \n",
       "2               Explain the quantile() function in R   \n",
       "3                 How to test for the EOF flag in R?   \n",
       "4  Is there an R package for learning a Dirichlet...   \n",
       "\n",
       "                                        QuestionBody  \\\n",
       "0   Suppose I have a vector that is nested in a d...   \n",
       "1   I have a function inside a loop inside a func...   \n",
       "2   I've been mystified by the R quantile functio...   \n",
       "3   How can I test for the   flag in R?     For e...   \n",
       "4   I'm looking for a an   package which can be u...   \n",
       "\n",
       "                                            CodeBody  \n",
       "0   length()  $#  dat$vec1$vec2[$#]   dat$vec1$ve...  \n",
       "1   for (dataset in list_of_datasets) {   for (da...  \n",
       "2                                                NaN  \n",
       "3   EOF  f &lt;- file(fname, \"rb\") while (???) { ...  \n",
       "4                                              R  R   "
      ]
     },
     "execution_count": 27,
     "metadata": {},
     "output_type": "execute_result"
    }
   ],
   "source": [
    "questions_final.head()"
   ]
  },
  {
   "cell_type": "code",
   "execution_count": 28,
   "metadata": {
    "collapsed": false
   },
   "outputs": [
    {
     "data": {
      "text/plain": [
       "(147075, 7)"
      ]
     },
     "execution_count": 28,
     "metadata": {},
     "output_type": "execute_result"
    }
   ],
   "source": [
    "questions_final.shape"
   ]
  },
  {
   "cell_type": "code",
   "execution_count": 29,
   "metadata": {
    "collapsed": true
   },
   "outputs": [],
   "source": [
    "dfFinal = questions_final.loc[(questions_final.Score>=5) |  \\\n",
    "                              (questions_final.Score<0)]"
   ]
  },
  {
   "cell_type": "code",
   "execution_count": 30,
   "metadata": {
    "collapsed": false
   },
   "outputs": [
    {
     "data": {
      "text/html": [
       "<div>\n",
       "<table border=\"1\" class=\"dataframe\">\n",
       "  <thead>\n",
       "    <tr style=\"text-align: right;\">\n",
       "      <th></th>\n",
       "      <th>Id</th>\n",
       "      <th>OwnerUserId</th>\n",
       "      <th>CreationDate</th>\n",
       "      <th>Score</th>\n",
       "      <th>Title</th>\n",
       "      <th>QuestionBody</th>\n",
       "      <th>CodeBody</th>\n",
       "    </tr>\n",
       "  </thead>\n",
       "  <tbody>\n",
       "    <tr>\n",
       "      <th>0</th>\n",
       "      <td>77434</td>\n",
       "      <td>14008</td>\n",
       "      <td>2008-09-16T21:40:29Z</td>\n",
       "      <td>134</td>\n",
       "      <td>How to access the last value in a vector?</td>\n",
       "      <td>Suppose I have a vector that is nested in a d...</td>\n",
       "      <td>length()  $#  dat$vec1$vec2[$#]   dat$vec1$ve...</td>\n",
       "    </tr>\n",
       "    <tr>\n",
       "      <th>2</th>\n",
       "      <td>95007</td>\n",
       "      <td>15842</td>\n",
       "      <td>2008-09-18T17:59:19Z</td>\n",
       "      <td>48</td>\n",
       "      <td>Explain the quantile() function in R</td>\n",
       "      <td>I've been mystified by the R quantile functio...</td>\n",
       "      <td>NaN</td>\n",
       "    </tr>\n",
       "    <tr>\n",
       "      <th>6</th>\n",
       "      <td>439526</td>\n",
       "      <td>37751</td>\n",
       "      <td>2009-01-13T15:58:48Z</td>\n",
       "      <td>21</td>\n",
       "      <td>Thinking in Vectors with R</td>\n",
       "      <td>I know that R works most efficiently with vec...</td>\n",
       "      <td>st  p1  p2  st&amp;lt;-NULL p1&amp;lt;-NULL p2&amp;lt;-NU...</td>\n",
       "    </tr>\n",
       "    <tr>\n",
       "      <th>7</th>\n",
       "      <td>445059</td>\n",
       "      <td>37751</td>\n",
       "      <td>2009-01-14T23:09:02Z</td>\n",
       "      <td>12</td>\n",
       "      <td>Vectorize my thinking: Vector Operations in R</td>\n",
       "      <td>So earlier I answered my own question on thin...</td>\n",
       "      <td>for (j in my.data$item[my.data$fixed==0]) { #...</td>\n",
       "    </tr>\n",
       "    <tr>\n",
       "      <th>10</th>\n",
       "      <td>476726</td>\n",
       "      <td>277</td>\n",
       "      <td>2009-01-24T21:56:23Z</td>\n",
       "      <td>8</td>\n",
       "      <td>Filtering data in R</td>\n",
       "      <td>I have a CSV of file of data that I can load ...</td>\n",
       "      <td>read.csv()  NULL  DocID       Anno1    Anno7 ...</td>\n",
       "    </tr>\n",
       "  </tbody>\n",
       "</table>\n",
       "</div>"
      ],
      "text/plain": [
       "        Id  OwnerUserId          CreationDate  Score  \\\n",
       "0    77434        14008  2008-09-16T21:40:29Z    134   \n",
       "2    95007        15842  2008-09-18T17:59:19Z     48   \n",
       "6   439526        37751  2009-01-13T15:58:48Z     21   \n",
       "7   445059        37751  2009-01-14T23:09:02Z     12   \n",
       "10  476726          277  2009-01-24T21:56:23Z      8   \n",
       "\n",
       "                                            Title  \\\n",
       "0       How to access the last value in a vector?   \n",
       "2            Explain the quantile() function in R   \n",
       "6                      Thinking in Vectors with R   \n",
       "7   Vectorize my thinking: Vector Operations in R   \n",
       "10                            Filtering data in R   \n",
       "\n",
       "                                         QuestionBody  \\\n",
       "0    Suppose I have a vector that is nested in a d...   \n",
       "2    I've been mystified by the R quantile functio...   \n",
       "6    I know that R works most efficiently with vec...   \n",
       "7    So earlier I answered my own question on thin...   \n",
       "10   I have a CSV of file of data that I can load ...   \n",
       "\n",
       "                                             CodeBody  \n",
       "0    length()  $#  dat$vec1$vec2[$#]   dat$vec1$ve...  \n",
       "2                                                 NaN  \n",
       "6    st  p1  p2  st&lt;-NULL p1&lt;-NULL p2&lt;-NU...  \n",
       "7    for (j in my.data$item[my.data$fixed==0]) { #...  \n",
       "10   read.csv()  NULL  DocID       Anno1    Anno7 ...  "
      ]
     },
     "execution_count": 30,
     "metadata": {},
     "output_type": "execute_result"
    }
   ],
   "source": [
    "dfFinal.head()"
   ]
  },
  {
   "cell_type": "code",
   "execution_count": 31,
   "metadata": {
    "collapsed": false
   },
   "outputs": [
    {
     "data": {
      "text/plain": [
       "(21253, 7)"
      ]
     },
     "execution_count": 31,
     "metadata": {},
     "output_type": "execute_result"
    }
   ],
   "source": [
    "dfFinal.shape"
   ]
  },
  {
   "cell_type": "code",
   "execution_count": 24,
   "metadata": {
    "collapsed": true
   },
   "outputs": [],
   "source": [
    "texts = list(dfFinal.Title)\n",
    "# Tokenize the titles\n",
    "texts = [nltk.word_tokenize(text) for text in texts]\n",
    "# pos tag the tokens\n",
    "txtpos = [nltk.pos_tag(texts) for texts in texts]\n",
    "# for titles we only care about verbs and nouns\n",
    "txtpos = [[w for w in s if (w[1][0] == 'N' or w[1][0] == 'V') and \\\n",
    "           w[0].lower() not in stopset] \n",
    "                  for s in txtpos]"
   ]
  },
  {
   "cell_type": "code",
   "execution_count": 32,
   "metadata": {
    "collapsed": true
   },
   "outputs": [],
   "source": [
    "qbodys = list(dfFinal.QuestionBody)\n",
    "#break into sentences\n",
    "qsents = [nltk.sent_tokenize(text) for text in qbodys]\n",
    "# Tokenize the question body\n",
    "qbodys = [nltk.word_tokenize(text) for text in qbodys]\n",
    "# attach tags to the body\n",
    "qpos = [nltk.pos_tag(texts) for texts in qbodys]"
   ]
  },
  {
   "cell_type": "code",
   "execution_count": null,
   "metadata": {
    "collapsed": true
   },
   "outputs": [],
   "source": []
  },
  {
   "cell_type": "markdown",
   "metadata": {},
   "source": [
    "## Do something on the tags"
   ]
  },
  {
   "cell_type": "code",
   "execution_count": 17,
   "metadata": {
    "collapsed": false
   },
   "outputs": [
    {
     "data": {
      "text/html": [
       "<div>\n",
       "<table border=\"1\" class=\"dataframe\">\n",
       "  <thead>\n",
       "    <tr style=\"text-align: right;\">\n",
       "      <th></th>\n",
       "      <th>Id</th>\n",
       "      <th>Tag</th>\n",
       "    </tr>\n",
       "  </thead>\n",
       "  <tbody>\n",
       "    <tr>\n",
       "      <th>0</th>\n",
       "      <td>77434</td>\n",
       "      <td>vector</td>\n",
       "    </tr>\n",
       "    <tr>\n",
       "      <th>1</th>\n",
       "      <td>79709</td>\n",
       "      <td>memory</td>\n",
       "    </tr>\n",
       "    <tr>\n",
       "      <th>2</th>\n",
       "      <td>79709</td>\n",
       "      <td>function</td>\n",
       "    </tr>\n",
       "    <tr>\n",
       "      <th>3</th>\n",
       "      <td>79709</td>\n",
       "      <td>global-variables</td>\n",
       "    </tr>\n",
       "    <tr>\n",
       "      <th>4</th>\n",
       "      <td>79709</td>\n",
       "      <td>side-effects</td>\n",
       "    </tr>\n",
       "  </tbody>\n",
       "</table>\n",
       "</div>"
      ],
      "text/plain": [
       "      Id               Tag\n",
       "0  77434            vector\n",
       "1  79709            memory\n",
       "2  79709          function\n",
       "3  79709  global-variables\n",
       "4  79709      side-effects"
      ]
     },
     "execution_count": 17,
     "metadata": {},
     "output_type": "execute_result"
    }
   ],
   "source": [
    "tags = pd.read_csv('./Tags.csv',encoding='latin1')\n",
    "tags.head()"
   ]
  },
  {
   "cell_type": "code",
   "execution_count": 18,
   "metadata": {
    "collapsed": true
   },
   "outputs": [],
   "source": [
    "tags = tags[tags.Tag.notnull()]\n",
    "#tags.to_csv('tags_final.csv',index=False)"
   ]
  },
  {
   "cell_type": "code",
   "execution_count": 19,
   "metadata": {
    "collapsed": false
   },
   "outputs": [
    {
     "data": {
      "text/plain": [
       "<matplotlib.text.Text at 0x6d288b38>"
      ]
     },
     "execution_count": 19,
     "metadata": {},
     "output_type": "execute_result"
    },
    {
     "data": {
      "image/png": "[encoded data removed]",
      "text/plain": [
       "<matplotlib.figure.Figure at 0x3f7d1a90>"
      ]
     },
     "metadata": {},
     "output_type": "display_data"
    }
   ],
   "source": [
    "#tags.groupby('Id').count()\n",
    "fig, ax = plt.subplots()\n",
    "sns.distplot(tags.groupby('Id').count())\n",
    "ax.set_xlabel('number of tags')"
   ]
  },
  {
   "cell_type": "code",
   "execution_count": 22,
   "metadata": {
    "collapsed": false
   },
   "outputs": [
    {
     "data": {
      "text/plain": [
       "<matplotlib.text.Text at 0x4aa3dd68>"
      ]
     },
     "execution_count": 22,
     "metadata": {},
     "output_type": "execute_result"
    },
    {
     "data": {
      "image/png": "[encoded data removed]",
      "text/plain": [
       "<matplotlib.figure.Figure at 0x6e6b6c88>"
      ]
     },
     "metadata": {},
     "output_type": "display_data"
    }
   ],
   "source": [
    "fig, ax = plt.subplots()\n",
    "sns.distplot(questions[questions.Score< 20].Score,kde=False)\n",
    "ax.set_xlabel('distribution of scores')"
   ]
  },
  {
   "cell_type": "code",
   "execution_count": 33,
   "metadata": {
    "collapsed": true
   },
   "outputs": [],
   "source": [
    "tagsByquestion = tags.groupby('Id',as_index=False).agg(lambda x: ' '.join(x))"
   ]
  },
  {
   "cell_type": "code",
   "execution_count": 34,
   "metadata": {
    "collapsed": false
   },
   "outputs": [
    {
     "data": {
      "text/html": [
       "<div>\n",
       "<table border=\"1\" class=\"dataframe\">\n",
       "  <thead>\n",
       "    <tr style=\"text-align: right;\">\n",
       "      <th></th>\n",
       "      <th>Id</th>\n",
       "      <th>Tag</th>\n",
       "    </tr>\n",
       "  </thead>\n",
       "  <tbody>\n",
       "    <tr>\n",
       "      <th>0</th>\n",
       "      <td>77434</td>\n",
       "      <td>vector</td>\n",
       "    </tr>\n",
       "    <tr>\n",
       "      <th>1</th>\n",
       "      <td>79709</td>\n",
       "      <td>memory function global-variables side-effects</td>\n",
       "    </tr>\n",
       "    <tr>\n",
       "      <th>2</th>\n",
       "      <td>95007</td>\n",
       "      <td>math statistics</td>\n",
       "    </tr>\n",
       "    <tr>\n",
       "      <th>3</th>\n",
       "      <td>103312</td>\n",
       "      <td>file file-io eof</td>\n",
       "    </tr>\n",
       "    <tr>\n",
       "      <th>4</th>\n",
       "      <td>255697</td>\n",
       "      <td>math statistics bayesian dirichlet</td>\n",
       "    </tr>\n",
       "  </tbody>\n",
       "</table>\n",
       "</div>"
      ],
      "text/plain": [
       "       Id                                            Tag\n",
       "0   77434                                         vector\n",
       "1   79709  memory function global-variables side-effects\n",
       "2   95007                                math statistics\n",
       "3  103312                               file file-io eof\n",
       "4  255697             math statistics bayesian dirichlet"
      ]
     },
     "execution_count": 34,
     "metadata": {},
     "output_type": "execute_result"
    }
   ],
   "source": [
    "tagsByquestion.head()"
   ]
  },
  {
   "cell_type": "code",
   "execution_count": 35,
   "metadata": {
    "collapsed": true
   },
   "outputs": [],
   "source": [
    "dfFinal = dfFinal.merge(tagsByquestion,on='Id',how='left')"
   ]
  },
  {
   "cell_type": "code",
   "execution_count": 36,
   "metadata": {
    "collapsed": false
   },
   "outputs": [
    {
     "data": {
      "text/html": [
       "<div>\n",
       "<table border=\"1\" class=\"dataframe\">\n",
       "  <thead>\n",
       "    <tr style=\"text-align: right;\">\n",
       "      <th></th>\n",
       "      <th>Id</th>\n",
       "      <th>OwnerUserId</th>\n",
       "      <th>CreationDate</th>\n",
       "      <th>Score</th>\n",
       "      <th>Title</th>\n",
       "      <th>QuestionBody</th>\n",
       "      <th>CodeBody</th>\n",
       "      <th>Tag</th>\n",
       "    </tr>\n",
       "  </thead>\n",
       "  <tbody>\n",
       "    <tr>\n",
       "      <th>0</th>\n",
       "      <td>77434</td>\n",
       "      <td>14008</td>\n",
       "      <td>2008-09-16T21:40:29Z</td>\n",
       "      <td>134</td>\n",
       "      <td>How to access the last value in a vector?</td>\n",
       "      <td>Suppose I have a vector that is nested in a d...</td>\n",
       "      <td>length()  $#  dat$vec1$vec2[$#]   dat$vec1$ve...</td>\n",
       "      <td>vector</td>\n",
       "    </tr>\n",
       "    <tr>\n",
       "      <th>1</th>\n",
       "      <td>95007</td>\n",
       "      <td>15842</td>\n",
       "      <td>2008-09-18T17:59:19Z</td>\n",
       "      <td>48</td>\n",
       "      <td>Explain the quantile() function in R</td>\n",
       "      <td>I've been mystified by the R quantile functio...</td>\n",
       "      <td>NaN</td>\n",
       "      <td>math statistics</td>\n",
       "    </tr>\n",
       "    <tr>\n",
       "      <th>2</th>\n",
       "      <td>439526</td>\n",
       "      <td>37751</td>\n",
       "      <td>2009-01-13T15:58:48Z</td>\n",
       "      <td>21</td>\n",
       "      <td>Thinking in Vectors with R</td>\n",
       "      <td>I know that R works most efficiently with vec...</td>\n",
       "      <td>st  p1  p2  st&amp;lt;-NULL p1&amp;lt;-NULL p2&amp;lt;-NU...</td>\n",
       "      <td>vector</td>\n",
       "    </tr>\n",
       "    <tr>\n",
       "      <th>3</th>\n",
       "      <td>445059</td>\n",
       "      <td>37751</td>\n",
       "      <td>2009-01-14T23:09:02Z</td>\n",
       "      <td>12</td>\n",
       "      <td>Vectorize my thinking: Vector Operations in R</td>\n",
       "      <td>So earlier I answered my own question on thin...</td>\n",
       "      <td>for (j in my.data$item[my.data$fixed==0]) { #...</td>\n",
       "      <td>vector</td>\n",
       "    </tr>\n",
       "    <tr>\n",
       "      <th>4</th>\n",
       "      <td>476726</td>\n",
       "      <td>277</td>\n",
       "      <td>2009-01-24T21:56:23Z</td>\n",
       "      <td>8</td>\n",
       "      <td>Filtering data in R</td>\n",
       "      <td>I have a CSV of file of data that I can load ...</td>\n",
       "      <td>read.csv()  NULL  DocID       Anno1    Anno7 ...</td>\n",
       "      <td>filtering</td>\n",
       "    </tr>\n",
       "  </tbody>\n",
       "</table>\n",
       "</div>"
      ],
      "text/plain": [
       "       Id  OwnerUserId          CreationDate  Score  \\\n",
       "0   77434        14008  2008-09-16T21:40:29Z    134   \n",
       "1   95007        15842  2008-09-18T17:59:19Z     48   \n",
       "2  439526        37751  2009-01-13T15:58:48Z     21   \n",
       "3  445059        37751  2009-01-14T23:09:02Z     12   \n",
       "4  476726          277  2009-01-24T21:56:23Z      8   \n",
       "\n",
       "                                           Title  \\\n",
       "0      How to access the last value in a vector?   \n",
       "1           Explain the quantile() function in R   \n",
       "2                     Thinking in Vectors with R   \n",
       "3  Vectorize my thinking: Vector Operations in R   \n",
       "4                            Filtering data in R   \n",
       "\n",
       "                                        QuestionBody  \\\n",
       "0   Suppose I have a vector that is nested in a d...   \n",
       "1   I've been mystified by the R quantile functio...   \n",
       "2   I know that R works most efficiently with vec...   \n",
       "3   So earlier I answered my own question on thin...   \n",
       "4   I have a CSV of file of data that I can load ...   \n",
       "\n",
       "                                            CodeBody              Tag  \n",
       "0   length()  $#  dat$vec1$vec2[$#]   dat$vec1$ve...           vector  \n",
       "1                                                NaN  math statistics  \n",
       "2   st  p1  p2  st&lt;-NULL p1&lt;-NULL p2&lt;-NU...           vector  \n",
       "3   for (j in my.data$item[my.data$fixed==0]) { #...           vector  \n",
       "4   read.csv()  NULL  DocID       Anno1    Anno7 ...        filtering  "
      ]
     },
     "execution_count": 36,
     "metadata": {},
     "output_type": "execute_result"
    }
   ],
   "source": [
    "dfFinal.head()"
   ]
  },
  {
   "cell_type": "code",
   "execution_count": 37,
   "metadata": {
    "collapsed": true
   },
   "outputs": [],
   "source": [
    "tagNum = tags.groupby('Id')['Tag'].count()\n",
    "tagNum.columns = ['Id', 'tagNum']\n",
    "tagNum = pd.DataFrame(tagNum).reset_index(level=0)"
   ]
  },
  {
   "cell_type": "code",
   "execution_count": 38,
   "metadata": {
    "collapsed": true
   },
   "outputs": [],
   "source": [
    "dfFinal = dfFinal.merge(tagNum, on='Id',how='left')"
   ]
  },
  {
   "cell_type": "code",
   "execution_count": 39,
   "metadata": {
    "collapsed": false
   },
   "outputs": [
    {
     "data": {
      "text/html": [
       "<div>\n",
       "<table border=\"1\" class=\"dataframe\">\n",
       "  <thead>\n",
       "    <tr style=\"text-align: right;\">\n",
       "      <th></th>\n",
       "      <th>Id</th>\n",
       "      <th>OwnerUserId</th>\n",
       "      <th>CreationDate</th>\n",
       "      <th>Score</th>\n",
       "      <th>Title</th>\n",
       "      <th>QuestionBody</th>\n",
       "      <th>CodeBody</th>\n",
       "      <th>Tag_x</th>\n",
       "      <th>Tag_y</th>\n",
       "    </tr>\n",
       "  </thead>\n",
       "  <tbody>\n",
       "    <tr>\n",
       "      <th>0</th>\n",
       "      <td>77434</td>\n",
       "      <td>14008</td>\n",
       "      <td>2008-09-16T21:40:29Z</td>\n",
       "      <td>134</td>\n",
       "      <td>How to access the last value in a vector?</td>\n",
       "      <td>Suppose I have a vector that is nested in a d...</td>\n",
       "      <td>length()  $#  dat$vec1$vec2[$#]   dat$vec1$ve...</td>\n",
       "      <td>vector</td>\n",
       "      <td>1.0</td>\n",
       "    </tr>\n",
       "    <tr>\n",
       "      <th>1</th>\n",
       "      <td>95007</td>\n",
       "      <td>15842</td>\n",
       "      <td>2008-09-18T17:59:19Z</td>\n",
       "      <td>48</td>\n",
       "      <td>Explain the quantile() function in R</td>\n",
       "      <td>I've been mystified by the R quantile functio...</td>\n",
       "      <td>NaN</td>\n",
       "      <td>math statistics</td>\n",
       "      <td>2.0</td>\n",
       "    </tr>\n",
       "    <tr>\n",
       "      <th>2</th>\n",
       "      <td>439526</td>\n",
       "      <td>37751</td>\n",
       "      <td>2009-01-13T15:58:48Z</td>\n",
       "      <td>21</td>\n",
       "      <td>Thinking in Vectors with R</td>\n",
       "      <td>I know that R works most efficiently with vec...</td>\n",
       "      <td>st  p1  p2  st&amp;lt;-NULL p1&amp;lt;-NULL p2&amp;lt;-NU...</td>\n",
       "      <td>vector</td>\n",
       "      <td>1.0</td>\n",
       "    </tr>\n",
       "    <tr>\n",
       "      <th>3</th>\n",
       "      <td>445059</td>\n",
       "      <td>37751</td>\n",
       "      <td>2009-01-14T23:09:02Z</td>\n",
       "      <td>12</td>\n",
       "      <td>Vectorize my thinking: Vector Operations in R</td>\n",
       "      <td>So earlier I answered my own question on thin...</td>\n",
       "      <td>for (j in my.data$item[my.data$fixed==0]) { #...</td>\n",
       "      <td>vector</td>\n",
       "      <td>1.0</td>\n",
       "    </tr>\n",
       "    <tr>\n",
       "      <th>4</th>\n",
       "      <td>476726</td>\n",
       "      <td>277</td>\n",
       "      <td>2009-01-24T21:56:23Z</td>\n",
       "      <td>8</td>\n",
       "      <td>Filtering data in R</td>\n",
       "      <td>I have a CSV of file of data that I can load ...</td>\n",
       "      <td>read.csv()  NULL  DocID       Anno1    Anno7 ...</td>\n",
       "      <td>filtering</td>\n",
       "      <td>1.0</td>\n",
       "    </tr>\n",
       "  </tbody>\n",
       "</table>\n",
       "</div>"
      ],
      "text/plain": [
       "       Id  OwnerUserId          CreationDate  Score  \\\n",
       "0   77434        14008  2008-09-16T21:40:29Z    134   \n",
       "1   95007        15842  2008-09-18T17:59:19Z     48   \n",
       "2  439526        37751  2009-01-13T15:58:48Z     21   \n",
       "3  445059        37751  2009-01-14T23:09:02Z     12   \n",
       "4  476726          277  2009-01-24T21:56:23Z      8   \n",
       "\n",
       "                                           Title  \\\n",
       "0      How to access the last value in a vector?   \n",
       "1           Explain the quantile() function in R   \n",
       "2                     Thinking in Vectors with R   \n",
       "3  Vectorize my thinking: Vector Operations in R   \n",
       "4                            Filtering data in R   \n",
       "\n",
       "                                        QuestionBody  \\\n",
       "0   Suppose I have a vector that is nested in a d...   \n",
       "1   I've been mystified by the R quantile functio...   \n",
       "2   I know that R works most efficiently with vec...   \n",
       "3   So earlier I answered my own question on thin...   \n",
       "4   I have a CSV of file of data that I can load ...   \n",
       "\n",
       "                                            CodeBody            Tag_x  Tag_y  \n",
       "0   length()  $#  dat$vec1$vec2[$#]   dat$vec1$ve...           vector    1.0  \n",
       "1                                                NaN  math statistics    2.0  \n",
       "2   st  p1  p2  st&lt;-NULL p1&lt;-NULL p2&lt;-NU...           vector    1.0  \n",
       "3   for (j in my.data$item[my.data$fixed==0]) { #...           vector    1.0  \n",
       "4   read.csv()  NULL  DocID       Anno1    Anno7 ...        filtering    1.0  "
      ]
     },
     "execution_count": 39,
     "metadata": {},
     "output_type": "execute_result"
    }
   ],
   "source": [
    "dfFinal.head()"
   ]
  },
  {
   "cell_type": "code",
   "execution_count": 40,
   "metadata": {
    "collapsed": false
   },
   "outputs": [
    {
     "data": {
      "text/plain": [
       "Index([          u'Id',  u'OwnerUserId', u'CreationDate',        u'Score',\n",
       "              u'Title', u'QuestionBody',     u'CodeBody',        u'Tag_x',\n",
       "              u'Tag_y'],\n",
       "      dtype='object')"
      ]
     },
     "execution_count": 40,
     "metadata": {},
     "output_type": "execute_result"
    }
   ],
   "source": [
    "dfFinal.columns"
   ]
  },
  {
   "cell_type": "code",
   "execution_count": 79,
   "metadata": {
    "collapsed": true
   },
   "outputs": [],
   "source": [
    "dfFinal.loc[dfFinal.Score<0,'label'] = 'Bad'\n",
    "dfFinal.loc[dfFinal.Score>=5,'label'] = 'Good'"
   ]
  },
  {
   "cell_type": "code",
   "execution_count": 80,
   "metadata": {
    "collapsed": false
   },
   "outputs": [
    {
     "data": {
      "text/html": [
       "<div>\n",
       "<table border=\"1\" class=\"dataframe\">\n",
       "  <thead>\n",
       "    <tr style=\"text-align: right;\">\n",
       "      <th></th>\n",
       "      <th>Id</th>\n",
       "      <th>OwnerUserId</th>\n",
       "      <th>CreationDate</th>\n",
       "      <th>Score</th>\n",
       "      <th>Title</th>\n",
       "      <th>QuestionBody</th>\n",
       "      <th>CodeBody</th>\n",
       "      <th>Tag_x</th>\n",
       "      <th>Tag_y</th>\n",
       "      <th>label</th>\n",
       "    </tr>\n",
       "  </thead>\n",
       "  <tbody>\n",
       "    <tr>\n",
       "      <th>0</th>\n",
       "      <td>77434</td>\n",
       "      <td>14008</td>\n",
       "      <td>2008-09-16T21:40:29Z</td>\n",
       "      <td>134</td>\n",
       "      <td>How to access the last value in a vector?</td>\n",
       "      <td>Suppose I have a vector that is nested in a d...</td>\n",
       "      <td>length()  $#  dat$vec1$vec2[$#]   dat$vec1$ve...</td>\n",
       "      <td>vector</td>\n",
       "      <td>1.0</td>\n",
       "      <td>Good</td>\n",
       "    </tr>\n",
       "    <tr>\n",
       "      <th>1</th>\n",
       "      <td>95007</td>\n",
       "      <td>15842</td>\n",
       "      <td>2008-09-18T17:59:19Z</td>\n",
       "      <td>48</td>\n",
       "      <td>Explain the quantile() function in R</td>\n",
       "      <td>I've been mystified by the R quantile functio...</td>\n",
       "      <td>NaN</td>\n",
       "      <td>math statistics</td>\n",
       "      <td>2.0</td>\n",
       "      <td>Good</td>\n",
       "    </tr>\n",
       "    <tr>\n",
       "      <th>2</th>\n",
       "      <td>439526</td>\n",
       "      <td>37751</td>\n",
       "      <td>2009-01-13T15:58:48Z</td>\n",
       "      <td>21</td>\n",
       "      <td>Thinking in Vectors with R</td>\n",
       "      <td>I know that R works most efficiently with vec...</td>\n",
       "      <td>st  p1  p2  st&amp;lt;-NULL p1&amp;lt;-NULL p2&amp;lt;-NU...</td>\n",
       "      <td>vector</td>\n",
       "      <td>1.0</td>\n",
       "      <td>Good</td>\n",
       "    </tr>\n",
       "    <tr>\n",
       "      <th>3</th>\n",
       "      <td>445059</td>\n",
       "      <td>37751</td>\n",
       "      <td>2009-01-14T23:09:02Z</td>\n",
       "      <td>12</td>\n",
       "      <td>Vectorize my thinking: Vector Operations in R</td>\n",
       "      <td>So earlier I answered my own question on thin...</td>\n",
       "      <td>for (j in my.data$item[my.data$fixed==0]) { #...</td>\n",
       "      <td>vector</td>\n",
       "      <td>1.0</td>\n",
       "      <td>Good</td>\n",
       "    </tr>\n",
       "    <tr>\n",
       "      <th>4</th>\n",
       "      <td>476726</td>\n",
       "      <td>277</td>\n",
       "      <td>2009-01-24T21:56:23Z</td>\n",
       "      <td>8</td>\n",
       "      <td>Filtering data in R</td>\n",
       "      <td>I have a CSV of file of data that I can load ...</td>\n",
       "      <td>read.csv()  NULL  DocID       Anno1    Anno7 ...</td>\n",
       "      <td>filtering</td>\n",
       "      <td>1.0</td>\n",
       "      <td>Good</td>\n",
       "    </tr>\n",
       "  </tbody>\n",
       "</table>\n",
       "</div>"
      ],
      "text/plain": [
       "       Id  OwnerUserId          CreationDate  Score  \\\n",
       "0   77434        14008  2008-09-16T21:40:29Z    134   \n",
       "1   95007        15842  2008-09-18T17:59:19Z     48   \n",
       "2  439526        37751  2009-01-13T15:58:48Z     21   \n",
       "3  445059        37751  2009-01-14T23:09:02Z     12   \n",
       "4  476726          277  2009-01-24T21:56:23Z      8   \n",
       "\n",
       "                                           Title  \\\n",
       "0      How to access the last value in a vector?   \n",
       "1           Explain the quantile() function in R   \n",
       "2                     Thinking in Vectors with R   \n",
       "3  Vectorize my thinking: Vector Operations in R   \n",
       "4                            Filtering data in R   \n",
       "\n",
       "                                        QuestionBody  \\\n",
       "0   Suppose I have a vector that is nested in a d...   \n",
       "1   I've been mystified by the R quantile functio...   \n",
       "2   I know that R works most efficiently with vec...   \n",
       "3   So earlier I answered my own question on thin...   \n",
       "4   I have a CSV of file of data that I can load ...   \n",
       "\n",
       "                                            CodeBody            Tag_x  Tag_y  \\\n",
       "0   length()  $#  dat$vec1$vec2[$#]   dat$vec1$ve...           vector    1.0   \n",
       "1                                                NaN  math statistics    2.0   \n",
       "2   st  p1  p2  st&lt;-NULL p1&lt;-NULL p2&lt;-NU...           vector    1.0   \n",
       "3   for (j in my.data$item[my.data$fixed==0]) { #...           vector    1.0   \n",
       "4   read.csv()  NULL  DocID       Anno1    Anno7 ...        filtering    1.0   \n",
       "\n",
       "  label  \n",
       "0  Good  \n",
       "1  Good  \n",
       "2  Good  \n",
       "3  Good  \n",
       "4  Good  "
      ]
     },
     "execution_count": 80,
     "metadata": {},
     "output_type": "execute_result"
    }
   ],
   "source": [
    "dfFinal.head()"
   ]
  },
  {
   "cell_type": "code",
   "execution_count": 81,
   "metadata": {
    "collapsed": false
   },
   "outputs": [
    {
     "data": {
      "text/plain": [
       "Index([          u'Id',  u'OwnerUserId', u'CreationDate',        u'Score',\n",
       "              u'Title', u'QuestionBody',     u'CodeBody',        u'Tag_x',\n",
       "              u'Tag_y',        u'label'],\n",
       "      dtype='object')"
      ]
     },
     "execution_count": 81,
     "metadata": {},
     "output_type": "execute_result"
    }
   ],
   "source": [
    "dfFinal.columns"
   ]
  },
  {
   "cell_type": "code",
   "execution_count": 82,
   "metadata": {
    "collapsed": false
   },
   "outputs": [],
   "source": [
    "dftest = dfFinal.drop(['OwnerUserId','CreationDate','Score','CodeBody'],\\\n",
    "                      axis=1)"
   ]
  },
  {
   "cell_type": "code",
   "execution_count": 83,
   "metadata": {
    "collapsed": true
   },
   "outputs": [],
   "source": [
    "Y = dftest.label\n",
    "X = dftest.drop(['label','Id'], axis=1)\n",
    "X_train, X_test, Y_train, Y_test = train_test_split(X, Y, test_size=.30)"
   ]
  },
  {
   "cell_type": "code",
   "execution_count": 84,
   "metadata": {
    "collapsed": true
   },
   "outputs": [],
   "source": [
    "'''This is our baseline of model accuracy. We need to beat this accuracy \n",
    "while trying to maximize our recall on bad labels.'''\n",
    "\n",
    "def dummyGuess(x):\n",
    "    return pd.Series(['Good'] * len(x))"
   ]
  },
  {
   "cell_type": "code",
   "execution_count": 85,
   "metadata": {
    "collapsed": false
   },
   "outputs": [
    {
     "data": {
      "text/plain": [
       "0.64366373902133001"
      ]
     },
     "execution_count": 85,
     "metadata": {},
     "output_type": "execute_result"
    }
   ],
   "source": [
    "accuracy_score(Y_test, dummyGuess(Y_test))"
   ]
  },
  {
   "cell_type": "code",
   "execution_count": null,
   "metadata": {
    "collapsed": true
   },
   "outputs": [],
   "source": []
  },
  {
   "cell_type": "code",
   "execution_count": 101,
   "metadata": {
    "collapsed": false
   },
   "outputs": [],
   "source": [
    "'''Using nltk tokenizer will significantly slow down the fitting time but will slightly increase the accuracy.\n",
    "I trained the model with default tokenizer and then switched to nltk tokenizer later on'''\n",
    "\n",
    "pipeline = Pipeline([\n",
    "    ('features', FeatureUnion(\n",
    "        transformer_list = [\n",
    "        ('title',Pipeline([\n",
    "            ('count', TfidfVectorizer(stop_words=stopset,min_df=0.03,max_df=0.7,tokenizer=nltk.word_tokenize)),\n",
    "        ])),\n",
    "        ('question', Pipeline([\n",
    "            ('tfidf', CountVectorizer(stop_words=stopset,min_df=0.01,max_df=0.8,tokenizer=nltk.word_tokenize)),\n",
    "        ])),\n",
    "    ],\n",
    "    # the weight was trained seperately, \n",
    "    # I also controlled the weight to be fairly equal assignned.\n",
    "    transformer_weights={\n",
    "            'title':0.6,\n",
    "            'question': 0.4\n",
    "        }\n",
    "            )),\n",
    "    ('scaler',Normalizer()),    \n",
    "    ('estimators', SGDClassifier(alpha=0.001,loss='modified_huber',penalty='l2')),\n",
    "])"
   ]
  },
  {
   "cell_type": "code",
   "execution_count": 98,
   "metadata": {
    "collapsed": false
   },
   "outputs": [
    {
     "ename": "ValueError",
     "evalue": "Found input variables with inconsistent numbers of samples: [4, 14877]",
     "output_type": "error",
     "traceback": [
      "\u001b[0;31m---------------------------------------------------------------------------\u001b[0m",
      "\u001b[0;31mValueError\u001b[0m                                Traceback (most recent call last)",
      "\u001b[0;32m<ipython-input-98-30976806c2bd>\u001b[0m in \u001b[0;36m<module>\u001b[0;34m()\u001b[0m\n\u001b[0;32m----> 1\u001b[0;31m \u001b[0mpipeline\u001b[0m\u001b[1;33m.\u001b[0m\u001b[0mfit\u001b[0m\u001b[1;33m(\u001b[0m\u001b[0mX_train\u001b[0m\u001b[1;33m,\u001b[0m \u001b[0mY_train\u001b[0m\u001b[1;33m)\u001b[0m\u001b[1;33m\u001b[0m\u001b[0m\n\u001b[0m\u001b[1;32m      2\u001b[0m \u001b[0my\u001b[0m \u001b[1;33m=\u001b[0m \u001b[0mpipeline\u001b[0m\u001b[1;33m.\u001b[0m\u001b[0mpredict\u001b[0m\u001b[1;33m(\u001b[0m\u001b[0mX_test\u001b[0m\u001b[1;33m)\u001b[0m\u001b[1;33m\u001b[0m\u001b[0m\n\u001b[1;32m      3\u001b[0m \u001b[0maccuracy_score\u001b[0m\u001b[1;33m(\u001b[0m\u001b[0mY_test\u001b[0m\u001b[1;33m,\u001b[0m \u001b[0my\u001b[0m\u001b[1;33m)\u001b[0m\u001b[1;33m\u001b[0m\u001b[0m\n\u001b[1;32m      4\u001b[0m \u001b[1;32mprint\u001b[0m\u001b[1;33m(\u001b[0m\u001b[0mclassification_report\u001b[0m\u001b[1;33m(\u001b[0m\u001b[0mY_test\u001b[0m\u001b[1;33m,\u001b[0m \u001b[0my\u001b[0m\u001b[1;33m)\u001b[0m\u001b[1;33m)\u001b[0m\u001b[1;33m\u001b[0m\u001b[0m\n\u001b[1;32m      5\u001b[0m \u001b[0mtest\u001b[0m \u001b[1;33m=\u001b[0m \u001b[0mpipeline\u001b[0m\u001b[1;33m.\u001b[0m\u001b[0mpredict_proba\u001b[0m\u001b[1;33m(\u001b[0m\u001b[0mX_test\u001b[0m\u001b[1;33m)\u001b[0m\u001b[1;33m\u001b[0m\u001b[0m\n",
      "\u001b[0;32mC:\\Users\\Administrator\\Anaconda2\\lib\\site-packages\\sklearn\\pipeline.pyc\u001b[0m in \u001b[0;36mfit\u001b[0;34m(self, X, y, **fit_params)\u001b[0m\n\u001b[1;32m    268\u001b[0m         \u001b[0mXt\u001b[0m\u001b[1;33m,\u001b[0m \u001b[0mfit_params\u001b[0m \u001b[1;33m=\u001b[0m \u001b[0mself\u001b[0m\u001b[1;33m.\u001b[0m\u001b[0m_fit\u001b[0m\u001b[1;33m(\u001b[0m\u001b[0mX\u001b[0m\u001b[1;33m,\u001b[0m \u001b[0my\u001b[0m\u001b[1;33m,\u001b[0m \u001b[1;33m**\u001b[0m\u001b[0mfit_params\u001b[0m\u001b[1;33m)\u001b[0m\u001b[1;33m\u001b[0m\u001b[0m\n\u001b[1;32m    269\u001b[0m         \u001b[1;32mif\u001b[0m \u001b[0mself\u001b[0m\u001b[1;33m.\u001b[0m\u001b[0m_final_estimator\u001b[0m \u001b[1;32mis\u001b[0m \u001b[1;32mnot\u001b[0m \u001b[0mNone\u001b[0m\u001b[1;33m:\u001b[0m\u001b[1;33m\u001b[0m\u001b[0m\n\u001b[0;32m--> 270\u001b[0;31m             \u001b[0mself\u001b[0m\u001b[1;33m.\u001b[0m\u001b[0m_final_estimator\u001b[0m\u001b[1;33m.\u001b[0m\u001b[0mfit\u001b[0m\u001b[1;33m(\u001b[0m\u001b[0mXt\u001b[0m\u001b[1;33m,\u001b[0m \u001b[0my\u001b[0m\u001b[1;33m,\u001b[0m \u001b[1;33m**\u001b[0m\u001b[0mfit_params\u001b[0m\u001b[1;33m)\u001b[0m\u001b[1;33m\u001b[0m\u001b[0m\n\u001b[0m\u001b[1;32m    271\u001b[0m         \u001b[1;32mreturn\u001b[0m \u001b[0mself\u001b[0m\u001b[1;33m\u001b[0m\u001b[0m\n\u001b[1;32m    272\u001b[0m \u001b[1;33m\u001b[0m\u001b[0m\n",
      "\u001b[0;32mC:\\Users\\Administrator\\Anaconda2\\lib\\site-packages\\sklearn\\linear_model\\stochastic_gradient.pyc\u001b[0m in \u001b[0;36mfit\u001b[0;34m(self, X, y, coef_init, intercept_init, sample_weight)\u001b[0m\n\u001b[1;32m    543\u001b[0m                          \u001b[0mloss\u001b[0m\u001b[1;33m=\u001b[0m\u001b[0mself\u001b[0m\u001b[1;33m.\u001b[0m\u001b[0mloss\u001b[0m\u001b[1;33m,\u001b[0m \u001b[0mlearning_rate\u001b[0m\u001b[1;33m=\u001b[0m\u001b[0mself\u001b[0m\u001b[1;33m.\u001b[0m\u001b[0mlearning_rate\u001b[0m\u001b[1;33m,\u001b[0m\u001b[1;33m\u001b[0m\u001b[0m\n\u001b[1;32m    544\u001b[0m                          \u001b[0mcoef_init\u001b[0m\u001b[1;33m=\u001b[0m\u001b[0mcoef_init\u001b[0m\u001b[1;33m,\u001b[0m \u001b[0mintercept_init\u001b[0m\u001b[1;33m=\u001b[0m\u001b[0mintercept_init\u001b[0m\u001b[1;33m,\u001b[0m\u001b[1;33m\u001b[0m\u001b[0m\n\u001b[0;32m--> 545\u001b[0;31m                          sample_weight=sample_weight)\n\u001b[0m\u001b[1;32m    546\u001b[0m \u001b[1;33m\u001b[0m\u001b[0m\n\u001b[1;32m    547\u001b[0m \u001b[1;33m\u001b[0m\u001b[0m\n",
      "\u001b[0;32mC:\\Users\\Administrator\\Anaconda2\\lib\\site-packages\\sklearn\\linear_model\\stochastic_gradient.pyc\u001b[0m in \u001b[0;36m_fit\u001b[0;34m(self, X, y, alpha, C, loss, learning_rate, coef_init, intercept_init, sample_weight)\u001b[0m\n\u001b[1;32m    387\u001b[0m             \u001b[0mself\u001b[0m\u001b[1;33m.\u001b[0m\u001b[0mclasses_\u001b[0m \u001b[1;33m=\u001b[0m \u001b[0mNone\u001b[0m\u001b[1;33m\u001b[0m\u001b[0m\n\u001b[1;32m    388\u001b[0m \u001b[1;33m\u001b[0m\u001b[0m\n\u001b[0;32m--> 389\u001b[0;31m         \u001b[0mX\u001b[0m\u001b[1;33m,\u001b[0m \u001b[0my\u001b[0m \u001b[1;33m=\u001b[0m \u001b[0mcheck_X_y\u001b[0m\u001b[1;33m(\u001b[0m\u001b[0mX\u001b[0m\u001b[1;33m,\u001b[0m \u001b[0my\u001b[0m\u001b[1;33m,\u001b[0m \u001b[1;34m'csr'\u001b[0m\u001b[1;33m,\u001b[0m \u001b[0mdtype\u001b[0m\u001b[1;33m=\u001b[0m\u001b[0mnp\u001b[0m\u001b[1;33m.\u001b[0m\u001b[0mfloat64\u001b[0m\u001b[1;33m,\u001b[0m \u001b[0morder\u001b[0m\u001b[1;33m=\u001b[0m\u001b[1;34m\"C\"\u001b[0m\u001b[1;33m)\u001b[0m\u001b[1;33m\u001b[0m\u001b[0m\n\u001b[0m\u001b[1;32m    390\u001b[0m         \u001b[0mn_samples\u001b[0m\u001b[1;33m,\u001b[0m \u001b[0mn_features\u001b[0m \u001b[1;33m=\u001b[0m \u001b[0mX\u001b[0m\u001b[1;33m.\u001b[0m\u001b[0mshape\u001b[0m\u001b[1;33m\u001b[0m\u001b[0m\n\u001b[1;32m    391\u001b[0m \u001b[1;33m\u001b[0m\u001b[0m\n",
      "\u001b[0;32mC:\\Users\\Administrator\\Anaconda2\\lib\\site-packages\\sklearn\\utils\\validation.pyc\u001b[0m in \u001b[0;36mcheck_X_y\u001b[0;34m(X, y, accept_sparse, dtype, order, copy, force_all_finite, ensure_2d, allow_nd, multi_output, ensure_min_samples, ensure_min_features, y_numeric, warn_on_dtype, estimator)\u001b[0m\n\u001b[1;32m    529\u001b[0m         \u001b[0my\u001b[0m \u001b[1;33m=\u001b[0m \u001b[0my\u001b[0m\u001b[1;33m.\u001b[0m\u001b[0mastype\u001b[0m\u001b[1;33m(\u001b[0m\u001b[0mnp\u001b[0m\u001b[1;33m.\u001b[0m\u001b[0mfloat64\u001b[0m\u001b[1;33m)\u001b[0m\u001b[1;33m\u001b[0m\u001b[0m\n\u001b[1;32m    530\u001b[0m \u001b[1;33m\u001b[0m\u001b[0m\n\u001b[0;32m--> 531\u001b[0;31m     \u001b[0mcheck_consistent_length\u001b[0m\u001b[1;33m(\u001b[0m\u001b[0mX\u001b[0m\u001b[1;33m,\u001b[0m \u001b[0my\u001b[0m\u001b[1;33m)\u001b[0m\u001b[1;33m\u001b[0m\u001b[0m\n\u001b[0m\u001b[1;32m    532\u001b[0m \u001b[1;33m\u001b[0m\u001b[0m\n\u001b[1;32m    533\u001b[0m     \u001b[1;32mreturn\u001b[0m \u001b[0mX\u001b[0m\u001b[1;33m,\u001b[0m \u001b[0my\u001b[0m\u001b[1;33m\u001b[0m\u001b[0m\n",
      "\u001b[0;32mC:\\Users\\Administrator\\Anaconda2\\lib\\site-packages\\sklearn\\utils\\validation.pyc\u001b[0m in \u001b[0;36mcheck_consistent_length\u001b[0;34m(*arrays)\u001b[0m\n\u001b[1;32m    179\u001b[0m     \u001b[1;32mif\u001b[0m \u001b[0mlen\u001b[0m\u001b[1;33m(\u001b[0m\u001b[0muniques\u001b[0m\u001b[1;33m)\u001b[0m \u001b[1;33m>\u001b[0m \u001b[1;36m1\u001b[0m\u001b[1;33m:\u001b[0m\u001b[1;33m\u001b[0m\u001b[0m\n\u001b[1;32m    180\u001b[0m         raise ValueError(\"Found input variables with inconsistent numbers of\"\n\u001b[0;32m--> 181\u001b[0;31m                          \" samples: %r\" % [int(l) for l in lengths])\n\u001b[0m\u001b[1;32m    182\u001b[0m \u001b[1;33m\u001b[0m\u001b[0m\n\u001b[1;32m    183\u001b[0m \u001b[1;33m\u001b[0m\u001b[0m\n",
      "\u001b[0;31mValueError\u001b[0m: Found input variables with inconsistent numbers of samples: [4, 14877]"
     ]
    }
   ],
   "source": [
    "pipeline.fit(X_train, Y_train)\n",
    "y = pipeline.predict(X_test)\n",
    "accuracy_score(Y_test, y)\n",
    "print(classification_report(Y_test, y))"
   ]
  },
  {
   "cell_type": "code",
   "execution_count": 100,
   "metadata": {
    "collapsed": false
   },
   "outputs": [
    {
     "ename": "TypeError",
     "evalue": "object of type 'NoneType' has no len()",
     "output_type": "error",
     "traceback": [
      "\u001b[0;31m---------------------------------------------------------------------------\u001b[0m",
      "\u001b[0;31mTypeError\u001b[0m                                 Traceback (most recent call last)",
      "\u001b[0;32m<ipython-input-100-f0c02d7fd69b>\u001b[0m in \u001b[0;36m<module>\u001b[0;34m()\u001b[0m\n\u001b[0;32m----> 1\u001b[0;31m \u001b[0mtest\u001b[0m \u001b[1;33m=\u001b[0m \u001b[0mpipeline\u001b[0m\u001b[1;33m.\u001b[0m\u001b[0mpredict_proba\u001b[0m\u001b[1;33m(\u001b[0m\u001b[0mX_test\u001b[0m\u001b[1;33m)\u001b[0m\u001b[1;33m\u001b[0m\u001b[0m\n\u001b[0m\u001b[1;32m      2\u001b[0m \u001b[0mpredict\u001b[0m \u001b[1;33m=\u001b[0m \u001b[1;33m[\u001b[0m\u001b[1;34m'Bad'\u001b[0m \u001b[1;32mif\u001b[0m \u001b[0mpair\u001b[0m\u001b[1;33m[\u001b[0m\u001b[1;36m0\u001b[0m\u001b[1;33m]\u001b[0m\u001b[1;33m>=\u001b[0m\u001b[1;36m0.35\u001b[0m \u001b[1;32melse\u001b[0m \u001b[1;34m'Good'\u001b[0m \u001b[1;32mfor\u001b[0m \u001b[0mpair\u001b[0m \u001b[1;32min\u001b[0m \u001b[0mtest\u001b[0m\u001b[1;33m]\u001b[0m\u001b[1;33m\u001b[0m\u001b[0m\n\u001b[1;32m      3\u001b[0m \u001b[1;33m\u001b[0m\u001b[0m\n\u001b[1;32m      4\u001b[0m \u001b[1;32mprint\u001b[0m\u001b[1;33m(\u001b[0m\u001b[0mclassification_report\u001b[0m\u001b[1;33m(\u001b[0m\u001b[0mY_test\u001b[0m\u001b[1;33m,\u001b[0m\u001b[0mpredict\u001b[0m\u001b[1;33m)\u001b[0m\u001b[1;33m)\u001b[0m\u001b[1;33m\u001b[0m\u001b[0m\n\u001b[1;32m      5\u001b[0m \u001b[1;33m\u001b[0m\u001b[0m\n",
      "\u001b[0;32mC:\\Users\\Administrator\\Anaconda2\\lib\\site-packages\\sklearn\\utils\\metaestimators.pyc\u001b[0m in \u001b[0;36m<lambda>\u001b[0;34m(*args, **kwargs)\u001b[0m\n\u001b[1;32m     52\u001b[0m \u001b[1;33m\u001b[0m\u001b[0m\n\u001b[1;32m     53\u001b[0m         \u001b[1;31m# lambda, but not partial, allows help() to work with update_wrapper\u001b[0m\u001b[1;33m\u001b[0m\u001b[1;33m\u001b[0m\u001b[0m\n\u001b[0;32m---> 54\u001b[0;31m         \u001b[0mout\u001b[0m \u001b[1;33m=\u001b[0m \u001b[1;32mlambda\u001b[0m \u001b[1;33m*\u001b[0m\u001b[0margs\u001b[0m\u001b[1;33m,\u001b[0m \u001b[1;33m**\u001b[0m\u001b[0mkwargs\u001b[0m\u001b[1;33m:\u001b[0m \u001b[0mself\u001b[0m\u001b[1;33m.\u001b[0m\u001b[0mfn\u001b[0m\u001b[1;33m(\u001b[0m\u001b[0mobj\u001b[0m\u001b[1;33m,\u001b[0m \u001b[1;33m*\u001b[0m\u001b[0margs\u001b[0m\u001b[1;33m,\u001b[0m \u001b[1;33m**\u001b[0m\u001b[0mkwargs\u001b[0m\u001b[1;33m)\u001b[0m\u001b[1;33m\u001b[0m\u001b[0m\n\u001b[0m\u001b[1;32m     55\u001b[0m         \u001b[1;31m# update the docstring of the returned function\u001b[0m\u001b[1;33m\u001b[0m\u001b[1;33m\u001b[0m\u001b[0m\n\u001b[1;32m     56\u001b[0m         \u001b[0mupdate_wrapper\u001b[0m\u001b[1;33m(\u001b[0m\u001b[0mout\u001b[0m\u001b[1;33m,\u001b[0m \u001b[0mself\u001b[0m\u001b[1;33m.\u001b[0m\u001b[0mfn\u001b[0m\u001b[1;33m)\u001b[0m\u001b[1;33m\u001b[0m\u001b[0m\n",
      "\u001b[0;32mC:\\Users\\Administrator\\Anaconda2\\lib\\site-packages\\sklearn\\pipeline.pyc\u001b[0m in \u001b[0;36mpredict_proba\u001b[0;34m(self, X)\u001b[0m\n\u001b[1;32m    375\u001b[0m             \u001b[1;32mif\u001b[0m \u001b[0mtransform\u001b[0m \u001b[1;32mis\u001b[0m \u001b[1;32mnot\u001b[0m \u001b[0mNone\u001b[0m\u001b[1;33m:\u001b[0m\u001b[1;33m\u001b[0m\u001b[0m\n\u001b[1;32m    376\u001b[0m                 \u001b[0mXt\u001b[0m \u001b[1;33m=\u001b[0m \u001b[0mtransform\u001b[0m\u001b[1;33m.\u001b[0m\u001b[0mtransform\u001b[0m\u001b[1;33m(\u001b[0m\u001b[0mXt\u001b[0m\u001b[1;33m)\u001b[0m\u001b[1;33m\u001b[0m\u001b[0m\n\u001b[0;32m--> 377\u001b[0;31m         \u001b[1;32mreturn\u001b[0m \u001b[0mself\u001b[0m\u001b[1;33m.\u001b[0m\u001b[0msteps\u001b[0m\u001b[1;33m[\u001b[0m\u001b[1;33m-\u001b[0m\u001b[1;36m1\u001b[0m\u001b[1;33m]\u001b[0m\u001b[1;33m[\u001b[0m\u001b[1;33m-\u001b[0m\u001b[1;36m1\u001b[0m\u001b[1;33m]\u001b[0m\u001b[1;33m.\u001b[0m\u001b[0mpredict_proba\u001b[0m\u001b[1;33m(\u001b[0m\u001b[0mXt\u001b[0m\u001b[1;33m)\u001b[0m\u001b[1;33m\u001b[0m\u001b[0m\n\u001b[0m\u001b[1;32m    378\u001b[0m \u001b[1;33m\u001b[0m\u001b[0m\n\u001b[1;32m    379\u001b[0m     \u001b[1;33m@\u001b[0m\u001b[0mif_delegate_has_method\u001b[0m\u001b[1;33m(\u001b[0m\u001b[0mdelegate\u001b[0m\u001b[1;33m=\u001b[0m\u001b[1;34m'_final_estimator'\u001b[0m\u001b[1;33m)\u001b[0m\u001b[1;33m\u001b[0m\u001b[0m\n",
      "\u001b[0;32mC:\\Users\\Administrator\\Anaconda2\\lib\\site-packages\\sklearn\\linear_model\\stochastic_gradient.pyc\u001b[0m in \u001b[0;36m_predict_proba\u001b[0;34m(self, X)\u001b[0m\n\u001b[1;32m    768\u001b[0m \u001b[1;33m\u001b[0m\u001b[0m\n\u001b[1;32m    769\u001b[0m         \u001b[1;32melif\u001b[0m \u001b[0mself\u001b[0m\u001b[1;33m.\u001b[0m\u001b[0mloss\u001b[0m \u001b[1;33m==\u001b[0m \u001b[1;34m\"modified_huber\"\u001b[0m\u001b[1;33m:\u001b[0m\u001b[1;33m\u001b[0m\u001b[0m\n\u001b[0;32m--> 770\u001b[0;31m             \u001b[0mbinary\u001b[0m \u001b[1;33m=\u001b[0m \u001b[1;33m(\u001b[0m\u001b[0mlen\u001b[0m\u001b[1;33m(\u001b[0m\u001b[0mself\u001b[0m\u001b[1;33m.\u001b[0m\u001b[0mclasses_\u001b[0m\u001b[1;33m)\u001b[0m \u001b[1;33m==\u001b[0m \u001b[1;36m2\u001b[0m\u001b[1;33m)\u001b[0m\u001b[1;33m\u001b[0m\u001b[0m\n\u001b[0m\u001b[1;32m    771\u001b[0m             \u001b[0mscores\u001b[0m \u001b[1;33m=\u001b[0m \u001b[0mself\u001b[0m\u001b[1;33m.\u001b[0m\u001b[0mdecision_function\u001b[0m\u001b[1;33m(\u001b[0m\u001b[0mX\u001b[0m\u001b[1;33m)\u001b[0m\u001b[1;33m\u001b[0m\u001b[0m\n\u001b[1;32m    772\u001b[0m \u001b[1;33m\u001b[0m\u001b[0m\n",
      "\u001b[0;31mTypeError\u001b[0m: object of type 'NoneType' has no len()"
     ]
    }
   ],
   "source": [
    "test = pipeline.predict_proba(X_test)\n",
    "predict = ['Bad' if pair[0]>=0.35 else 'Good' for pair in test]\n",
    "\n",
    "print(classification_report(Y_test,predict))\n",
    "\n",
    "print(accuracy_score(Y_test,predict))"
   ]
  },
  {
   "cell_type": "code",
   "execution_count": null,
   "metadata": {
    "collapsed": true
   },
   "outputs": [],
   "source": []
  }
 ],
 "metadata": {
  "kernelspec": {
   "display_name": "Python 2",
   "language": "python",
   "name": "python2"
  },
  "language_info": {
   "codemirror_mode": {
    "name": "ipython",
    "version": 2
   },
   "file_extension": ".py",
   "mimetype": "text/x-python",
   "name": "python",
   "nbconvert_exporter": "python",
   "pygments_lexer": "ipython2",
   "version": "2.7.13"
  }
 },
 "nbformat": 4,
 "nbformat_minor": 2
}
