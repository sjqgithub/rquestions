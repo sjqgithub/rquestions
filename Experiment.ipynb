{
 "cells": [
  {
   "cell_type": "code",
   "execution_count": 1,
   "metadata": {
    "collapsed": true
   },
   "outputs": [],
   "source": [
    "import numpy as np\n",
    "import pandas as pd\n",
    "\n",
    "from sklearn.linear_model import LogisticRegression\n",
    "from sklearn.metrics import accuracy_score\n",
    "\n",
    "from sklearn.feature_extraction.text import TfidfVectorizer\n",
    "tfv = TfidfVectorizer(min_df=3,max_df=0.95,sublinear_tf=True)"
   ]
  },
  {
   "cell_type": "code",
   "execution_count": 2,
   "metadata": {
    "collapsed": false
   },
   "outputs": [],
   "source": [
    "experts_count=pd.read_pickle('./input/experts_count.pkl')\n",
    "experts_count=experts_count.fillna('none')"
   ]
  },
  {
   "cell_type": "code",
   "execution_count": 3,
   "metadata": {
    "collapsed": false
   },
   "outputs": [
    {
     "data": {
      "text/html": [
       "<div>\n",
       "<table border=\"1\" class=\"dataframe\">\n",
       "  <thead>\n",
       "    <tr style=\"text-align: right;\">\n",
       "      <th></th>\n",
       "      <th>Id</th>\n",
       "      <th>Title</th>\n",
       "      <th>QuestionBody</th>\n",
       "      <th>CodeBody</th>\n",
       "      <th>Tag</th>\n",
       "      <th>ExpertId</th>\n",
       "      <th>Count</th>\n",
       "      <th>Label</th>\n",
       "    </tr>\n",
       "  </thead>\n",
       "  <tbody>\n",
       "    <tr>\n",
       "      <th>0</th>\n",
       "      <td>95007</td>\n",
       "      <td>Explain the quantile() function in R</td>\n",
       "      <td>I've been mystified by the R quantile functio...</td>\n",
       "      <td>none</td>\n",
       "      <td>math statistics</td>\n",
       "      <td>79513.0</td>\n",
       "      <td>1</td>\n",
       "      <td>218</td>\n",
       "    </tr>\n",
       "    <tr>\n",
       "      <th>1</th>\n",
       "      <td>255697</td>\n",
       "      <td>Is there an R package for learning a Dirichlet...</td>\n",
       "      <td>I'm looking for a an   package which can be u...</td>\n",
       "      <td>R  R</td>\n",
       "      <td>math statistics bayesian dirichlet</td>\n",
       "      <td>23263.0</td>\n",
       "      <td>1</td>\n",
       "      <td>91</td>\n",
       "    </tr>\n",
       "    <tr>\n",
       "      <th>2</th>\n",
       "      <td>359438</td>\n",
       "      <td>Optimization packages for R</td>\n",
       "      <td>Does anyone know of any optimization packages...</td>\n",
       "      <td>none</td>\n",
       "      <td>mathematical-optimization</td>\n",
       "      <td>3201.0</td>\n",
       "      <td>1</td>\n",
       "      <td>15</td>\n",
       "    </tr>\n",
       "    <tr>\n",
       "      <th>3</th>\n",
       "      <td>439526</td>\n",
       "      <td>Thinking in Vectors with R</td>\n",
       "      <td>I know that R works most efficiently with vec...</td>\n",
       "      <td>st  p1  p2  st&amp;lt;-NULL p1&amp;lt;-NULL p2&amp;lt;-NU...</td>\n",
       "      <td>vector</td>\n",
       "      <td>37751.0</td>\n",
       "      <td>53</td>\n",
       "      <td>121</td>\n",
       "    </tr>\n",
       "    <tr>\n",
       "      <th>4</th>\n",
       "      <td>445059</td>\n",
       "      <td>Vectorize my thinking: Vector Operations in R</td>\n",
       "      <td>So earlier I answered my own question on thin...</td>\n",
       "      <td>for (j in my.data$item[my.data$fixed==0]) { #...</td>\n",
       "      <td>vector</td>\n",
       "      <td>54904.0</td>\n",
       "      <td>1</td>\n",
       "      <td>163</td>\n",
       "    </tr>\n",
       "  </tbody>\n",
       "</table>\n",
       "</div>"
      ],
      "text/plain": [
       "       Id                                              Title  \\\n",
       "0   95007               Explain the quantile() function in R   \n",
       "1  255697  Is there an R package for learning a Dirichlet...   \n",
       "2  359438                        Optimization packages for R   \n",
       "3  439526                         Thinking in Vectors with R   \n",
       "4  445059      Vectorize my thinking: Vector Operations in R   \n",
       "\n",
       "                                        QuestionBody  \\\n",
       "0   I've been mystified by the R quantile functio...   \n",
       "1   I'm looking for a an   package which can be u...   \n",
       "2   Does anyone know of any optimization packages...   \n",
       "3   I know that R works most efficiently with vec...   \n",
       "4   So earlier I answered my own question on thin...   \n",
       "\n",
       "                                            CodeBody  \\\n",
       "0                                               none   \n",
       "1                                              R  R    \n",
       "2                                               none   \n",
       "3   st  p1  p2  st&lt;-NULL p1&lt;-NULL p2&lt;-NU...   \n",
       "4   for (j in my.data$item[my.data$fixed==0]) { #...   \n",
       "\n",
       "                                  Tag  ExpertId  Count  Label  \n",
       "0                     math statistics   79513.0      1    218  \n",
       "1  math statistics bayesian dirichlet   23263.0      1     91  \n",
       "2           mathematical-optimization    3201.0      1     15  \n",
       "3                              vector   37751.0     53    121  \n",
       "4                              vector   54904.0      1    163  "
      ]
     },
     "execution_count": 3,
     "metadata": {},
     "output_type": "execute_result"
    }
   ],
   "source": [
    "experts_count.head()"
   ]
  },
  {
   "cell_type": "code",
   "execution_count": 4,
   "metadata": {
    "collapsed": false
   },
   "outputs": [
    {
     "name": "stdout",
     "output_type": "stream",
     "text": [
      "<class 'pandas.core.frame.DataFrame'>\n",
      "Int64Index: 87404 entries, 0 to 87403\n",
      "Data columns (total 8 columns):\n",
      "Id              87404 non-null int64\n",
      "Title           87404 non-null object\n",
      "QuestionBody    87404 non-null object\n",
      "CodeBody        87404 non-null object\n",
      "Tag             87404 non-null object\n",
      "ExpertId        87404 non-null float64\n",
      "Count           87404 non-null int64\n",
      "Label           87404 non-null int64\n",
      "dtypes: float64(1), int64(3), object(4)\n",
      "memory usage: 6.0+ MB\n"
     ]
    }
   ],
   "source": [
    "experts_count.info()"
   ]
  },
  {
   "cell_type": "markdown",
   "metadata": {},
   "source": [
    "## **Title**\n",
    "\n",
    "start from here"
   ]
  },
  {
   "cell_type": "code",
   "execution_count": 7,
   "metadata": {
    "collapsed": false
   },
   "outputs": [
    {
     "name": "stdout",
     "output_type": "stream",
     "text": [
      "(<class 'pandas.core.series.Series'>, <class 'pandas.core.series.Series'>)\n"
     ]
    }
   ],
   "source": [
    "Y = experts_count.Label\n",
    "X_title = experts_count.Title\n",
    "print (type(Y),type(X_title))"
   ]
  },
  {
   "cell_type": "code",
   "execution_count": 8,
   "metadata": {
    "collapsed": false
   },
   "outputs": [],
   "source": [
    "X_title = tfv.fit_transform(list(X_title))"
   ]
  },
  {
   "cell_type": "code",
   "execution_count": 11,
   "metadata": {
    "collapsed": false
   },
   "outputs": [
    {
     "data": {
      "text/plain": [
       "<87404x7196 sparse matrix of type '<type 'numpy.float64'>'\n",
       "\twith 672997 stored elements in Compressed Sparse Row format>"
      ]
     },
     "execution_count": 11,
     "metadata": {},
     "output_type": "execute_result"
    }
   ],
   "source": [
    "X_title"
   ]
  },
  {
   "cell_type": "code",
   "execution_count": 12,
   "metadata": {
    "collapsed": false
   },
   "outputs": [
    {
     "name": "stderr",
     "output_type": "stream",
     "text": [
      "C:\\Users\\Administrator\\Anaconda2\\lib\\site-packages\\sklearn\\cross_validation.py:44: DeprecationWarning: This module was deprecated in version 0.18 in favor of the model_selection module into which all the refactored classes and functions are moved. Also note that the interface of the new CV iterators are different from that of this module. This module will be removed in 0.20.\n",
      "  \"This module will be removed in 0.20.\", DeprecationWarning)\n"
     ]
    }
   ],
   "source": [
    "# for fun\n",
    "from sklearn.cross_validation import train_test_split\n",
    "X_train, X_test, Y_train, Y_test = train_test_split(X_title, Y, test_size=.10)"
   ]
  },
  {
   "cell_type": "code",
   "execution_count": 14,
   "metadata": {
    "collapsed": false
   },
   "outputs": [
    {
     "data": {
      "text/plain": [
       "0.082256034778629444"
      ]
     },
     "execution_count": 14,
     "metadata": {},
     "output_type": "execute_result"
    }
   ],
   "source": [
    "lr = LogisticRegression(C=2)\n",
    "lr.fit(X_train, Y_train)\n",
    "y = lr.predict(X_test)\n",
    "accuracy_score(Y_test, y)"
   ]
  },
  {
   "cell_type": "markdown",
   "metadata": {},
   "source": [
    "**Now, Begin!**\n",
    "\n",
    "when Count > 10"
   ]
  },
  {
   "cell_type": "code",
   "execution_count": 16,
   "metadata": {
    "collapsed": false
   },
   "outputs": [
    {
     "name": "stderr",
     "output_type": "stream",
     "text": [
      "C:\\Users\\Administrator\\Anaconda2\\lib\\site-packages\\ipykernel\\__main__.py:1: UserWarning: Boolean Series key will be reindexed to match DataFrame index.\n",
      "  if __name__ == '__main__':\n"
     ]
    }
   ],
   "source": [
    "X1_train = experts_count[:80000][experts_count.Count>10]"
   ]
  },
  {
   "cell_type": "code",
   "execution_count": 18,
   "metadata": {
    "collapsed": false
   },
   "outputs": [],
   "source": [
    "X1_title=tfv.fit_transform(list(X1_train['Title']) \\\n",
    "                         +list(experts_count[80000:]['Title']))"
   ]
  },
  {
   "cell_type": "code",
   "execution_count": 19,
   "metadata": {
    "collapsed": false
   },
   "outputs": [
    {
     "name": "stdout",
     "output_type": "stream",
     "text": [
      "<class 'scipy.sparse.csr.csr_matrix'>\n",
      "(73639, 6385)\n"
     ]
    }
   ],
   "source": [
    "print (type(X1_title))\n",
    "print (X1_title.shape)"
   ]
  },
  {
   "cell_type": "code",
   "execution_count": 21,
   "metadata": {
    "collapsed": false
   },
   "outputs": [],
   "source": [
    "X_train = X1_title[:X1_train.shape[0]]\n",
    "Y_train = experts_count['Label'][:80000][experts_count.Count>10]\n",
    "X_test = X1_title[X1_train.shape[0]:]\n",
    "Y_test = experts_count['Label'][80000:]"
   ]
  },
  {
   "cell_type": "code",
   "execution_count": 22,
   "metadata": {
    "collapsed": false
   },
   "outputs": [
    {
     "data": {
      "text/plain": [
       "0.1053484602917342"
      ]
     },
     "execution_count": 22,
     "metadata": {},
     "output_type": "execute_result"
    }
   ],
   "source": [
    "# for C=2\n",
    "lr = LogisticRegression(C=2)\n",
    "lr.fit(X_train, Y_train)\n",
    "y = lr.predict(X_test)\n",
    "accuracy_score(Y_test, y)"
   ]
  },
  {
   "cell_type": "markdown",
   "metadata": {},
   "source": [
    "**Also, we can tune the parameters. Let's see what will happen!**"
   ]
  },
  {
   "cell_type": "code",
   "execution_count": 23,
   "metadata": {
    "collapsed": false
   },
   "outputs": [
    {
     "data": {
      "text/plain": [
       "0.10075634792004322"
      ]
     },
     "execution_count": 23,
     "metadata": {},
     "output_type": "execute_result"
    }
   ],
   "source": [
    "# for C=3\n",
    "lr = LogisticRegression(C=3)\n",
    "lr.fit(X_train, Y_train)\n",
    "y = lr.predict(X_test)\n",
    "accuracy_score(Y_test, y)"
   ]
  },
  {
   "cell_type": "markdown",
   "metadata": {},
   "source": [
    "**Next, see what will happen when `experts_count.Count > 20`**"
   ]
  },
  {
   "cell_type": "markdown",
   "metadata": {},
   "source": [
    "**Conclusion for title: From above, we can see, when Count > ?, C = ? will get the best result, which is 0.???**"
   ]
  },
  {
   "cell_type": "markdown",
   "metadata": {},
   "source": [
    "## **Tags**\n",
    "start from here"
   ]
  },
  {
   "cell_type": "code",
   "execution_count": 25,
   "metadata": {
    "collapsed": false
   },
   "outputs": [
    {
     "name": "stderr",
     "output_type": "stream",
     "text": [
      "C:\\Users\\Administrator\\Anaconda2\\lib\\site-packages\\ipykernel\\__main__.py:1: UserWarning: Boolean Series key will be reindexed to match DataFrame index.\n",
      "  if __name__ == '__main__':\n"
     ]
    }
   ],
   "source": [
    "X1_train = experts_count[:80000][experts_count.Count>10]"
   ]
  },
  {
   "cell_type": "code",
   "execution_count": 26,
   "metadata": {
    "collapsed": false
   },
   "outputs": [],
   "source": [
    "X1_tag=tfv.fit_transform(list(X1_train['Tag']) \\\n",
    "                         +list(experts_count[80000:]['Tag']))"
   ]
  },
  {
   "cell_type": "code",
   "execution_count": 27,
   "metadata": {
    "collapsed": false
   },
   "outputs": [
    {
     "name": "stdout",
     "output_type": "stream",
     "text": [
      "<class 'scipy.sparse.csr.csr_matrix'>\n",
      "(73639, 1983)\n"
     ]
    }
   ],
   "source": [
    "print (type(X1_tag))\n",
    "print (X1_tag.shape)"
   ]
  },
  {
   "cell_type": "code",
   "execution_count": 28,
   "metadata": {
    "collapsed": true
   },
   "outputs": [],
   "source": [
    "X_train = X1_tag[:X1_train.shape[0]]\n",
    "Y_train = experts_count['Label'][:80000][experts_count.Count>10]\n",
    "X_test = X1_tag[X1_train.shape[0]:]\n",
    "Y_test = experts_count['Label'][80000:]"
   ]
  },
  {
   "cell_type": "code",
   "execution_count": 29,
   "metadata": {
    "collapsed": false
   },
   "outputs": [
    {
     "data": {
      "text/plain": [
       "0.11655861696380335"
      ]
     },
     "execution_count": 29,
     "metadata": {},
     "output_type": "execute_result"
    }
   ],
   "source": [
    "# for C=2\n",
    "lr = LogisticRegression(C=2)\n",
    "lr.fit(X_train, Y_train)\n",
    "y = lr.predict(X_test)\n",
    "accuracy_score(Y_test, y)"
   ]
  },
  {
   "cell_type": "markdown",
   "metadata": {},
   "source": [
    "**Next, see what will happen when `experts_count.Count > 20`**"
   ]
  },
  {
   "cell_type": "code",
   "execution_count": 30,
   "metadata": {
    "collapsed": false
   },
   "outputs": [
    {
     "name": "stderr",
     "output_type": "stream",
     "text": [
      "C:\\Users\\Administrator\\Anaconda2\\lib\\site-packages\\ipykernel\\__main__.py:1: UserWarning: Boolean Series key will be reindexed to match DataFrame index.\n",
      "  if __name__ == '__main__':\n"
     ]
    }
   ],
   "source": [
    "X2_train=experts_count[:80000][experts_count.Count>20]"
   ]
  },
  {
   "cell_type": "code",
   "execution_count": 32,
   "metadata": {
    "collapsed": false
   },
   "outputs": [
    {
     "name": "stdout",
     "output_type": "stream",
     "text": [
      "<class 'scipy.sparse.csr.csr_matrix'>\n",
      "(69302, 1918)\n"
     ]
    }
   ],
   "source": [
    "X2_tag=tfv.fit_transform(list(X2_train['Tag']) \\\n",
    "                         +list(experts_count[80000:]['Tag']))\n",
    "\n",
    "print (type(X2_tag))\n",
    "print (X2_tag.shape)"
   ]
  },
  {
   "cell_type": "code",
   "execution_count": 37,
   "metadata": {
    "collapsed": true
   },
   "outputs": [],
   "source": [
    "X_train = X2_tag[:X2_train.shape[0]]\n",
    "Y_train = experts_count['Label'][:80000][experts_count.Count>20]\n",
    "X_test = X2_tag[X2_train.shape[0]:]\n",
    "Y_test = experts_count['Label'][80000:]"
   ]
  },
  {
   "cell_type": "code",
   "execution_count": 38,
   "metadata": {
    "collapsed": false
   },
   "outputs": [
    {
     "data": {
      "text/plain": [
       "0.1149378714208536"
      ]
     },
     "execution_count": 38,
     "metadata": {},
     "output_type": "execute_result"
    }
   ],
   "source": [
    "# for C=2\n",
    "lr = LogisticRegression(C=2)\n",
    "lr.fit(X_train, Y_train)\n",
    "y = lr.predict(X_test)\n",
    "accuracy_score(Y_test, y)"
   ]
  },
  {
   "cell_type": "markdown",
   "metadata": {},
   "source": [
    "**Also, we can tune the parameters. Let's see what will happen!**"
   ]
  },
  {
   "cell_type": "code",
   "execution_count": 39,
   "metadata": {
    "collapsed": false
   },
   "outputs": [
    {
     "name": "stdout",
     "output_type": "stream",
     "text": [
      "The test accuracy is : 0.11358725013506213\n"
     ]
    }
   ],
   "source": [
    "# for C=3\n",
    "lr = LogisticRegression(C=3)\n",
    "lr.fit(X_train, Y_train)\n",
    "y = lr.predict(X_test)\n",
    "print (\"The test accuracy is : %r\" % accuracy_score(Y_test, y))"
   ]
  },
  {
   "cell_type": "markdown",
   "metadata": {},
   "source": [
    "**And more...**"
   ]
  },
  {
   "cell_type": "code",
   "execution_count": null,
   "metadata": {
    "collapsed": true
   },
   "outputs": [],
   "source": [
    "X3_train=experts_count[:80000][experts_count.Count>30]"
   ]
  },
  {
   "cell_type": "code",
   "execution_count": null,
   "metadata": {
    "collapsed": true
   },
   "outputs": [],
   "source": [
    "X4_train=experts_count[:80000][experts_count.Count>40]"
   ]
  },
  {
   "cell_type": "markdown",
   "metadata": {},
   "source": [
    "**Conclusion for tag: From above, we can see, when Count > ?, C = ? will get the best result, which is 0.???**"
   ]
  },
  {
   "cell_type": "markdown",
   "metadata": {},
   "source": [
    "## **Try more models. Like:**"
   ]
  },
  {
   "cell_type": "code",
   "execution_count": null,
   "metadata": {
    "collapsed": true
   },
   "outputs": [],
   "source": []
  }
 ],
 "metadata": {
  "kernelspec": {
   "display_name": "Python 2",
   "language": "python",
   "name": "python2"
  },
  "language_info": {
   "codemirror_mode": {
    "name": "ipython",
    "version": 2
   },
   "file_extension": ".py",
   "mimetype": "text/x-python",
   "name": "python",
   "nbconvert_exporter": "python",
   "pygments_lexer": "ipython2",
   "version": "2.7.13"
  }
 },
 "nbformat": 4,
 "nbformat_minor": 2
}
