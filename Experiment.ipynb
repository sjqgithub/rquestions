{
 "cells": [
  {
   "cell_type": "code",
   "execution_count": 1,
   "metadata": {
    "collapsed": true
   },
   "outputs": [],
   "source": [
    "import numpy as np\n",
    "import pandas as pd"
   ]
  },
  {
   "cell_type": "code",
   "execution_count": 2,
   "metadata": {
    "collapsed": false
   },
   "outputs": [],
   "source": [
    "experts_count=pd.read_pickle('experts_count.pkl')\n",
    "experts_count=experts_count.fillna('none')"
   ]
  },
  {
   "cell_type": "code",
   "execution_count": 3,
   "metadata": {
    "collapsed": false
   },
   "outputs": [
    {
     "data": {
      "text/html": [
       "<div>\n",
       "<table border=\"1\" class=\"dataframe\">\n",
       "  <thead>\n",
       "    <tr style=\"text-align: right;\">\n",
       "      <th></th>\n",
       "      <th>Id</th>\n",
       "      <th>Title</th>\n",
       "      <th>QuestionBody</th>\n",
       "      <th>CodeBody</th>\n",
       "      <th>Tag</th>\n",
       "      <th>ExpertId</th>\n",
       "      <th>Count</th>\n",
       "      <th>Label</th>\n",
       "    </tr>\n",
       "  </thead>\n",
       "  <tbody>\n",
       "    <tr>\n",
       "      <th>0</th>\n",
       "      <td>95007</td>\n",
       "      <td>Explain the quantile() function in R</td>\n",
       "      <td>I've been mystified by the R quantile functio...</td>\n",
       "      <td>none</td>\n",
       "      <td>math statistics</td>\n",
       "      <td>79513.0</td>\n",
       "      <td>1</td>\n",
       "      <td>218</td>\n",
       "    </tr>\n",
       "    <tr>\n",
       "      <th>1</th>\n",
       "      <td>255697</td>\n",
       "      <td>Is there an R package for learning a Dirichlet...</td>\n",
       "      <td>I'm looking for a an   package which can be u...</td>\n",
       "      <td>R  R</td>\n",
       "      <td>math statistics bayesian dirichlet</td>\n",
       "      <td>23263.0</td>\n",
       "      <td>1</td>\n",
       "      <td>91</td>\n",
       "    </tr>\n",
       "    <tr>\n",
       "      <th>2</th>\n",
       "      <td>359438</td>\n",
       "      <td>Optimization packages for R</td>\n",
       "      <td>Does anyone know of any optimization packages...</td>\n",
       "      <td>none</td>\n",
       "      <td>mathematical-optimization</td>\n",
       "      <td>3201.0</td>\n",
       "      <td>1</td>\n",
       "      <td>15</td>\n",
       "    </tr>\n",
       "    <tr>\n",
       "      <th>3</th>\n",
       "      <td>439526</td>\n",
       "      <td>Thinking in Vectors with R</td>\n",
       "      <td>I know that R works most efficiently with vec...</td>\n",
       "      <td>st  p1  p2  st&amp;lt;-NULL p1&amp;lt;-NULL p2&amp;lt;-NU...</td>\n",
       "      <td>vector</td>\n",
       "      <td>37751.0</td>\n",
       "      <td>53</td>\n",
       "      <td>121</td>\n",
       "    </tr>\n",
       "    <tr>\n",
       "      <th>4</th>\n",
       "      <td>445059</td>\n",
       "      <td>Vectorize my thinking: Vector Operations in R</td>\n",
       "      <td>So earlier I answered my own question on thin...</td>\n",
       "      <td>for (j in my.data$item[my.data$fixed==0]) { #...</td>\n",
       "      <td>vector</td>\n",
       "      <td>54904.0</td>\n",
       "      <td>1</td>\n",
       "      <td>163</td>\n",
       "    </tr>\n",
       "  </tbody>\n",
       "</table>\n",
       "</div>"
      ],
      "text/plain": [
       "       Id                                              Title  \\\n",
       "0   95007               Explain the quantile() function in R   \n",
       "1  255697  Is there an R package for learning a Dirichlet...   \n",
       "2  359438                        Optimization packages for R   \n",
       "3  439526                         Thinking in Vectors with R   \n",
       "4  445059      Vectorize my thinking: Vector Operations in R   \n",
       "\n",
       "                                        QuestionBody  \\\n",
       "0   I've been mystified by the R quantile functio...   \n",
       "1   I'm looking for a an   package which can be u...   \n",
       "2   Does anyone know of any optimization packages...   \n",
       "3   I know that R works most efficiently with vec...   \n",
       "4   So earlier I answered my own question on thin...   \n",
       "\n",
       "                                            CodeBody  \\\n",
       "0                                               none   \n",
       "1                                              R  R    \n",
       "2                                               none   \n",
       "3   st  p1  p2  st&lt;-NULL p1&lt;-NULL p2&lt;-NU...   \n",
       "4   for (j in my.data$item[my.data$fixed==0]) { #...   \n",
       "\n",
       "                                  Tag  ExpertId  Count  Label  \n",
       "0                     math statistics   79513.0      1    218  \n",
       "1  math statistics bayesian dirichlet   23263.0      1     91  \n",
       "2           mathematical-optimization    3201.0      1     15  \n",
       "3                              vector   37751.0     53    121  \n",
       "4                              vector   54904.0      1    163  "
      ]
     },
     "execution_count": 3,
     "metadata": {},
     "output_type": "execute_result"
    }
   ],
   "source": [
    "experts_count.head()"
   ]
  },
  {
   "cell_type": "code",
   "execution_count": 4,
   "metadata": {
    "collapsed": false
   },
   "outputs": [
    {
     "name": "stdout",
     "output_type": "stream",
     "text": [
      "<class 'pandas.core.frame.DataFrame'>\n",
      "Int64Index: 87404 entries, 0 to 87403\n",
      "Data columns (total 8 columns):\n",
      "Id              87404 non-null int64\n",
      "Title           87404 non-null object\n",
      "QuestionBody    87404 non-null object\n",
      "CodeBody        87404 non-null object\n",
      "Tag             87404 non-null object\n",
      "ExpertId        87404 non-null float64\n",
      "Count           87404 non-null int64\n",
      "Label           87404 non-null int64\n",
      "dtypes: float64(1), int64(3), object(4)\n",
      "memory usage: 6.0+ MB\n"
     ]
    }
   ],
   "source": [
    "experts_count.info()"
   ]
  },
  {
   "cell_type": "code",
   "execution_count": 5,
   "metadata": {
    "collapsed": false
   },
   "outputs": [
    {
     "name": "stderr",
     "output_type": "stream",
     "text": [
      "C:\\Users\\Administrator\\Anaconda2\\lib\\site-packages\\ipykernel\\__main__.py:1: UserWarning: Boolean Series key will be reindexed to match DataFrame index.\n",
      "  if __name__ == '__main__':\n"
     ]
    }
   ],
   "source": [
    "final1=experts_count[:80000][experts_count.Count>10]"
   ]
  },
  {
   "cell_type": "code",
   "execution_count": 6,
   "metadata": {
    "collapsed": false
   },
   "outputs": [
    {
     "name": "stdout",
     "output_type": "stream",
     "text": [
      "<class 'pandas.core.frame.DataFrame'>\n",
      "Int64Index: 66235 entries, 3 to 79999\n",
      "Data columns (total 8 columns):\n",
      "Id              66235 non-null int64\n",
      "Title           66235 non-null object\n",
      "QuestionBody    66235 non-null object\n",
      "CodeBody        66235 non-null object\n",
      "Tag             66235 non-null object\n",
      "ExpertId        66235 non-null float64\n",
      "Count           66235 non-null int64\n",
      "Label           66235 non-null int64\n",
      "dtypes: float64(1), int64(3), object(4)\n",
      "memory usage: 4.5+ MB\n"
     ]
    }
   ],
   "source": [
    "final1.info()"
   ]
  },
  {
   "cell_type": "code",
   "execution_count": 7,
   "metadata": {
    "collapsed": true
   },
   "outputs": [],
   "source": [
    "from sklearn.feature_extraction.text import TfidfVectorizer\n",
    "tfv = TfidfVectorizer(min_df=3,max_df=0.95,sublinear_tf=True)"
   ]
  },
  {
   "cell_type": "code",
   "execution_count": 8,
   "metadata": {
    "collapsed": false
   },
   "outputs": [
    {
     "name": "stderr",
     "output_type": "stream",
     "text": [
      "C:\\Users\\Administrator\\Anaconda2\\lib\\site-packages\\ipykernel\\__main__.py:1: UserWarning: Boolean Series key will be reindexed to match DataFrame index.\n",
      "  if __name__ == '__main__':\n"
     ]
    }
   ],
   "source": [
    "tag1=tfv.fit_transform(list(experts_count[:80000][experts_count.Count>10]['Tag']) \\\n",
    "                         +list(experts_count[80000:]['Tag']))"
   ]
  },
  {
   "cell_type": "code",
   "execution_count": 9,
   "metadata": {
    "collapsed": false
   },
   "outputs": [
    {
     "name": "stdout",
     "output_type": "stream",
     "text": [
      "<class 'scipy.sparse.csr.csr_matrix'>\n",
      "(73639, 1983)\n"
     ]
    }
   ],
   "source": [
    "print (type(tag1))\n",
    "print (tag1.shape)"
   ]
  },
  {
   "cell_type": "code",
   "execution_count": 10,
   "metadata": {
    "collapsed": true
   },
   "outputs": [],
   "source": [
    "from sklearn.linear_model import LogisticRegression\n",
    "from sklearn.metrics import accuracy_score\n",
    "lr = LogisticRegression(C=2)"
   ]
  },
  {
   "cell_type": "code",
   "execution_count": 11,
   "metadata": {
    "collapsed": false
   },
   "outputs": [
    {
     "data": {
      "text/plain": [
       "0.11655861696380335"
      ]
     },
     "execution_count": 11,
     "metadata": {},
     "output_type": "execute_result"
    }
   ],
   "source": [
    "lr.fit(tag1[:final1.shape[0]],experts_count['Label'][:80000][experts_count.Count>10])\n",
    "y = lr.predict(tag1[final1.shape[0]:])\n",
    "accuracy_score(y,experts_count['Label'][80000:])"
   ]
  },
  {
   "cell_type": "markdown",
   "metadata": {},
   "source": [
    "**Next, see what will happen when `experts_count.Count > 20`**"
   ]
  },
  {
   "cell_type": "code",
   "execution_count": 12,
   "metadata": {
    "collapsed": false
   },
   "outputs": [
    {
     "name": "stderr",
     "output_type": "stream",
     "text": [
      "C:\\Users\\Administrator\\Anaconda2\\lib\\site-packages\\ipykernel\\__main__.py:1: UserWarning: Boolean Series key will be reindexed to match DataFrame index.\n",
      "  if __name__ == '__main__':\n"
     ]
    }
   ],
   "source": [
    "final2=experts_count[:80000][experts_count.Count>20]"
   ]
  },
  {
   "cell_type": "code",
   "execution_count": 13,
   "metadata": {
    "collapsed": false
   },
   "outputs": [
    {
     "name": "stderr",
     "output_type": "stream",
     "text": [
      "C:\\Users\\Administrator\\Anaconda2\\lib\\site-packages\\ipykernel\\__main__.py:1: UserWarning: Boolean Series key will be reindexed to match DataFrame index.\n",
      "  if __name__ == '__main__':\n"
     ]
    }
   ],
   "source": [
    "tag2=tfv.fit_transform(list(experts_count[:80000][experts_count.Count>20]['Tag']) \\\n",
    "                         +list(experts_count[80000:]['Tag']))"
   ]
  },
  {
   "cell_type": "code",
   "execution_count": 14,
   "metadata": {
    "collapsed": false
   },
   "outputs": [
    {
     "data": {
      "text/plain": [
       "0.1149378714208536"
      ]
     },
     "execution_count": 14,
     "metadata": {},
     "output_type": "execute_result"
    }
   ],
   "source": [
    "lr.fit(tag2[:final2.shape[0]],experts_count['Label'][:80000][experts_count.Count>20])\n",
    "y = lr.predict(tag2[final2.shape[0]:])\n",
    "accuracy_score(y,experts_count['Label'][80000:])"
   ]
  },
  {
   "cell_type": "markdown",
   "metadata": {},
   "source": [
    "**And more...**"
   ]
  },
  {
   "cell_type": "code",
   "execution_count": null,
   "metadata": {
    "collapsed": true
   },
   "outputs": [],
   "source": [
    "final3=experts_count[:80000][experts_count.Count>30]"
   ]
  },
  {
   "cell_type": "code",
   "execution_count": null,
   "metadata": {
    "collapsed": true
   },
   "outputs": [],
   "source": [
    "final4=experts_count[:80000][experts_count.Count>40]"
   ]
  },
  {
   "cell_type": "markdown",
   "metadata": {},
   "source": [
    "**Also, we can tune the parameters. Let's see what will happen!**"
   ]
  },
  {
   "cell_type": "code",
   "execution_count": 15,
   "metadata": {
    "collapsed": false
   },
   "outputs": [
    {
     "data": {
      "text/plain": [
       "0.11520799567801189"
      ]
     },
     "execution_count": 15,
     "metadata": {},
     "output_type": "execute_result"
    }
   ],
   "source": [
    "lr = LogisticRegression(C=3)\n",
    "lr.fit(tag1[:final1.shape[0]],experts_count['Label'][:80000][experts_count.Count>10])\n",
    "y = lr.predict(tag1[final1.shape[0]:])\n",
    "accuracy_score(y,experts_count['Label'][80000:])"
   ]
  },
  {
   "cell_type": "code",
   "execution_count": null,
   "metadata": {
    "collapsed": true
   },
   "outputs": [],
   "source": []
  },
  {
   "cell_type": "markdown",
   "metadata": {},
   "source": [
    "**Try more models. Like:**"
   ]
  },
  {
   "cell_type": "code",
   "execution_count": null,
   "metadata": {
    "collapsed": true
   },
   "outputs": [],
   "source": []
  }
 ],
 "metadata": {
  "kernelspec": {
   "display_name": "Python 2",
   "language": "python",
   "name": "python2"
  },
  "language_info": {
   "codemirror_mode": {
    "name": "ipython",
    "version": 2
   },
   "file_extension": ".py",
   "mimetype": "text/x-python",
   "name": "python",
   "nbconvert_exporter": "python",
   "pygments_lexer": "ipython2",
   "version": "2.7.13"
  }
 },
 "nbformat": 4,
 "nbformat_minor": 2
}
