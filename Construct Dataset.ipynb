{
 "cells": [
  {
   "cell_type": "code",
   "execution_count": 1,
   "metadata": {
    "collapsed": true
   },
   "outputs": [],
   "source": [
    "import numpy as np\n",
    "np.random.seed(2345)\n",
    "\n",
    "import pandas as pd"
   ]
  },
  {
   "cell_type": "code",
   "execution_count": 2,
   "metadata": {
    "collapsed": true
   },
   "outputs": [],
   "source": [
    "questions = pd.read_csv(\"./input/Questions.csv\", encoding='latin1')\n",
    "answers = pd.read_csv(\"./input/Answers.csv\", encoding='latin1')\n",
    "tags = pd.read_csv(\"./input/Tags.csv\", encoding='latin1')"
   ]
  },
  {
   "cell_type": "code",
   "execution_count": 3,
   "metadata": {
    "collapsed": false
   },
   "outputs": [
    {
     "data": {
      "text/html": [
       "<div>\n",
       "<table border=\"1\" class=\"dataframe\">\n",
       "  <thead>\n",
       "    <tr style=\"text-align: right;\">\n",
       "      <th></th>\n",
       "      <th>Id</th>\n",
       "      <th>Tag</th>\n",
       "    </tr>\n",
       "  </thead>\n",
       "  <tbody>\n",
       "    <tr>\n",
       "      <th>0</th>\n",
       "      <td>77434</td>\n",
       "      <td>vector</td>\n",
       "    </tr>\n",
       "    <tr>\n",
       "      <th>1</th>\n",
       "      <td>79709</td>\n",
       "      <td>memory</td>\n",
       "    </tr>\n",
       "    <tr>\n",
       "      <th>2</th>\n",
       "      <td>79709</td>\n",
       "      <td>function</td>\n",
       "    </tr>\n",
       "    <tr>\n",
       "      <th>3</th>\n",
       "      <td>79709</td>\n",
       "      <td>global-variables</td>\n",
       "    </tr>\n",
       "    <tr>\n",
       "      <th>4</th>\n",
       "      <td>79709</td>\n",
       "      <td>side-effects</td>\n",
       "    </tr>\n",
       "  </tbody>\n",
       "</table>\n",
       "</div>"
      ],
      "text/plain": [
       "      Id               Tag\n",
       "0  77434            vector\n",
       "1  79709            memory\n",
       "2  79709          function\n",
       "3  79709  global-variables\n",
       "4  79709      side-effects"
      ]
     },
     "execution_count": 3,
     "metadata": {},
     "output_type": "execute_result"
    }
   ],
   "source": [
    "tags.head()"
   ]
  },
  {
   "cell_type": "code",
   "execution_count": 4,
   "metadata": {
    "collapsed": false,
    "scrolled": true
   },
   "outputs": [
    {
     "data": {
      "text/html": [
       "<div>\n",
       "<table border=\"1\" class=\"dataframe\">\n",
       "  <thead>\n",
       "    <tr style=\"text-align: right;\">\n",
       "      <th></th>\n",
       "      <th>Id</th>\n",
       "      <th>OwnerUserId</th>\n",
       "      <th>CreationDate</th>\n",
       "      <th>ParentId</th>\n",
       "      <th>Score</th>\n",
       "      <th>IsAcceptedAnswer</th>\n",
       "      <th>Body</th>\n",
       "    </tr>\n",
       "  </thead>\n",
       "  <tbody>\n",
       "    <tr>\n",
       "      <th>0</th>\n",
       "      <td>79741</td>\n",
       "      <td>3259.0</td>\n",
       "      <td>2008-09-17T03:43:22Z</td>\n",
       "      <td>79709</td>\n",
       "      <td>-1</td>\n",
       "      <td>False</td>\n",
       "      <td>&lt;p&gt;It's tough to say definitively without know...</td>\n",
       "    </tr>\n",
       "    <tr>\n",
       "      <th>1</th>\n",
       "      <td>79768</td>\n",
       "      <td>6043.0</td>\n",
       "      <td>2008-09-17T03:48:29Z</td>\n",
       "      <td>79709</td>\n",
       "      <td>5</td>\n",
       "      <td>False</td>\n",
       "      <td>&lt;p&gt;use variables in the outer function instead...</td>\n",
       "    </tr>\n",
       "    <tr>\n",
       "      <th>2</th>\n",
       "      <td>79779</td>\n",
       "      <td>8002.0</td>\n",
       "      <td>2008-09-17T03:49:36Z</td>\n",
       "      <td>79709</td>\n",
       "      <td>0</td>\n",
       "      <td>False</td>\n",
       "      <td>&lt;p&gt;Third approach: inner function returns a re...</td>\n",
       "    </tr>\n",
       "    <tr>\n",
       "      <th>3</th>\n",
       "      <td>79788</td>\n",
       "      <td>NaN</td>\n",
       "      <td>2008-09-17T03:51:30Z</td>\n",
       "      <td>79709</td>\n",
       "      <td>3</td>\n",
       "      <td>False</td>\n",
       "      <td>&lt;p&gt;It's not going to make much difference to m...</td>\n",
       "    </tr>\n",
       "    <tr>\n",
       "      <th>4</th>\n",
       "      <td>79827</td>\n",
       "      <td>14257.0</td>\n",
       "      <td>2008-09-17T03:58:26Z</td>\n",
       "      <td>79709</td>\n",
       "      <td>1</td>\n",
       "      <td>False</td>\n",
       "      <td>&lt;p&gt;I'm not sure I understand the question, but...</td>\n",
       "    </tr>\n",
       "  </tbody>\n",
       "</table>\n",
       "</div>"
      ],
      "text/plain": [
       "      Id  OwnerUserId          CreationDate  ParentId  Score IsAcceptedAnswer  \\\n",
       "0  79741       3259.0  2008-09-17T03:43:22Z     79709     -1            False   \n",
       "1  79768       6043.0  2008-09-17T03:48:29Z     79709      5            False   \n",
       "2  79779       8002.0  2008-09-17T03:49:36Z     79709      0            False   \n",
       "3  79788          NaN  2008-09-17T03:51:30Z     79709      3            False   \n",
       "4  79827      14257.0  2008-09-17T03:58:26Z     79709      1            False   \n",
       "\n",
       "                                                Body  \n",
       "0  <p>It's tough to say definitively without know...  \n",
       "1  <p>use variables in the outer function instead...  \n",
       "2  <p>Third approach: inner function returns a re...  \n",
       "3  <p>It's not going to make much difference to m...  \n",
       "4  <p>I'm not sure I understand the question, but...  "
      ]
     },
     "execution_count": 4,
     "metadata": {},
     "output_type": "execute_result"
    }
   ],
   "source": [
    "answers.head()"
   ]
  },
  {
   "cell_type": "code",
   "execution_count": 5,
   "metadata": {
    "collapsed": false
   },
   "outputs": [
    {
     "data": {
      "text/html": [
       "<div>\n",
       "<table border=\"1\" class=\"dataframe\">\n",
       "  <thead>\n",
       "    <tr style=\"text-align: right;\">\n",
       "      <th></th>\n",
       "      <th>Id</th>\n",
       "      <th>OwnerUserId</th>\n",
       "      <th>CreationDate</th>\n",
       "      <th>Score</th>\n",
       "      <th>Title</th>\n",
       "      <th>Body</th>\n",
       "    </tr>\n",
       "  </thead>\n",
       "  <tbody>\n",
       "    <tr>\n",
       "      <th>0</th>\n",
       "      <td>77434</td>\n",
       "      <td>14008.0</td>\n",
       "      <td>2008-09-16T21:40:29Z</td>\n",
       "      <td>134</td>\n",
       "      <td>How to access the last value in a vector?</td>\n",
       "      <td>&lt;p&gt;Suppose I have a vector that is nested in a...</td>\n",
       "    </tr>\n",
       "    <tr>\n",
       "      <th>1</th>\n",
       "      <td>79709</td>\n",
       "      <td>NaN</td>\n",
       "      <td>2008-09-17T03:39:16Z</td>\n",
       "      <td>1</td>\n",
       "      <td>Worse sin: side effects or passing massive obj...</td>\n",
       "      <td>&lt;p&gt;I have a function inside a loop inside a fu...</td>\n",
       "    </tr>\n",
       "    <tr>\n",
       "      <th>2</th>\n",
       "      <td>95007</td>\n",
       "      <td>15842.0</td>\n",
       "      <td>2008-09-18T17:59:19Z</td>\n",
       "      <td>48</td>\n",
       "      <td>Explain the quantile() function in R</td>\n",
       "      <td>&lt;p&gt;I've been mystified by the R quantile funct...</td>\n",
       "    </tr>\n",
       "    <tr>\n",
       "      <th>3</th>\n",
       "      <td>103312</td>\n",
       "      <td>NaN</td>\n",
       "      <td>2008-09-19T16:09:26Z</td>\n",
       "      <td>4</td>\n",
       "      <td>How to test for the EOF flag in R?</td>\n",
       "      <td>&lt;p&gt;How can I test for the &lt;code&gt;EOF&lt;/code&gt; fla...</td>\n",
       "    </tr>\n",
       "    <tr>\n",
       "      <th>4</th>\n",
       "      <td>255697</td>\n",
       "      <td>1941213.0</td>\n",
       "      <td>2008-11-01T15:48:30Z</td>\n",
       "      <td>3</td>\n",
       "      <td>Is there an R package for learning a Dirichlet...</td>\n",
       "      <td>&lt;p&gt;I'm looking for a an &lt;code&gt;R&lt;/code&gt; package...</td>\n",
       "    </tr>\n",
       "  </tbody>\n",
       "</table>\n",
       "</div>"
      ],
      "text/plain": [
       "       Id  OwnerUserId          CreationDate  Score  \\\n",
       "0   77434      14008.0  2008-09-16T21:40:29Z    134   \n",
       "1   79709          NaN  2008-09-17T03:39:16Z      1   \n",
       "2   95007      15842.0  2008-09-18T17:59:19Z     48   \n",
       "3  103312          NaN  2008-09-19T16:09:26Z      4   \n",
       "4  255697    1941213.0  2008-11-01T15:48:30Z      3   \n",
       "\n",
       "                                               Title  \\\n",
       "0          How to access the last value in a vector?   \n",
       "1  Worse sin: side effects or passing massive obj...   \n",
       "2               Explain the quantile() function in R   \n",
       "3                 How to test for the EOF flag in R?   \n",
       "4  Is there an R package for learning a Dirichlet...   \n",
       "\n",
       "                                                Body  \n",
       "0  <p>Suppose I have a vector that is nested in a...  \n",
       "1  <p>I have a function inside a loop inside a fu...  \n",
       "2  <p>I've been mystified by the R quantile funct...  \n",
       "3  <p>How can I test for the <code>EOF</code> fla...  \n",
       "4  <p>I'm looking for a an <code>R</code> package...  "
      ]
     },
     "execution_count": 5,
     "metadata": {},
     "output_type": "execute_result"
    }
   ],
   "source": [
    "questions.head()"
   ]
  },
  {
   "cell_type": "code",
   "execution_count": 6,
   "metadata": {
    "collapsed": false
   },
   "outputs": [
    {
     "name": "stdout",
     "output_type": "stream",
     "text": [
      "<class 'pandas.core.frame.DataFrame'>\n",
      "RangeIndex: 147075 entries, 0 to 147074\n",
      "Data columns (total 6 columns):\n",
      "Id              147075 non-null int64\n",
      "OwnerUserId     146129 non-null float64\n",
      "CreationDate    147075 non-null object\n",
      "Score           147075 non-null int64\n",
      "Title           147075 non-null object\n",
      "Body            147075 non-null object\n",
      "dtypes: float64(1), int64(2), object(3)\n",
      "memory usage: 6.7+ MB\n"
     ]
    }
   ],
   "source": [
    "questions.info() # Id Title Body are used for constructing the dataset"
   ]
  },
  {
   "cell_type": "code",
   "execution_count": 7,
   "metadata": {
    "collapsed": false
   },
   "outputs": [
    {
     "name": "stdout",
     "output_type": "stream",
     "text": [
      "<class 'pandas.core.frame.DataFrame'>\n",
      "RangeIndex: 198592 entries, 0 to 198591\n",
      "Data columns (total 7 columns):\n",
      "Id                  198592 non-null int64\n",
      "OwnerUserId         197964 non-null float64\n",
      "CreationDate        198592 non-null object\n",
      "ParentId            198592 non-null int64\n",
      "Score               198592 non-null int64\n",
      "IsAcceptedAnswer    198592 non-null bool\n",
      "Body                198592 non-null object\n",
      "dtypes: bool(1), float64(1), int64(3), object(2)\n",
      "memory usage: 9.3+ MB\n"
     ]
    }
   ],
   "source": [
    "answers.info() # OwnerUserId ParentId IsAcceptedAnswer are used for constructing the dataset, maybe score can be used in the future"
   ]
  },
  {
   "cell_type": "code",
   "execution_count": 8,
   "metadata": {
    "collapsed": false
   },
   "outputs": [
    {
     "name": "stdout",
     "output_type": "stream",
     "text": [
      "<class 'pandas.core.frame.DataFrame'>\n",
      "RangeIndex: 241546 entries, 0 to 241545\n",
      "Data columns (total 2 columns):\n",
      "Id     241546 non-null int64\n",
      "Tag    241485 non-null object\n",
      "dtypes: int64(1), object(1)\n",
      "memory usage: 3.7+ MB\n"
     ]
    }
   ],
   "source": [
    "tags.info() # Id and Tag are useful"
   ]
  },
  {
   "cell_type": "markdown",
   "metadata": {},
   "source": [
    "**先处理questions，数据清洗**"
   ]
  },
  {
   "cell_type": "code",
   "execution_count": 9,
   "metadata": {
    "collapsed": true
   },
   "outputs": [],
   "source": [
    "# extract all the code part \n",
    "temp_code = questions['Body'].str.extractall(r'(<code>[^<]+</code>)')"
   ]
  },
  {
   "cell_type": "code",
   "execution_count": 10,
   "metadata": {
    "collapsed": false
   },
   "outputs": [
    {
     "data": {
      "text/html": [
       "<div>\n",
       "<table border=\"1\" class=\"dataframe\">\n",
       "  <thead>\n",
       "    <tr style=\"text-align: right;\">\n",
       "      <th></th>\n",
       "      <th></th>\n",
       "      <th>0</th>\n",
       "    </tr>\n",
       "    <tr>\n",
       "      <th></th>\n",
       "      <th>match</th>\n",
       "      <th></th>\n",
       "    </tr>\n",
       "  </thead>\n",
       "  <tbody>\n",
       "    <tr>\n",
       "      <th rowspan=\"4\" valign=\"top\">0</th>\n",
       "      <th>0</th>\n",
       "      <td>&lt;code&gt;length()&lt;/code&gt;</td>\n",
       "    </tr>\n",
       "    <tr>\n",
       "      <th>1</th>\n",
       "      <td>&lt;code&gt;$#&lt;/code&gt;</td>\n",
       "    </tr>\n",
       "    <tr>\n",
       "      <th>2</th>\n",
       "      <td>&lt;code&gt;dat$vec1$vec2[$#]\\n&lt;/code&gt;</td>\n",
       "    </tr>\n",
       "    <tr>\n",
       "      <th>3</th>\n",
       "      <td>&lt;code&gt;dat$vec1$vec2[length(dat$vec1$vec2)]\\n&lt;/...</td>\n",
       "    </tr>\n",
       "    <tr>\n",
       "      <th>1</th>\n",
       "      <th>0</th>\n",
       "      <td>&lt;code&gt;for (dataset in list_of_datasets) {\\n  f...</td>\n",
       "    </tr>\n",
       "  </tbody>\n",
       "</table>\n",
       "</div>"
      ],
      "text/plain": [
       "                                                         0\n",
       "  match                                                   \n",
       "0 0                                  <code>length()</code>\n",
       "  1                                        <code>$#</code>\n",
       "  2                       <code>dat$vec1$vec2[$#]\\n</code>\n",
       "  3      <code>dat$vec1$vec2[length(dat$vec1$vec2)]\\n</...\n",
       "1 0      <code>for (dataset in list_of_datasets) {\\n  f..."
      ]
     },
     "execution_count": 10,
     "metadata": {},
     "output_type": "execute_result"
    }
   ],
   "source": [
    "temp_code.head()"
   ]
  },
  {
   "cell_type": "code",
   "execution_count": 11,
   "metadata": {
    "collapsed": true
   },
   "outputs": [],
   "source": [
    "# unstack and convert into a single column for cleaning\n",
    "test = temp_code.unstack('match')\n",
    "\n",
    "test.columns = test.columns.droplevel()\n",
    "# put all columns together\n",
    "code = pd.DataFrame(test.apply(lambda x: x.str.cat(), axis=1,reduce=True))\n",
    "# rename \n",
    "code.columns = ['CodeBody']\n",
    "# remove the html tags finally\n",
    "code['CodeBody'] = code['CodeBody'].str.replace(r'<[^>]+>|\\n|\\r',' ')"
   ]
  },
  {
   "cell_type": "code",
   "execution_count": 12,
   "metadata": {
    "collapsed": true
   },
   "outputs": [],
   "source": [
    "# remove the code part from questions\n",
    "body = questions['Body'].str.replace(r'<code>[^<]+</code>',' ')\n",
    "# build up the question part from questions\n",
    "questions['QuestionBody'] = body.str.replace(r\"<[^>]+>|\\n|\\r\", \" \")"
   ]
  },
  {
   "cell_type": "code",
   "execution_count": 13,
   "metadata": {
    "collapsed": true
   },
   "outputs": [],
   "source": [
    "# Join the codebody by index\n",
    "questions = questions.join(code)\n",
    "# final cleaned dataset\n",
    "questions_final = questions.drop('Body',axis=1)"
   ]
  },
  {
   "cell_type": "code",
   "execution_count": 14,
   "metadata": {
    "collapsed": false
   },
   "outputs": [
    {
     "data": {
      "text/html": [
       "<div>\n",
       "<table border=\"1\" class=\"dataframe\">\n",
       "  <thead>\n",
       "    <tr style=\"text-align: right;\">\n",
       "      <th></th>\n",
       "      <th>Id</th>\n",
       "      <th>OwnerUserId</th>\n",
       "      <th>CreationDate</th>\n",
       "      <th>Score</th>\n",
       "      <th>Title</th>\n",
       "      <th>QuestionBody</th>\n",
       "      <th>CodeBody</th>\n",
       "    </tr>\n",
       "  </thead>\n",
       "  <tbody>\n",
       "    <tr>\n",
       "      <th>0</th>\n",
       "      <td>77434</td>\n",
       "      <td>14008.0</td>\n",
       "      <td>2008-09-16T21:40:29Z</td>\n",
       "      <td>134</td>\n",
       "      <td>How to access the last value in a vector?</td>\n",
       "      <td>Suppose I have a vector that is nested in a d...</td>\n",
       "      <td>length()  $#  dat$vec1$vec2[$#]   dat$vec1$ve...</td>\n",
       "    </tr>\n",
       "    <tr>\n",
       "      <th>1</th>\n",
       "      <td>79709</td>\n",
       "      <td>NaN</td>\n",
       "      <td>2008-09-17T03:39:16Z</td>\n",
       "      <td>1</td>\n",
       "      <td>Worse sin: side effects or passing massive obj...</td>\n",
       "      <td>I have a function inside a loop inside a func...</td>\n",
       "      <td>for (dataset in list_of_datasets) {   for (da...</td>\n",
       "    </tr>\n",
       "    <tr>\n",
       "      <th>2</th>\n",
       "      <td>95007</td>\n",
       "      <td>15842.0</td>\n",
       "      <td>2008-09-18T17:59:19Z</td>\n",
       "      <td>48</td>\n",
       "      <td>Explain the quantile() function in R</td>\n",
       "      <td>I've been mystified by the R quantile functio...</td>\n",
       "      <td>NaN</td>\n",
       "    </tr>\n",
       "    <tr>\n",
       "      <th>3</th>\n",
       "      <td>103312</td>\n",
       "      <td>NaN</td>\n",
       "      <td>2008-09-19T16:09:26Z</td>\n",
       "      <td>4</td>\n",
       "      <td>How to test for the EOF flag in R?</td>\n",
       "      <td>How can I test for the   flag in R?     For e...</td>\n",
       "      <td>EOF  f &amp;lt;- file(fname, \"rb\") while (???) { ...</td>\n",
       "    </tr>\n",
       "    <tr>\n",
       "      <th>4</th>\n",
       "      <td>255697</td>\n",
       "      <td>1941213.0</td>\n",
       "      <td>2008-11-01T15:48:30Z</td>\n",
       "      <td>3</td>\n",
       "      <td>Is there an R package for learning a Dirichlet...</td>\n",
       "      <td>I'm looking for a an   package which can be u...</td>\n",
       "      <td>R  R</td>\n",
       "    </tr>\n",
       "  </tbody>\n",
       "</table>\n",
       "</div>"
      ],
      "text/plain": [
       "       Id  OwnerUserId          CreationDate  Score  \\\n",
       "0   77434      14008.0  2008-09-16T21:40:29Z    134   \n",
       "1   79709          NaN  2008-09-17T03:39:16Z      1   \n",
       "2   95007      15842.0  2008-09-18T17:59:19Z     48   \n",
       "3  103312          NaN  2008-09-19T16:09:26Z      4   \n",
       "4  255697    1941213.0  2008-11-01T15:48:30Z      3   \n",
       "\n",
       "                                               Title  \\\n",
       "0          How to access the last value in a vector?   \n",
       "1  Worse sin: side effects or passing massive obj...   \n",
       "2               Explain the quantile() function in R   \n",
       "3                 How to test for the EOF flag in R?   \n",
       "4  Is there an R package for learning a Dirichlet...   \n",
       "\n",
       "                                        QuestionBody  \\\n",
       "0   Suppose I have a vector that is nested in a d...   \n",
       "1   I have a function inside a loop inside a func...   \n",
       "2   I've been mystified by the R quantile functio...   \n",
       "3   How can I test for the   flag in R?     For e...   \n",
       "4   I'm looking for a an   package which can be u...   \n",
       "\n",
       "                                            CodeBody  \n",
       "0   length()  $#  dat$vec1$vec2[$#]   dat$vec1$ve...  \n",
       "1   for (dataset in list_of_datasets) {   for (da...  \n",
       "2                                                NaN  \n",
       "3   EOF  f &lt;- file(fname, \"rb\") while (???) { ...  \n",
       "4                                              R  R   "
      ]
     },
     "execution_count": 14,
     "metadata": {},
     "output_type": "execute_result"
    }
   ],
   "source": [
    "questions_final.head()"
   ]
  },
  {
   "cell_type": "code",
   "execution_count": 15,
   "metadata": {
    "collapsed": false
   },
   "outputs": [
    {
     "name": "stdout",
     "output_type": "stream",
     "text": [
      "<class 'pandas.core.frame.DataFrame'>\n",
      "RangeIndex: 147075 entries, 0 to 147074\n",
      "Data columns (total 7 columns):\n",
      "Id              147075 non-null int64\n",
      "OwnerUserId     146129 non-null float64\n",
      "CreationDate    147075 non-null object\n",
      "Score           147075 non-null int64\n",
      "Title           147075 non-null object\n",
      "QuestionBody    147075 non-null object\n",
      "CodeBody        134507 non-null object\n",
      "dtypes: float64(1), int64(2), object(4)\n",
      "memory usage: 7.9+ MB\n"
     ]
    }
   ],
   "source": [
    "questions_final.info()"
   ]
  },
  {
   "cell_type": "markdown",
   "metadata": {},
   "source": [
    "**再处理tags,将其拼在questions后**"
   ]
  },
  {
   "cell_type": "code",
   "execution_count": 16,
   "metadata": {
    "collapsed": true
   },
   "outputs": [],
   "source": [
    "tags = tags[tags.Tag.notnull()]"
   ]
  },
  {
   "cell_type": "code",
   "execution_count": 17,
   "metadata": {
    "collapsed": true
   },
   "outputs": [],
   "source": [
    "tagsByquestion = tags.groupby('Id',as_index=False).agg(lambda x: ' '.join(x))"
   ]
  },
  {
   "cell_type": "code",
   "execution_count": 18,
   "metadata": {
    "collapsed": false
   },
   "outputs": [
    {
     "data": {
      "text/html": [
       "<div>\n",
       "<table border=\"1\" class=\"dataframe\">\n",
       "  <thead>\n",
       "    <tr style=\"text-align: right;\">\n",
       "      <th></th>\n",
       "      <th>Id</th>\n",
       "      <th>Tag</th>\n",
       "    </tr>\n",
       "  </thead>\n",
       "  <tbody>\n",
       "    <tr>\n",
       "      <th>0</th>\n",
       "      <td>77434</td>\n",
       "      <td>vector</td>\n",
       "    </tr>\n",
       "    <tr>\n",
       "      <th>1</th>\n",
       "      <td>79709</td>\n",
       "      <td>memory function global-variables side-effects</td>\n",
       "    </tr>\n",
       "    <tr>\n",
       "      <th>2</th>\n",
       "      <td>95007</td>\n",
       "      <td>math statistics</td>\n",
       "    </tr>\n",
       "    <tr>\n",
       "      <th>3</th>\n",
       "      <td>103312</td>\n",
       "      <td>file file-io eof</td>\n",
       "    </tr>\n",
       "    <tr>\n",
       "      <th>4</th>\n",
       "      <td>255697</td>\n",
       "      <td>math statistics bayesian dirichlet</td>\n",
       "    </tr>\n",
       "  </tbody>\n",
       "</table>\n",
       "</div>"
      ],
      "text/plain": [
       "       Id                                            Tag\n",
       "0   77434                                         vector\n",
       "1   79709  memory function global-variables side-effects\n",
       "2   95007                                math statistics\n",
       "3  103312                               file file-io eof\n",
       "4  255697             math statistics bayesian dirichlet"
      ]
     },
     "execution_count": 18,
     "metadata": {},
     "output_type": "execute_result"
    }
   ],
   "source": [
    "tagsByquestion.head()"
   ]
  },
  {
   "cell_type": "code",
   "execution_count": 19,
   "metadata": {
    "collapsed": false
   },
   "outputs": [
    {
     "name": "stdout",
     "output_type": "stream",
     "text": [
      "<class 'pandas.core.frame.DataFrame'>\n",
      "Int64Index: 121862 entries, 0 to 121861\n",
      "Data columns (total 2 columns):\n",
      "Id     121862 non-null int64\n",
      "Tag    121862 non-null object\n",
      "dtypes: int64(1), object(1)\n",
      "memory usage: 2.8+ MB\n"
     ]
    }
   ],
   "source": [
    "tagsByquestion.info()"
   ]
  },
  {
   "cell_type": "code",
   "execution_count": 20,
   "metadata": {
    "collapsed": false
   },
   "outputs": [],
   "source": [
    "questions_tags = questions_final.merge(tagsByquestion,on='Id',how='left')"
   ]
  },
  {
   "cell_type": "code",
   "execution_count": 21,
   "metadata": {
    "collapsed": false
   },
   "outputs": [
    {
     "data": {
      "text/html": [
       "<div>\n",
       "<table border=\"1\" class=\"dataframe\">\n",
       "  <thead>\n",
       "    <tr style=\"text-align: right;\">\n",
       "      <th></th>\n",
       "      <th>Id</th>\n",
       "      <th>OwnerUserId</th>\n",
       "      <th>CreationDate</th>\n",
       "      <th>Score</th>\n",
       "      <th>Title</th>\n",
       "      <th>QuestionBody</th>\n",
       "      <th>CodeBody</th>\n",
       "      <th>Tag</th>\n",
       "    </tr>\n",
       "  </thead>\n",
       "  <tbody>\n",
       "    <tr>\n",
       "      <th>0</th>\n",
       "      <td>77434</td>\n",
       "      <td>14008.0</td>\n",
       "      <td>2008-09-16T21:40:29Z</td>\n",
       "      <td>134</td>\n",
       "      <td>How to access the last value in a vector?</td>\n",
       "      <td>Suppose I have a vector that is nested in a d...</td>\n",
       "      <td>length()  $#  dat$vec1$vec2[$#]   dat$vec1$ve...</td>\n",
       "      <td>vector</td>\n",
       "    </tr>\n",
       "    <tr>\n",
       "      <th>1</th>\n",
       "      <td>79709</td>\n",
       "      <td>NaN</td>\n",
       "      <td>2008-09-17T03:39:16Z</td>\n",
       "      <td>1</td>\n",
       "      <td>Worse sin: side effects or passing massive obj...</td>\n",
       "      <td>I have a function inside a loop inside a func...</td>\n",
       "      <td>for (dataset in list_of_datasets) {   for (da...</td>\n",
       "      <td>memory function global-variables side-effects</td>\n",
       "    </tr>\n",
       "    <tr>\n",
       "      <th>2</th>\n",
       "      <td>95007</td>\n",
       "      <td>15842.0</td>\n",
       "      <td>2008-09-18T17:59:19Z</td>\n",
       "      <td>48</td>\n",
       "      <td>Explain the quantile() function in R</td>\n",
       "      <td>I've been mystified by the R quantile functio...</td>\n",
       "      <td>NaN</td>\n",
       "      <td>math statistics</td>\n",
       "    </tr>\n",
       "    <tr>\n",
       "      <th>3</th>\n",
       "      <td>103312</td>\n",
       "      <td>NaN</td>\n",
       "      <td>2008-09-19T16:09:26Z</td>\n",
       "      <td>4</td>\n",
       "      <td>How to test for the EOF flag in R?</td>\n",
       "      <td>How can I test for the   flag in R?     For e...</td>\n",
       "      <td>EOF  f &amp;lt;- file(fname, \"rb\") while (???) { ...</td>\n",
       "      <td>file file-io eof</td>\n",
       "    </tr>\n",
       "    <tr>\n",
       "      <th>4</th>\n",
       "      <td>255697</td>\n",
       "      <td>1941213.0</td>\n",
       "      <td>2008-11-01T15:48:30Z</td>\n",
       "      <td>3</td>\n",
       "      <td>Is there an R package for learning a Dirichlet...</td>\n",
       "      <td>I'm looking for a an   package which can be u...</td>\n",
       "      <td>R  R</td>\n",
       "      <td>math statistics bayesian dirichlet</td>\n",
       "    </tr>\n",
       "  </tbody>\n",
       "</table>\n",
       "</div>"
      ],
      "text/plain": [
       "       Id  OwnerUserId          CreationDate  Score  \\\n",
       "0   77434      14008.0  2008-09-16T21:40:29Z    134   \n",
       "1   79709          NaN  2008-09-17T03:39:16Z      1   \n",
       "2   95007      15842.0  2008-09-18T17:59:19Z     48   \n",
       "3  103312          NaN  2008-09-19T16:09:26Z      4   \n",
       "4  255697    1941213.0  2008-11-01T15:48:30Z      3   \n",
       "\n",
       "                                               Title  \\\n",
       "0          How to access the last value in a vector?   \n",
       "1  Worse sin: side effects or passing massive obj...   \n",
       "2               Explain the quantile() function in R   \n",
       "3                 How to test for the EOF flag in R?   \n",
       "4  Is there an R package for learning a Dirichlet...   \n",
       "\n",
       "                                        QuestionBody  \\\n",
       "0   Suppose I have a vector that is nested in a d...   \n",
       "1   I have a function inside a loop inside a func...   \n",
       "2   I've been mystified by the R quantile functio...   \n",
       "3   How can I test for the   flag in R?     For e...   \n",
       "4   I'm looking for a an   package which can be u...   \n",
       "\n",
       "                                            CodeBody  \\\n",
       "0   length()  $#  dat$vec1$vec2[$#]   dat$vec1$ve...   \n",
       "1   for (dataset in list_of_datasets) {   for (da...   \n",
       "2                                                NaN   \n",
       "3   EOF  f &lt;- file(fname, \"rb\") while (???) { ...   \n",
       "4                                              R  R    \n",
       "\n",
       "                                             Tag  \n",
       "0                                         vector  \n",
       "1  memory function global-variables side-effects  \n",
       "2                                math statistics  \n",
       "3                               file file-io eof  \n",
       "4             math statistics bayesian dirichlet  "
      ]
     },
     "execution_count": 21,
     "metadata": {},
     "output_type": "execute_result"
    }
   ],
   "source": [
    "questions_tags.head()"
   ]
  },
  {
   "cell_type": "code",
   "execution_count": 22,
   "metadata": {
    "collapsed": false
   },
   "outputs": [
    {
     "name": "stdout",
     "output_type": "stream",
     "text": [
      "<class 'pandas.core.frame.DataFrame'>\n",
      "Int64Index: 147075 entries, 0 to 147074\n",
      "Data columns (total 8 columns):\n",
      "Id              147075 non-null int64\n",
      "OwnerUserId     146129 non-null float64\n",
      "CreationDate    147075 non-null object\n",
      "Score           147075 non-null int64\n",
      "Title           147075 non-null object\n",
      "QuestionBody    147075 non-null object\n",
      "CodeBody        134507 non-null object\n",
      "Tag             121862 non-null object\n",
      "dtypes: float64(1), int64(2), object(5)\n",
      "memory usage: 10.1+ MB\n"
     ]
    }
   ],
   "source": [
    "questions_tags.info()"
   ]
  },
  {
   "cell_type": "markdown",
   "metadata": {},
   "source": [
    "至此，Questions和tags处理并合并完成。"
   ]
  },
  {
   "cell_type": "code",
   "execution_count": 23,
   "metadata": {
    "collapsed": true
   },
   "outputs": [],
   "source": [
    "questions_tags = questions_tags.drop(['OwnerUserId','CreationDate','Score'], axis=1)"
   ]
  },
  {
   "cell_type": "code",
   "execution_count": 24,
   "metadata": {
    "collapsed": false
   },
   "outputs": [
    {
     "data": {
      "text/html": [
       "<div>\n",
       "<table border=\"1\" class=\"dataframe\">\n",
       "  <thead>\n",
       "    <tr style=\"text-align: right;\">\n",
       "      <th></th>\n",
       "      <th>Id</th>\n",
       "      <th>Title</th>\n",
       "      <th>QuestionBody</th>\n",
       "      <th>CodeBody</th>\n",
       "      <th>Tag</th>\n",
       "    </tr>\n",
       "  </thead>\n",
       "  <tbody>\n",
       "    <tr>\n",
       "      <th>0</th>\n",
       "      <td>77434</td>\n",
       "      <td>How to access the last value in a vector?</td>\n",
       "      <td>Suppose I have a vector that is nested in a d...</td>\n",
       "      <td>length()  $#  dat$vec1$vec2[$#]   dat$vec1$ve...</td>\n",
       "      <td>vector</td>\n",
       "    </tr>\n",
       "    <tr>\n",
       "      <th>1</th>\n",
       "      <td>79709</td>\n",
       "      <td>Worse sin: side effects or passing massive obj...</td>\n",
       "      <td>I have a function inside a loop inside a func...</td>\n",
       "      <td>for (dataset in list_of_datasets) {   for (da...</td>\n",
       "      <td>memory function global-variables side-effects</td>\n",
       "    </tr>\n",
       "    <tr>\n",
       "      <th>2</th>\n",
       "      <td>95007</td>\n",
       "      <td>Explain the quantile() function in R</td>\n",
       "      <td>I've been mystified by the R quantile functio...</td>\n",
       "      <td>NaN</td>\n",
       "      <td>math statistics</td>\n",
       "    </tr>\n",
       "    <tr>\n",
       "      <th>3</th>\n",
       "      <td>103312</td>\n",
       "      <td>How to test for the EOF flag in R?</td>\n",
       "      <td>How can I test for the   flag in R?     For e...</td>\n",
       "      <td>EOF  f &amp;lt;- file(fname, \"rb\") while (???) { ...</td>\n",
       "      <td>file file-io eof</td>\n",
       "    </tr>\n",
       "    <tr>\n",
       "      <th>4</th>\n",
       "      <td>255697</td>\n",
       "      <td>Is there an R package for learning a Dirichlet...</td>\n",
       "      <td>I'm looking for a an   package which can be u...</td>\n",
       "      <td>R  R</td>\n",
       "      <td>math statistics bayesian dirichlet</td>\n",
       "    </tr>\n",
       "  </tbody>\n",
       "</table>\n",
       "</div>"
      ],
      "text/plain": [
       "       Id                                              Title  \\\n",
       "0   77434          How to access the last value in a vector?   \n",
       "1   79709  Worse sin: side effects or passing massive obj...   \n",
       "2   95007               Explain the quantile() function in R   \n",
       "3  103312                 How to test for the EOF flag in R?   \n",
       "4  255697  Is there an R package for learning a Dirichlet...   \n",
       "\n",
       "                                        QuestionBody  \\\n",
       "0   Suppose I have a vector that is nested in a d...   \n",
       "1   I have a function inside a loop inside a func...   \n",
       "2   I've been mystified by the R quantile functio...   \n",
       "3   How can I test for the   flag in R?     For e...   \n",
       "4   I'm looking for a an   package which can be u...   \n",
       "\n",
       "                                            CodeBody  \\\n",
       "0   length()  $#  dat$vec1$vec2[$#]   dat$vec1$ve...   \n",
       "1   for (dataset in list_of_datasets) {   for (da...   \n",
       "2                                                NaN   \n",
       "3   EOF  f &lt;- file(fname, \"rb\") while (???) { ...   \n",
       "4                                              R  R    \n",
       "\n",
       "                                             Tag  \n",
       "0                                         vector  \n",
       "1  memory function global-variables side-effects  \n",
       "2                                math statistics  \n",
       "3                               file file-io eof  \n",
       "4             math statistics bayesian dirichlet  "
      ]
     },
     "execution_count": 24,
     "metadata": {},
     "output_type": "execute_result"
    }
   ],
   "source": [
    "questions_tags.head()"
   ]
  },
  {
   "cell_type": "code",
   "execution_count": 25,
   "metadata": {
    "collapsed": false
   },
   "outputs": [
    {
     "name": "stdout",
     "output_type": "stream",
     "text": [
      "<class 'pandas.core.frame.DataFrame'>\n",
      "Int64Index: 147075 entries, 0 to 147074\n",
      "Data columns (total 5 columns):\n",
      "Id              147075 non-null int64\n",
      "Title           147075 non-null object\n",
      "QuestionBody    147075 non-null object\n",
      "CodeBody        134507 non-null object\n",
      "Tag             121862 non-null object\n",
      "dtypes: int64(1), object(4)\n",
      "memory usage: 6.7+ MB\n"
     ]
    }
   ],
   "source": [
    "questions_tags.info()"
   ]
  },
  {
   "cell_type": "markdown",
   "metadata": {},
   "source": [
    "**再处理answers，找出有最佳回答的问题**"
   ]
  },
  {
   "cell_type": "code",
   "execution_count": 26,
   "metadata": {
    "collapsed": true
   },
   "outputs": [],
   "source": [
    "accepted_answers = answers[answers.IsAcceptedAnswer == True]"
   ]
  },
  {
   "cell_type": "code",
   "execution_count": 27,
   "metadata": {
    "collapsed": false
   },
   "outputs": [
    {
     "data": {
      "text/html": [
       "<div>\n",
       "<table border=\"1\" class=\"dataframe\">\n",
       "  <thead>\n",
       "    <tr style=\"text-align: right;\">\n",
       "      <th></th>\n",
       "      <th>Id</th>\n",
       "      <th>OwnerUserId</th>\n",
       "      <th>CreationDate</th>\n",
       "      <th>ParentId</th>\n",
       "      <th>Score</th>\n",
       "      <th>IsAcceptedAnswer</th>\n",
       "      <th>Body</th>\n",
       "    </tr>\n",
       "  </thead>\n",
       "  <tbody>\n",
       "    <tr>\n",
       "      <th>12</th>\n",
       "      <td>255992</td>\n",
       "      <td>23263.0</td>\n",
       "      <td>2008-11-01T19:29:54Z</td>\n",
       "      <td>255697</td>\n",
       "      <td>2</td>\n",
       "      <td>True</td>\n",
       "      <td>&lt;p&gt;I've only come across both R and the Dirich...</td>\n",
       "    </tr>\n",
       "    <tr>\n",
       "      <th>13</th>\n",
       "      <td>359458</td>\n",
       "      <td>3201.0</td>\n",
       "      <td>2008-12-11T14:06:56Z</td>\n",
       "      <td>359438</td>\n",
       "      <td>2</td>\n",
       "      <td>True</td>\n",
       "      <td>&lt;p&gt;I have used &lt;a href=\"http://cran.r-project....</td>\n",
       "    </tr>\n",
       "    <tr>\n",
       "      <th>15</th>\n",
       "      <td>440066</td>\n",
       "      <td>37751.0</td>\n",
       "      <td>2009-01-13T18:00:54Z</td>\n",
       "      <td>439526</td>\n",
       "      <td>8</td>\n",
       "      <td>True</td>\n",
       "      <td>&lt;p&gt;Clearly I should have worked on this for an...</td>\n",
       "    </tr>\n",
       "    <tr>\n",
       "      <th>18</th>\n",
       "      <td>455286</td>\n",
       "      <td>54904.0</td>\n",
       "      <td>2009-01-18T15:12:24Z</td>\n",
       "      <td>445059</td>\n",
       "      <td>7</td>\n",
       "      <td>True</td>\n",
       "      <td>&lt;p&gt;Here's what seems like another very R-type ...</td>\n",
       "    </tr>\n",
       "    <tr>\n",
       "      <th>19</th>\n",
       "      <td>467131</td>\n",
       "      <td>57626.0</td>\n",
       "      <td>2009-01-21T21:38:10Z</td>\n",
       "      <td>467110</td>\n",
       "      <td>11</td>\n",
       "      <td>True</td>\n",
       "      <td>&lt;p&gt;In most cases R is an interpreted language ...</td>\n",
       "    </tr>\n",
       "  </tbody>\n",
       "</table>\n",
       "</div>"
      ],
      "text/plain": [
       "        Id  OwnerUserId          CreationDate  ParentId  Score  \\\n",
       "12  255992      23263.0  2008-11-01T19:29:54Z    255697      2   \n",
       "13  359458       3201.0  2008-12-11T14:06:56Z    359438      2   \n",
       "15  440066      37751.0  2009-01-13T18:00:54Z    439526      8   \n",
       "18  455286      54904.0  2009-01-18T15:12:24Z    445059      7   \n",
       "19  467131      57626.0  2009-01-21T21:38:10Z    467110     11   \n",
       "\n",
       "   IsAcceptedAnswer                                               Body  \n",
       "12             True  <p>I've only come across both R and the Dirich...  \n",
       "13             True  <p>I have used <a href=\"http://cran.r-project....  \n",
       "15             True  <p>Clearly I should have worked on this for an...  \n",
       "18             True  <p>Here's what seems like another very R-type ...  \n",
       "19             True  <p>In most cases R is an interpreted language ...  "
      ]
     },
     "execution_count": 27,
     "metadata": {},
     "output_type": "execute_result"
    }
   ],
   "source": [
    "accepted_answers.head()"
   ]
  },
  {
   "cell_type": "code",
   "execution_count": 28,
   "metadata": {
    "collapsed": false
   },
   "outputs": [
    {
     "name": "stdout",
     "output_type": "stream",
     "text": [
      "<class 'pandas.core.frame.DataFrame'>\n",
      "Int64Index: 87661 entries, 12 to 198588\n",
      "Data columns (total 7 columns):\n",
      "Id                  87661 non-null int64\n",
      "OwnerUserId         87404 non-null float64\n",
      "CreationDate        87661 non-null object\n",
      "ParentId            87661 non-null int64\n",
      "Score               87661 non-null int64\n",
      "IsAcceptedAnswer    87661 non-null bool\n",
      "Body                87661 non-null object\n",
      "dtypes: bool(1), float64(1), int64(3), object(2)\n",
      "memory usage: 4.8+ MB\n"
     ]
    }
   ],
   "source": [
    "accepted_answers.info()"
   ]
  },
  {
   "cell_type": "code",
   "execution_count": 29,
   "metadata": {
    "collapsed": true
   },
   "outputs": [],
   "source": [
    "%matplotlib inline"
   ]
  },
  {
   "cell_type": "code",
   "execution_count": 30,
   "metadata": {
    "collapsed": false
   },
   "outputs": [
    {
     "data": {
      "text/plain": [
       "<matplotlib.axes._subplots.AxesSubplot at 0x8369df98>"
      ]
     },
     "execution_count": 30,
     "metadata": {},
     "output_type": "execute_result"
    },
    {
     "data": {
      "image/png": "[encoded data removed]",
      "text/plain": [
       "<matplotlib.figure.Figure at 0x51cc5a90>"
      ]
     },
     "metadata": {},
     "output_type": "display_data"
    }
   ],
   "source": [
    "# Let's compute the number of best answers the experts have proposed:\n",
    "accepted_answers[\"OwnerUserId\"].value_counts().head(10).plot(kind=\"barh\")"
   ]
  },
  {
   "cell_type": "code",
   "execution_count": 31,
   "metadata": {
    "collapsed": false
   },
   "outputs": [
    {
     "data": {
      "text/plain": [
       "3732271.0    4380\n",
       "1855677.0    1954\n",
       "2372064.0    1495\n",
       "1270695.0    1360\n",
       "1412059.0    1102\n",
       "143305.0     1083\n",
       "190277.0     1075\n",
       "516548.0      995\n",
       "1838509.0     991\n",
       "271616.0      927\n",
       "Name: OwnerUserId, dtype: int64"
      ]
     },
     "execution_count": 31,
     "metadata": {},
     "output_type": "execute_result"
    }
   ],
   "source": [
    "accepted_answers[\"OwnerUserId\"].value_counts().head(10)"
   ]
  },
  {
   "cell_type": "code",
   "execution_count": 32,
   "metadata": {
    "collapsed": true
   },
   "outputs": [],
   "source": [
    "accepted_answers = accepted_answers.drop(['Id','CreationDate','Score','IsAcceptedAnswer' ,'Body'], axis=1)"
   ]
  },
  {
   "cell_type": "code",
   "execution_count": 33,
   "metadata": {
    "collapsed": false
   },
   "outputs": [],
   "source": [
    "col_mapping = {'OwnerUserId' : 'ExpertId',\n",
    "               'ParentId' : 'Id'}\n",
    "accepted_answers = accepted_answers.rename(columns=col_mapping, copy = False)"
   ]
  },
  {
   "cell_type": "code",
   "execution_count": 34,
   "metadata": {
    "collapsed": false
   },
   "outputs": [
    {
     "data": {
      "text/html": [
       "<div>\n",
       "<table border=\"1\" class=\"dataframe\">\n",
       "  <thead>\n",
       "    <tr style=\"text-align: right;\">\n",
       "      <th></th>\n",
       "      <th>ExpertId</th>\n",
       "      <th>Id</th>\n",
       "    </tr>\n",
       "  </thead>\n",
       "  <tbody>\n",
       "    <tr>\n",
       "      <th>12</th>\n",
       "      <td>23263.0</td>\n",
       "      <td>255697</td>\n",
       "    </tr>\n",
       "    <tr>\n",
       "      <th>13</th>\n",
       "      <td>3201.0</td>\n",
       "      <td>359438</td>\n",
       "    </tr>\n",
       "    <tr>\n",
       "      <th>15</th>\n",
       "      <td>37751.0</td>\n",
       "      <td>439526</td>\n",
       "    </tr>\n",
       "    <tr>\n",
       "      <th>18</th>\n",
       "      <td>54904.0</td>\n",
       "      <td>445059</td>\n",
       "    </tr>\n",
       "    <tr>\n",
       "      <th>19</th>\n",
       "      <td>57626.0</td>\n",
       "      <td>467110</td>\n",
       "    </tr>\n",
       "  </tbody>\n",
       "</table>\n",
       "</div>"
      ],
      "text/plain": [
       "    ExpertId      Id\n",
       "12   23263.0  255697\n",
       "13    3201.0  359438\n",
       "15   37751.0  439526\n",
       "18   54904.0  445059\n",
       "19   57626.0  467110"
      ]
     },
     "execution_count": 34,
     "metadata": {},
     "output_type": "execute_result"
    }
   ],
   "source": [
    "accepted_answers.head()"
   ]
  },
  {
   "cell_type": "code",
   "execution_count": 35,
   "metadata": {
    "collapsed": false
   },
   "outputs": [
    {
     "name": "stdout",
     "output_type": "stream",
     "text": [
      "<class 'pandas.core.frame.DataFrame'>\n",
      "Int64Index: 87661 entries, 12 to 198588\n",
      "Data columns (total 2 columns):\n",
      "ExpertId    87404 non-null float64\n",
      "Id          87661 non-null int64\n",
      "dtypes: float64(1), int64(1)\n",
      "memory usage: 2.0 MB\n"
     ]
    }
   ],
   "source": [
    "accepted_answers.info()"
   ]
  },
  {
   "cell_type": "code",
   "execution_count": 36,
   "metadata": {
    "collapsed": false
   },
   "outputs": [],
   "source": [
    "accepted_answers = accepted_answers.dropna()"
   ]
  },
  {
   "cell_type": "code",
   "execution_count": 37,
   "metadata": {
    "collapsed": false
   },
   "outputs": [
    {
     "name": "stdout",
     "output_type": "stream",
     "text": [
      "<class 'pandas.core.frame.DataFrame'>\n",
      "Int64Index: 87404 entries, 12 to 198588\n",
      "Data columns (total 2 columns):\n",
      "ExpertId    87404 non-null float64\n",
      "Id          87404 non-null int64\n",
      "dtypes: float64(1), int64(1)\n",
      "memory usage: 2.0 MB\n"
     ]
    }
   ],
   "source": [
    "accepted_answers.info()"
   ]
  },
  {
   "cell_type": "code",
   "execution_count": 38,
   "metadata": {
    "collapsed": false
   },
   "outputs": [
    {
     "data": {
      "text/plain": [
       "(9004L,)"
      ]
     },
     "execution_count": 38,
     "metadata": {},
     "output_type": "execute_result"
    }
   ],
   "source": [
    "unique_expert = accepted_answers.ExpertId.unique()\n",
    "unique_expert.shape"
   ]
  },
  {
   "cell_type": "code",
   "execution_count": 39,
   "metadata": {
    "collapsed": true
   },
   "outputs": [],
   "source": [
    "count = accepted_answers['ExpertId'].value_counts()"
   ]
  },
  {
   "cell_type": "code",
   "execution_count": 40,
   "metadata": {
    "collapsed": true
   },
   "outputs": [],
   "source": [
    "count_df = pd.DataFrame(count)"
   ]
  },
  {
   "cell_type": "code",
   "execution_count": 41,
   "metadata": {
    "collapsed": false
   },
   "outputs": [],
   "source": [
    "count_df = count_df.reset_index()"
   ]
  },
  {
   "cell_type": "code",
   "execution_count": 42,
   "metadata": {
    "collapsed": true
   },
   "outputs": [],
   "source": [
    "col_mapping2 = {'ExpertId' : 'Count',\n",
    "                'index' : 'ExpertId'}\n",
    "count_df = count_df.rename(columns=col_mapping2, copy = False)"
   ]
  },
  {
   "cell_type": "code",
   "execution_count": 43,
   "metadata": {
    "collapsed": false
   },
   "outputs": [
    {
     "data": {
      "text/html": [
       "<div>\n",
       "<table border=\"1\" class=\"dataframe\">\n",
       "  <thead>\n",
       "    <tr style=\"text-align: right;\">\n",
       "      <th></th>\n",
       "      <th>ExpertId</th>\n",
       "      <th>Count</th>\n",
       "    </tr>\n",
       "  </thead>\n",
       "  <tbody>\n",
       "    <tr>\n",
       "      <th>0</th>\n",
       "      <td>3732271.0</td>\n",
       "      <td>4380</td>\n",
       "    </tr>\n",
       "    <tr>\n",
       "      <th>1</th>\n",
       "      <td>1855677.0</td>\n",
       "      <td>1954</td>\n",
       "    </tr>\n",
       "    <tr>\n",
       "      <th>2</th>\n",
       "      <td>2372064.0</td>\n",
       "      <td>1495</td>\n",
       "    </tr>\n",
       "    <tr>\n",
       "      <th>3</th>\n",
       "      <td>1270695.0</td>\n",
       "      <td>1360</td>\n",
       "    </tr>\n",
       "    <tr>\n",
       "      <th>4</th>\n",
       "      <td>1412059.0</td>\n",
       "      <td>1102</td>\n",
       "    </tr>\n",
       "  </tbody>\n",
       "</table>\n",
       "</div>"
      ],
      "text/plain": [
       "    ExpertId  Count\n",
       "0  3732271.0   4380\n",
       "1  1855677.0   1954\n",
       "2  2372064.0   1495\n",
       "3  1270695.0   1360\n",
       "4  1412059.0   1102"
      ]
     },
     "execution_count": 43,
     "metadata": {},
     "output_type": "execute_result"
    }
   ],
   "source": [
    "count_df.head()"
   ]
  },
  {
   "cell_type": "code",
   "execution_count": 44,
   "metadata": {
    "collapsed": false
   },
   "outputs": [
    {
     "name": "stdout",
     "output_type": "stream",
     "text": [
      "<class 'pandas.core.frame.DataFrame'>\n",
      "RangeIndex: 9004 entries, 0 to 9003\n",
      "Data columns (total 2 columns):\n",
      "ExpertId    9004 non-null float64\n",
      "Count       9004 non-null int64\n",
      "dtypes: float64(1), int64(1)\n",
      "memory usage: 140.8 KB\n"
     ]
    }
   ],
   "source": [
    "count_df.info()"
   ]
  },
  {
   "cell_type": "markdown",
   "metadata": {},
   "source": [
    "**整合数据**"
   ]
  },
  {
   "cell_type": "code",
   "execution_count": 45,
   "metadata": {
    "collapsed": true
   },
   "outputs": [],
   "source": [
    "questions_answers = questions_tags.merge(accepted_answers,on='Id',how='right')"
   ]
  },
  {
   "cell_type": "code",
   "execution_count": 46,
   "metadata": {
    "collapsed": false
   },
   "outputs": [
    {
     "data": {
      "text/html": [
       "<div>\n",
       "<table border=\"1\" class=\"dataframe\">\n",
       "  <thead>\n",
       "    <tr style=\"text-align: right;\">\n",
       "      <th></th>\n",
       "      <th>Id</th>\n",
       "      <th>Title</th>\n",
       "      <th>QuestionBody</th>\n",
       "      <th>CodeBody</th>\n",
       "      <th>Tag</th>\n",
       "      <th>ExpertId</th>\n",
       "    </tr>\n",
       "  </thead>\n",
       "  <tbody>\n",
       "    <tr>\n",
       "      <th>0</th>\n",
       "      <td>95007</td>\n",
       "      <td>Explain the quantile() function in R</td>\n",
       "      <td>I've been mystified by the R quantile functio...</td>\n",
       "      <td>NaN</td>\n",
       "      <td>math statistics</td>\n",
       "      <td>79513.0</td>\n",
       "    </tr>\n",
       "    <tr>\n",
       "      <th>1</th>\n",
       "      <td>255697</td>\n",
       "      <td>Is there an R package for learning a Dirichlet...</td>\n",
       "      <td>I'm looking for a an   package which can be u...</td>\n",
       "      <td>R  R</td>\n",
       "      <td>math statistics bayesian dirichlet</td>\n",
       "      <td>23263.0</td>\n",
       "    </tr>\n",
       "    <tr>\n",
       "      <th>2</th>\n",
       "      <td>359438</td>\n",
       "      <td>Optimization packages for R</td>\n",
       "      <td>Does anyone know of any optimization packages...</td>\n",
       "      <td>NaN</td>\n",
       "      <td>mathematical-optimization</td>\n",
       "      <td>3201.0</td>\n",
       "    </tr>\n",
       "    <tr>\n",
       "      <th>3</th>\n",
       "      <td>439526</td>\n",
       "      <td>Thinking in Vectors with R</td>\n",
       "      <td>I know that R works most efficiently with vec...</td>\n",
       "      <td>st  p1  p2  st&amp;lt;-NULL p1&amp;lt;-NULL p2&amp;lt;-NU...</td>\n",
       "      <td>vector</td>\n",
       "      <td>37751.0</td>\n",
       "    </tr>\n",
       "    <tr>\n",
       "      <th>4</th>\n",
       "      <td>445059</td>\n",
       "      <td>Vectorize my thinking: Vector Operations in R</td>\n",
       "      <td>So earlier I answered my own question on thin...</td>\n",
       "      <td>for (j in my.data$item[my.data$fixed==0]) { #...</td>\n",
       "      <td>vector</td>\n",
       "      <td>54904.0</td>\n",
       "    </tr>\n",
       "  </tbody>\n",
       "</table>\n",
       "</div>"
      ],
      "text/plain": [
       "       Id                                              Title  \\\n",
       "0   95007               Explain the quantile() function in R   \n",
       "1  255697  Is there an R package for learning a Dirichlet...   \n",
       "2  359438                        Optimization packages for R   \n",
       "3  439526                         Thinking in Vectors with R   \n",
       "4  445059      Vectorize my thinking: Vector Operations in R   \n",
       "\n",
       "                                        QuestionBody  \\\n",
       "0   I've been mystified by the R quantile functio...   \n",
       "1   I'm looking for a an   package which can be u...   \n",
       "2   Does anyone know of any optimization packages...   \n",
       "3   I know that R works most efficiently with vec...   \n",
       "4   So earlier I answered my own question on thin...   \n",
       "\n",
       "                                            CodeBody  \\\n",
       "0                                                NaN   \n",
       "1                                              R  R    \n",
       "2                                                NaN   \n",
       "3   st  p1  p2  st&lt;-NULL p1&lt;-NULL p2&lt;-NU...   \n",
       "4   for (j in my.data$item[my.data$fixed==0]) { #...   \n",
       "\n",
       "                                  Tag  ExpertId  \n",
       "0                     math statistics   79513.0  \n",
       "1  math statistics bayesian dirichlet   23263.0  \n",
       "2           mathematical-optimization    3201.0  \n",
       "3                              vector   37751.0  \n",
       "4                              vector   54904.0  "
      ]
     },
     "execution_count": 46,
     "metadata": {},
     "output_type": "execute_result"
    }
   ],
   "source": [
    "questions_answers.head()"
   ]
  },
  {
   "cell_type": "code",
   "execution_count": 47,
   "metadata": {
    "collapsed": false
   },
   "outputs": [
    {
     "name": "stdout",
     "output_type": "stream",
     "text": [
      "<class 'pandas.core.frame.DataFrame'>\n",
      "Int64Index: 87404 entries, 0 to 87403\n",
      "Data columns (total 6 columns):\n",
      "Id              87404 non-null int64\n",
      "Title           87404 non-null object\n",
      "QuestionBody    87404 non-null object\n",
      "CodeBody        81701 non-null object\n",
      "Tag             71861 non-null object\n",
      "ExpertId        87404 non-null float64\n",
      "dtypes: float64(1), int64(1), object(4)\n",
      "memory usage: 4.7+ MB\n"
     ]
    }
   ],
   "source": [
    "questions_answers.info()"
   ]
  },
  {
   "cell_type": "code",
   "execution_count": 48,
   "metadata": {
    "collapsed": true
   },
   "outputs": [],
   "source": [
    "experts_count = questions_answers.merge(count_df, on='ExpertId', how='left')"
   ]
  },
  {
   "cell_type": "code",
   "execution_count": 49,
   "metadata": {
    "collapsed": false
   },
   "outputs": [
    {
     "data": {
      "text/html": [
       "<div>\n",
       "<table border=\"1\" class=\"dataframe\">\n",
       "  <thead>\n",
       "    <tr style=\"text-align: right;\">\n",
       "      <th></th>\n",
       "      <th>Id</th>\n",
       "      <th>Title</th>\n",
       "      <th>QuestionBody</th>\n",
       "      <th>CodeBody</th>\n",
       "      <th>Tag</th>\n",
       "      <th>ExpertId</th>\n",
       "      <th>Count</th>\n",
       "    </tr>\n",
       "  </thead>\n",
       "  <tbody>\n",
       "    <tr>\n",
       "      <th>0</th>\n",
       "      <td>95007</td>\n",
       "      <td>Explain the quantile() function in R</td>\n",
       "      <td>I've been mystified by the R quantile functio...</td>\n",
       "      <td>NaN</td>\n",
       "      <td>math statistics</td>\n",
       "      <td>79513.0</td>\n",
       "      <td>1</td>\n",
       "    </tr>\n",
       "    <tr>\n",
       "      <th>1</th>\n",
       "      <td>255697</td>\n",
       "      <td>Is there an R package for learning a Dirichlet...</td>\n",
       "      <td>I'm looking for a an   package which can be u...</td>\n",
       "      <td>R  R</td>\n",
       "      <td>math statistics bayesian dirichlet</td>\n",
       "      <td>23263.0</td>\n",
       "      <td>1</td>\n",
       "    </tr>\n",
       "    <tr>\n",
       "      <th>2</th>\n",
       "      <td>359438</td>\n",
       "      <td>Optimization packages for R</td>\n",
       "      <td>Does anyone know of any optimization packages...</td>\n",
       "      <td>NaN</td>\n",
       "      <td>mathematical-optimization</td>\n",
       "      <td>3201.0</td>\n",
       "      <td>1</td>\n",
       "    </tr>\n",
       "    <tr>\n",
       "      <th>3</th>\n",
       "      <td>439526</td>\n",
       "      <td>Thinking in Vectors with R</td>\n",
       "      <td>I know that R works most efficiently with vec...</td>\n",
       "      <td>st  p1  p2  st&amp;lt;-NULL p1&amp;lt;-NULL p2&amp;lt;-NU...</td>\n",
       "      <td>vector</td>\n",
       "      <td>37751.0</td>\n",
       "      <td>53</td>\n",
       "    </tr>\n",
       "    <tr>\n",
       "      <th>4</th>\n",
       "      <td>445059</td>\n",
       "      <td>Vectorize my thinking: Vector Operations in R</td>\n",
       "      <td>So earlier I answered my own question on thin...</td>\n",
       "      <td>for (j in my.data$item[my.data$fixed==0]) { #...</td>\n",
       "      <td>vector</td>\n",
       "      <td>54904.0</td>\n",
       "      <td>1</td>\n",
       "    </tr>\n",
       "  </tbody>\n",
       "</table>\n",
       "</div>"
      ],
      "text/plain": [
       "       Id                                              Title  \\\n",
       "0   95007               Explain the quantile() function in R   \n",
       "1  255697  Is there an R package for learning a Dirichlet...   \n",
       "2  359438                        Optimization packages for R   \n",
       "3  439526                         Thinking in Vectors with R   \n",
       "4  445059      Vectorize my thinking: Vector Operations in R   \n",
       "\n",
       "                                        QuestionBody  \\\n",
       "0   I've been mystified by the R quantile functio...   \n",
       "1   I'm looking for a an   package which can be u...   \n",
       "2   Does anyone know of any optimization packages...   \n",
       "3   I know that R works most efficiently with vec...   \n",
       "4   So earlier I answered my own question on thin...   \n",
       "\n",
       "                                            CodeBody  \\\n",
       "0                                                NaN   \n",
       "1                                              R  R    \n",
       "2                                                NaN   \n",
       "3   st  p1  p2  st&lt;-NULL p1&lt;-NULL p2&lt;-NU...   \n",
       "4   for (j in my.data$item[my.data$fixed==0]) { #...   \n",
       "\n",
       "                                  Tag  ExpertId  Count  \n",
       "0                     math statistics   79513.0      1  \n",
       "1  math statistics bayesian dirichlet   23263.0      1  \n",
       "2           mathematical-optimization    3201.0      1  \n",
       "3                              vector   37751.0     53  \n",
       "4                              vector   54904.0      1  "
      ]
     },
     "execution_count": 49,
     "metadata": {},
     "output_type": "execute_result"
    }
   ],
   "source": [
    "experts_count.head()"
   ]
  },
  {
   "cell_type": "code",
   "execution_count": 50,
   "metadata": {
    "collapsed": false
   },
   "outputs": [
    {
     "name": "stdout",
     "output_type": "stream",
     "text": [
      "<class 'pandas.core.frame.DataFrame'>\n",
      "Int64Index: 87404 entries, 0 to 87403\n",
      "Data columns (total 7 columns):\n",
      "Id              87404 non-null int64\n",
      "Title           87404 non-null object\n",
      "QuestionBody    87404 non-null object\n",
      "CodeBody        81701 non-null object\n",
      "Tag             71861 non-null object\n",
      "ExpertId        87404 non-null float64\n",
      "Count           87404 non-null int64\n",
      "dtypes: float64(1), int64(2), object(4)\n",
      "memory usage: 5.3+ MB\n"
     ]
    }
   ],
   "source": [
    "experts_count.info()"
   ]
  },
  {
   "cell_type": "code",
   "execution_count": 51,
   "metadata": {
    "collapsed": false
   },
   "outputs": [
    {
     "data": {
      "text/plain": [
       "Index([u'Id', u'Title', u'QuestionBody', u'CodeBody', u'Tag', u'ExpertId',\n",
       "       u'Count'],\n",
       "      dtype='object')"
      ]
     },
     "execution_count": 51,
     "metadata": {},
     "output_type": "execute_result"
    }
   ],
   "source": [
    "experts_count.columns"
   ]
  },
  {
   "cell_type": "code",
   "execution_count": 52,
   "metadata": {
    "collapsed": false
   },
   "outputs": [],
   "source": [
    "experts_count = experts_count.reindex(columns=[u'Id', u'Title', u'QuestionBody', u'CodeBody', u'Tag', u'ExpertId',\n",
    "       u'Count', u'Label'])"
   ]
  },
  {
   "cell_type": "code",
   "execution_count": 53,
   "metadata": {
    "collapsed": true
   },
   "outputs": [],
   "source": [
    "from sklearn.preprocessing import LabelEncoder\n",
    "label=LabelEncoder()\n",
    "experts_count['Label']=label.fit_transform(experts_count['ExpertId'])"
   ]
  },
  {
   "cell_type": "code",
   "execution_count": 54,
   "metadata": {
    "collapsed": false
   },
   "outputs": [
    {
     "data": {
      "text/html": [
       "<div>\n",
       "<table border=\"1\" class=\"dataframe\">\n",
       "  <thead>\n",
       "    <tr style=\"text-align: right;\">\n",
       "      <th></th>\n",
       "      <th>Id</th>\n",
       "      <th>Title</th>\n",
       "      <th>QuestionBody</th>\n",
       "      <th>CodeBody</th>\n",
       "      <th>Tag</th>\n",
       "      <th>ExpertId</th>\n",
       "      <th>Count</th>\n",
       "      <th>Label</th>\n",
       "    </tr>\n",
       "  </thead>\n",
       "  <tbody>\n",
       "    <tr>\n",
       "      <th>0</th>\n",
       "      <td>95007</td>\n",
       "      <td>Explain the quantile() function in R</td>\n",
       "      <td>I've been mystified by the R quantile functio...</td>\n",
       "      <td>NaN</td>\n",
       "      <td>math statistics</td>\n",
       "      <td>79513.0</td>\n",
       "      <td>1</td>\n",
       "      <td>218</td>\n",
       "    </tr>\n",
       "    <tr>\n",
       "      <th>1</th>\n",
       "      <td>255697</td>\n",
       "      <td>Is there an R package for learning a Dirichlet...</td>\n",
       "      <td>I'm looking for a an   package which can be u...</td>\n",
       "      <td>R  R</td>\n",
       "      <td>math statistics bayesian dirichlet</td>\n",
       "      <td>23263.0</td>\n",
       "      <td>1</td>\n",
       "      <td>91</td>\n",
       "    </tr>\n",
       "    <tr>\n",
       "      <th>2</th>\n",
       "      <td>359438</td>\n",
       "      <td>Optimization packages for R</td>\n",
       "      <td>Does anyone know of any optimization packages...</td>\n",
       "      <td>NaN</td>\n",
       "      <td>mathematical-optimization</td>\n",
       "      <td>3201.0</td>\n",
       "      <td>1</td>\n",
       "      <td>15</td>\n",
       "    </tr>\n",
       "    <tr>\n",
       "      <th>3</th>\n",
       "      <td>439526</td>\n",
       "      <td>Thinking in Vectors with R</td>\n",
       "      <td>I know that R works most efficiently with vec...</td>\n",
       "      <td>st  p1  p2  st&amp;lt;-NULL p1&amp;lt;-NULL p2&amp;lt;-NU...</td>\n",
       "      <td>vector</td>\n",
       "      <td>37751.0</td>\n",
       "      <td>53</td>\n",
       "      <td>121</td>\n",
       "    </tr>\n",
       "    <tr>\n",
       "      <th>4</th>\n",
       "      <td>445059</td>\n",
       "      <td>Vectorize my thinking: Vector Operations in R</td>\n",
       "      <td>So earlier I answered my own question on thin...</td>\n",
       "      <td>for (j in my.data$item[my.data$fixed==0]) { #...</td>\n",
       "      <td>vector</td>\n",
       "      <td>54904.0</td>\n",
       "      <td>1</td>\n",
       "      <td>163</td>\n",
       "    </tr>\n",
       "  </tbody>\n",
       "</table>\n",
       "</div>"
      ],
      "text/plain": [
       "       Id                                              Title  \\\n",
       "0   95007               Explain the quantile() function in R   \n",
       "1  255697  Is there an R package for learning a Dirichlet...   \n",
       "2  359438                        Optimization packages for R   \n",
       "3  439526                         Thinking in Vectors with R   \n",
       "4  445059      Vectorize my thinking: Vector Operations in R   \n",
       "\n",
       "                                        QuestionBody  \\\n",
       "0   I've been mystified by the R quantile functio...   \n",
       "1   I'm looking for a an   package which can be u...   \n",
       "2   Does anyone know of any optimization packages...   \n",
       "3   I know that R works most efficiently with vec...   \n",
       "4   So earlier I answered my own question on thin...   \n",
       "\n",
       "                                            CodeBody  \\\n",
       "0                                                NaN   \n",
       "1                                              R  R    \n",
       "2                                                NaN   \n",
       "3   st  p1  p2  st&lt;-NULL p1&lt;-NULL p2&lt;-NU...   \n",
       "4   for (j in my.data$item[my.data$fixed==0]) { #...   \n",
       "\n",
       "                                  Tag  ExpertId  Count  Label  \n",
       "0                     math statistics   79513.0      1    218  \n",
       "1  math statistics bayesian dirichlet   23263.0      1     91  \n",
       "2           mathematical-optimization    3201.0      1     15  \n",
       "3                              vector   37751.0     53    121  \n",
       "4                              vector   54904.0      1    163  "
      ]
     },
     "execution_count": 54,
     "metadata": {},
     "output_type": "execute_result"
    }
   ],
   "source": [
    "experts_count.head()"
   ]
  },
  {
   "cell_type": "code",
   "execution_count": 55,
   "metadata": {
    "collapsed": false
   },
   "outputs": [
    {
     "name": "stdout",
     "output_type": "stream",
     "text": [
      "9003\n",
      "0\n"
     ]
    }
   ],
   "source": [
    "max_lable = np.max(experts_count.Label)\n",
    "min_lable = np.min(experts_count.Label)\n",
    "print (max_lable)\n",
    "print (min_lable)"
   ]
  },
  {
   "cell_type": "code",
   "execution_count": 56,
   "metadata": {
    "collapsed": false
   },
   "outputs": [
    {
     "name": "stdout",
     "output_type": "stream",
     "text": [
      "<class 'pandas.core.frame.DataFrame'>\n",
      "Int64Index: 87404 entries, 0 to 87403\n",
      "Data columns (total 8 columns):\n",
      "Id              87404 non-null int64\n",
      "Title           87404 non-null object\n",
      "QuestionBody    87404 non-null object\n",
      "CodeBody        81701 non-null object\n",
      "Tag             71861 non-null object\n",
      "ExpertId        87404 non-null float64\n",
      "Count           87404 non-null int64\n",
      "Label           87404 non-null int64\n",
      "dtypes: float64(1), int64(3), object(4)\n",
      "memory usage: 6.0+ MB\n"
     ]
    }
   ],
   "source": [
    "experts_count.info()"
   ]
  },
  {
   "cell_type": "code",
   "execution_count": 57,
   "metadata": {
    "collapsed": true
   },
   "outputs": [],
   "source": [
    "import pickle\n",
    "pickle.dump(experts_count,open('experts_count.pkl','wb'))"
   ]
  },
  {
   "cell_type": "markdown",
   "metadata": {},
   "source": [
    "----\n",
    "\n",
    "## **数据整合完毕，开始构造实验数据集**\n",
    "\n",
    "start from here"
   ]
  },
  {
   "cell_type": "code",
   "execution_count": 1,
   "metadata": {
    "collapsed": true
   },
   "outputs": [],
   "source": [
    "import numpy as np\n",
    "import pandas as pd\n",
    "experts_count=pd.read_pickle('experts_count.pkl')\n",
    "experts_count=experts_count.fillna('none')"
   ]
  },
  {
   "cell_type": "code",
   "execution_count": 2,
   "metadata": {
    "collapsed": false
   },
   "outputs": [
    {
     "data": {
      "text/plain": [
       "Index([u'Id', u'Title', u'QuestionBody', u'CodeBody', u'Tag', u'ExpertId',\n",
       "       u'Count', u'Label'],\n",
       "      dtype='object')"
      ]
     },
     "execution_count": 2,
     "metadata": {},
     "output_type": "execute_result"
    }
   ],
   "source": [
    "experts_count.columns"
   ]
  },
  {
   "cell_type": "code",
   "execution_count": 3,
   "metadata": {
    "collapsed": false
   },
   "outputs": [
    {
     "name": "stderr",
     "output_type": "stream",
     "text": [
      "C:\\Users\\Administrator\\Anaconda2\\lib\\site-packages\\ipykernel\\__main__.py:1: UserWarning: Boolean Series key will be reindexed to match DataFrame index.\n",
      "  if __name__ == '__main__':\n"
     ]
    }
   ],
   "source": [
    "train1 = experts_count[:80000][experts_count.Count>10]\n",
    "test1 = experts_count[80000:]"
   ]
  },
  {
   "cell_type": "code",
   "execution_count": 4,
   "metadata": {
    "collapsed": false
   },
   "outputs": [
    {
     "name": "stdout",
     "output_type": "stream",
     "text": [
      "number of experts in train set: 818L \n",
      "number of experts in test set: 1417L\n",
      "type : <type 'numpy.ndarray'>\n",
      "the number of experts both in train set and test set: 377L\n"
     ]
    }
   ],
   "source": [
    "train1_unique_expert = train1.ExpertId.unique()\n",
    "print (\"number of experts in train set: %r \" % train1_unique_expert.shape)\n",
    "\n",
    "test1_unique_expert = test1.ExpertId.unique()\n",
    "print (\"number of experts in test set: %r\" % test1_unique_expert.shape)\n",
    "\n",
    "print (\"type : %r\" % type(test1_unique_expert))\n",
    "\n",
    "l = np.intersect1d(train1_unique_expert,test1_unique_expert)\n",
    "print (\"the number of experts both in train set and test set: %r\" % l.shape)"
   ]
  },
  {
   "cell_type": "code",
   "execution_count": 5,
   "metadata": {
    "collapsed": false
   },
   "outputs": [],
   "source": [
    "title_train1 = train1.drop(['Id','QuestionBody','CodeBody','Tag', \\\n",
    "                           'ExpertId','Count',],axis=1)\n",
    "title_test1 = test1.drop(['Id','QuestionBody','CodeBody','Tag', \\\n",
    "                         'ExpertId','Count',],axis=1)"
   ]
  },
  {
   "cell_type": "code",
   "execution_count": 6,
   "metadata": {
    "collapsed": false
   },
   "outputs": [],
   "source": [
    "title_train1 = title_train1.set_index('Label')\n",
    "title_test1 = title_test1.set_index('Label')"
   ]
  },
  {
   "cell_type": "code",
   "execution_count": 7,
   "metadata": {
    "collapsed": false
   },
   "outputs": [
    {
     "name": "stdout",
     "output_type": "stream",
     "text": [
      "<class 'pandas.core.frame.DataFrame'>\n",
      "Int64Index: 66235 entries, 121 to 7823\n",
      "Data columns (total 1 columns):\n",
      "Title    66235 non-null object\n",
      "dtypes: object(1)\n",
      "memory usage: 1.0+ MB\n"
     ]
    }
   ],
   "source": [
    "title_train1.info()"
   ]
  },
  {
   "cell_type": "code",
   "execution_count": 8,
   "metadata": {
    "collapsed": false
   },
   "outputs": [
    {
     "name": "stdout",
     "output_type": "stream",
     "text": [
      "<class 'pandas.core.frame.DataFrame'>\n",
      "Int64Index: 7404 entries, 7745 to 1871\n",
      "Data columns (total 1 columns):\n",
      "Title    7404 non-null object\n",
      "dtypes: object(1)\n",
      "memory usage: 115.7+ KB\n"
     ]
    }
   ],
   "source": [
    "title_test1.info()"
   ]
  },
  {
   "cell_type": "code",
   "execution_count": 9,
   "metadata": {
    "collapsed": false
   },
   "outputs": [
    {
     "data": {
      "text/plain": [
       "0.6990815775256618"
      ]
     },
     "execution_count": 9,
     "metadata": {},
     "output_type": "execute_result"
    }
   ],
   "source": [
    "# 通过fastText的测试类别我们得出，测试集中7404个问题中有5176个属于训练集中存在的专家\n",
    "5176/7404.0"
   ]
  },
  {
   "cell_type": "code",
   "execution_count": 10,
   "metadata": {
    "collapsed": false
   },
   "outputs": [],
   "source": [
    "title_train1.to_csv('title_train1', encoding='utf-8')\n",
    "title_test1.to_csv('title_test1', encoding='utf-8')"
   ]
  },
  {
   "cell_type": "markdown",
   "metadata": {},
   "source": [
    "**至此，数据集title_set1——Count>10构造完成！ used for classification model** \n",
    "\n",
    "- stop words were not ignored\n",
    "- text was not tokenized and lowercased\n",
    "- no stemming was used"
   ]
  },
  {
   "cell_type": "markdown",
   "metadata": {},
   "source": [
    "----\n",
    "\n",
    "*****\n",
    "\n",
    "## **Now, let's contruct the dataset for computing the similarity **\n",
    "start from here"
   ]
  },
  {
   "cell_type": "code",
   "execution_count": 1,
   "metadata": {
    "collapsed": true
   },
   "outputs": [],
   "source": [
    "import numpy as np\n",
    "import pandas as pd\n",
    "experts_count=pd.read_pickle('experts_count.pkl')\n",
    "experts_count=experts_count.fillna('none')"
   ]
  },
  {
   "cell_type": "code",
   "execution_count": 2,
   "metadata": {
    "collapsed": false
   },
   "outputs": [],
   "source": [
    "train = experts_count[:80000]\n",
    "test = experts_count[80000:]\n",
    "title_train = train.drop(['Id','QuestionBody','CodeBody','Tag', \\\n",
    "                           'ExpertId','Count',],axis=1)\n",
    "title_test = test.drop(['Id','QuestionBody','CodeBody','Tag', \\\n",
    "                         'ExpertId','Count',],axis=1)"
   ]
  },
  {
   "cell_type": "code",
   "execution_count": 3,
   "metadata": {
    "collapsed": false
   },
   "outputs": [],
   "source": [
    "title_train = title_train.groupby('Label',as_index=True).agg(lambda x: ' '.join(x))\n",
    "title_test = title_test.set_index('Label')"
   ]
  },
  {
   "cell_type": "code",
   "execution_count": 4,
   "metadata": {
    "collapsed": false
   },
   "outputs": [
    {
     "name": "stdout",
     "output_type": "stream",
     "text": [
      "<class 'pandas.core.frame.DataFrame'>\n",
      "Int64Index: 8285 entries, 0 to 8996\n",
      "Data columns (total 1 columns):\n",
      "Title    8285 non-null object\n",
      "dtypes: object(1)\n",
      "memory usage: 129.5+ KB\n"
     ]
    }
   ],
   "source": [
    "title_train.info()"
   ]
  },
  {
   "cell_type": "code",
   "execution_count": 5,
   "metadata": {
    "collapsed": false
   },
   "outputs": [
    {
     "name": "stdout",
     "output_type": "stream",
     "text": [
      "<class 'pandas.core.frame.DataFrame'>\n",
      "Int64Index: 7404 entries, 7745 to 1871\n",
      "Data columns (total 1 columns):\n",
      "Title    7404 non-null object\n",
      "dtypes: object(1)\n",
      "memory usage: 115.7+ KB\n"
     ]
    }
   ],
   "source": [
    "title_test.info()"
   ]
  },
  {
   "cell_type": "code",
   "execution_count": 7,
   "metadata": {
    "collapsed": false
   },
   "outputs": [
    {
     "name": "stdout",
     "output_type": "stream",
     "text": [
      "number of experts in train set: 8285L \n",
      "number of experts in test set: 1417L\n",
      "type : <type 'numpy.ndarray'>\n",
      "the number of experts both in train set and test set: 698L\n"
     ]
    }
   ],
   "source": [
    "train_unique_expert = train.ExpertId.unique()\n",
    "print (\"number of experts in train set: %r \" % train_unique_expert.shape)\n",
    "\n",
    "test_unique_expert = test.ExpertId.unique()\n",
    "print (\"number of experts in test set: %r\" % test_unique_expert.shape)\n",
    "\n",
    "print (\"type : %r\" % type(test_unique_expert))\n",
    "\n",
    "l = np.intersect1d(train_unique_expert,test_unique_expert)\n",
    "print (\"the number of experts both in train set and test set: %r\" % l.shape)\n",
    "# 1417 - 698 = 719, 719 + 8285 = 9004. : 有719个专家是在测试集中新出现的。"
   ]
  },
  {
   "cell_type": "code",
   "execution_count": 8,
   "metadata": {
    "collapsed": false
   },
   "outputs": [],
   "source": [
    "title_train.to_csv('title_train_similarity',encoding='utf-8')\n",
    "title_test.to_csv('title_test_similarity',encoding='utf-8')"
   ]
  },
  {
   "cell_type": "markdown",
   "metadata": {},
   "source": [
    "**至此，数据集title_set构造完成！ used for similarity model** \n",
    "\n",
    "- stop words were not ignored\n",
    "- text was not tokenized and lowercased\n",
    "- no stemming was used"
   ]
  },
  {
   "cell_type": "markdown",
   "metadata": {},
   "source": [
    "**去停用词**"
   ]
  },
  {
   "cell_type": "code",
   "execution_count": null,
   "metadata": {
    "collapsed": true
   },
   "outputs": [],
   "source": [
    "import nltk\n",
    "stopset = set(nltk.corpus.stopwords.words('english'))"
   ]
  },
  {
   "cell_type": "code",
   "execution_count": null,
   "metadata": {
    "collapsed": true
   },
   "outputs": [],
   "source": [
    "texts = list(experts_count.Title)\n",
    "# Tokenize the titles\n",
    "texts = [nltk.word_tokenize(text) for text in texts]\n",
    "# pos tag the tokens\n",
    "txtpos = [nltk.pos_tag(texts) for texts in texts]\n",
    "# for titles we only care about verbs and nouns\n",
    "txtpos = [[w for w in s if (w[1][0] == 'N' or w[1][0] == 'V') and \\\n",
    "           w[0].lower() not in stopset] \n",
    "                  for s in txtpos]"
   ]
  },
  {
   "cell_type": "code",
   "execution_count": null,
   "metadata": {
    "collapsed": true
   },
   "outputs": [],
   "source": []
  },
  {
   "cell_type": "code",
   "execution_count": null,
   "metadata": {
    "collapsed": true
   },
   "outputs": [],
   "source": []
  },
  {
   "cell_type": "code",
   "execution_count": null,
   "metadata": {
    "collapsed": true
   },
   "outputs": [],
   "source": []
  },
  {
   "cell_type": "code",
   "execution_count": null,
   "metadata": {
    "collapsed": true
   },
   "outputs": [],
   "source": [
    "qbodys = list(dfFinal.QuestionBody)\n",
    "#break into sentences\n",
    "qsents = [nltk.sent_tokenize(text) for text in qbodys]\n",
    "# Tokenize the question body\n",
    "qbodys = [nltk.word_tokenize(text) for text in qbodys]\n",
    "# attach tags to the body\n",
    "qpos = [nltk.pos_tag(texts) for texts in qbodys]"
   ]
  },
  {
   "cell_type": "code",
   "execution_count": null,
   "metadata": {
    "collapsed": true
   },
   "outputs": [],
   "source": []
  },
  {
   "cell_type": "code",
   "execution_count": 59,
   "metadata": {
    "collapsed": true
   },
   "outputs": [],
   "source": [
    "import cPickle\n",
    "cPickle.dump([train1, test1], open('data1.pkl','wb'))"
   ]
  },
  {
   "cell_type": "code",
   "execution_count": null,
   "metadata": {
    "collapsed": true
   },
   "outputs": [],
   "source": []
  }
 ],
 "metadata": {
  "kernelspec": {
   "display_name": "Python 2",
   "language": "python",
   "name": "python2"
  },
  "language_info": {
   "codemirror_mode": {
    "name": "ipython",
    "version": 2
   },
   "file_extension": ".py",
   "mimetype": "text/x-python",
   "name": "python",
   "nbconvert_exporter": "python",
   "pygments_lexer": "ipython2",
   "version": "2.7.13"
  }
 },
 "nbformat": 4,
 "nbformat_minor": 2
}
